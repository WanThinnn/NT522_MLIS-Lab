{
  "cells": [
    {
      "cell_type": "code",
      "execution_count": null,
      "metadata": {
        "id": "xRJq78yxmUL5"
      },
      "outputs": [],
      "source": [
        "# Mount Google Drive\n",
        "from google.colab import drive\n",
        "drive.mount('/content/drive', force_remount=True)"
      ]
    },
    {
      "cell_type": "code",
      "execution_count": null,
      "metadata": {
        "collapsed": true,
        "id": "X0PYe2U_oXKH"
      },
      "outputs": [],
      "source": [
        "!pip install pefile\n",
        "!pip install PyGitHub\n",
        "!pip install nltk\n",
        "!pip install scipy"
      ]
    },
    {
      "cell_type": "markdown",
      "metadata": {
        "id": "8rncqKIzJFiR"
      },
      "source": [
        "# **TASK 1**"
      ]
    },
    {
      "cell_type": "code",
      "execution_count": 50,
      "metadata": {
        "colab": {
          "base_uri": "https://localhost:8080/"
        },
        "id": "9Q4KDM4ypbDt",
        "outputId": "9f03a615-4022-4244-fcca-cdd734bf0ccb"
      },
      "outputs": [
        {
          "name": "stdout",
          "output_type": "stream",
          "text": [
            "MD5: c3917c08a7fe85db7203da6dcaa99a70\n",
            "SHA256: cb580eb7dc55f9198e650f016645023e8b2224cf7d033857d12880b46c5c94ef\n"
          ]
        }
      ],
      "source": [
        "import sys\n",
        "import hashlib\n",
        "filename = \"/content/drive/MyDrive/ColabNotebooks/Lab_2/python-3.10.0-amd64.exe\"\n",
        "BUF_SIZE = 65536\n",
        "md5 = hashlib.md5()\n",
        "sha256 = hashlib.sha256()\n",
        "with open(filename, \"rb\") as f:\n",
        " while True:\n",
        "  data = f.read(BUF_SIZE)\n",
        "  if not data:\n",
        "    break\n",
        "  md5.update(data)\n",
        "  sha256.update(data)\n",
        "print(\"MD5: {0}\".format(md5.hexdigest()))\n",
        "print(\"SHA256: {0}\".format(sha256.hexdigest()))"
      ]
    },
    {
      "cell_type": "markdown",
      "metadata": {
        "id": "chKepM6Byc4t"
      },
      "source": [
        "# **TASK 8**"
      ]
    },
    {
      "cell_type": "markdown",
      "metadata": {
        "id": "6ZZqVZJIOp9m"
      },
      "source": [
        "**Bước 1 – Tạo list mẫu và gán nhãn**\n"
      ]
    },
    {
      "cell_type": "code",
      "execution_count": 71,
      "metadata": {
        "colab": {
          "base_uri": "https://localhost:8080/"
        },
        "id": "b6i_oru70OlV",
        "outputId": "ab78f09d-cc5d-4243-e2a8-e2eca3624897"
      },
      "outputs": [
        {
          "name": "stdout",
          "output_type": "stream",
          "text": [
            "['/content/drive/MyDrive/ColabNotebooks/Lab_2/Benign PE Samples 2/chkntfs.exe', '/content/drive/MyDrive/ColabNotebooks/Lab_2/Benign PE Samples 2/ComSvcConfig.exe', '/content/drive/MyDrive/ColabNotebooks/Lab_2/Benign PE Samples 2/ComputerDefaults.exe', '/content/drive/MyDrive/ColabNotebooks/Lab_2/Benign PE Samples 2/CompMgmtLauncher.exe', '/content/drive/MyDrive/ColabNotebooks/Lab_2/Benign PE Samples 2/CompatTelRunner.exe']\n",
            "['/content/drive/MyDrive/ColabNotebooks/Lab_2/Malicious PE Samples 2/5a765351046fea1490d20f25.exe', '/content/drive/MyDrive/ColabNotebooks/Lab_2/Malicious PE Samples 2/abba_-_happy_new_year_zaycev_net.exe', '/content/drive/MyDrive/ColabNotebooks/Lab_2/Malicious PE Samples 2/7ZipSetup.exe', '/content/drive/MyDrive/ColabNotebooks/Lab_2/Malicious PE Samples 2/gchrome.exe', '/content/drive/MyDrive/ColabNotebooks/Lab_2/Malicious PE Samples 2/aapt.exe']\n",
            "[0, 0, 0, 0, 0]\n",
            "[1, 1, 1, 1, 1]\n"
          ]
        }
      ],
      "source": [
        "import os\n",
        "from os import listdir\n",
        "directories_and_labels = [(\"/content/drive/MyDrive/ColabNotebooks/Lab_2/Benign PE Samples 2\", 0),\n",
        "(\"/content/drive/MyDrive/ColabNotebooks/Lab_2/Malicious PE Samples 2\", 1)]\n",
        "list_of_samples = []\n",
        "labels = []\n",
        "N_spec = 2 # For N-grams\n",
        "for dataset_path, label in directories_and_labels:\n",
        "  samples = [f for f in listdir(dataset_path)]\n",
        "  for sample in samples:\n",
        "    file_path = os.path.join(dataset_path, sample)\n",
        "    list_of_samples.append(file_path)\n",
        "    labels.append(label)\n",
        "print(list_of_samples[:5]) # Get the first 5 samples\n",
        "print(list_of_samples[len(list_of_samples) -5: len(list_of_samples)]) # Get the last 5 samples\n",
        "print(labels[:5]) # Get the first 5 samples\n",
        "print(labels[len(list_of_samples) -5: len(list_of_samples)]) # Get the last 5 samples\n"
      ]
    },
    {
      "cell_type": "markdown",
      "metadata": {
        "id": "Jb1httMVJXug"
      },
      "source": [
        "**Bước 2 – Chia tập Train/Test theo tỷ lệ 70% Train – 30% Test**"
      ]
    },
    {
      "cell_type": "code",
      "execution_count": 72,
      "metadata": {
        "id": "pTsqmlwYJZL5"
      },
      "outputs": [],
      "source": [
        "from sklearn.model_selection import train_test_split\n",
        "samples_train, samples_test, target_train, target_test = train_test_split(\n",
        "  list_of_samples,\n",
        "  labels,\n",
        "  test_size=0.3,\n",
        "  stratify = labels,\n",
        "  random_state = 11\n",
        ")"
      ]
    },
    {
      "cell_type": "markdown",
      "metadata": {
        "id": "JPooWRG0JfXk"
      },
      "source": [
        "**Bước 3 – Xây dựng hàm trích xuất thuộc tính**"
      ]
    },
    {
      "cell_type": "code",
      "execution_count": 73,
      "metadata": {
        "id": "NuFyLMBfJgEX"
      },
      "outputs": [],
      "source": [
        "import collections\n",
        "from nltk import ngrams\n",
        "import numpy as np\n",
        "import pefile\n",
        "def read_file(file_path):\n",
        "  with open(file_path, \"rb\") as bin_file:\n",
        "    data = bin_file.read()\n",
        "    return data\n",
        "\n",
        "def byte_seq_to_Ngrams(byte_seq, N_par):\n",
        "  Ngrams_par = ngrams(byte_seq, N_par)\n",
        "  return list(Ngrams_par)\n",
        "\n",
        "def bin_file_to_Ngrams_count(file_path, N_par):\n",
        "  file_seq = read_file(file_path)\n",
        "  file_Ngrams = byte_seq_to_Ngrams(file_seq, N_par)\n",
        "  return collections.Counter(file_Ngrams)\n",
        "\n",
        "def get_Ngrams_features_from_samples(sample, K1_most_freq_Ngrams_list):\n",
        "  K1 = len(K1_most_freq_Ngrams_list)\n",
        "  feature_vector = K1 * [0]\n",
        "  file_Ngrams = bin_file_to_Ngrams_count(sample, N_spec)\n",
        "  for i in range(K1):\n",
        "    feature_vector[i] = file_Ngrams[K1_most_freq_Ngrams_list[i]]\n",
        "  return feature_vector\n",
        "\n",
        "def preprocess_imports(list_of_DLLs):\n",
        "  \"\"\" Normalize the name of the imports of a PE file. \"\"\"\n",
        "  temp = [x.decode().split(\".\")[0].lower() for x in list_of_DLLs] # View the transforming of below example\n",
        "  return \" \".join(temp)\n",
        "\n",
        "def get_imports(pe):\n",
        "  \"\"\" Get a list of the imports of a PE file \"\"\"\n",
        "  list_of_imports = []\n",
        "  for entry in pe.DIRECTORY_ENTRY_IMPORT:\n",
        "    list_of_imports.append(entry.dll)\n",
        "  return preprocess_imports(list_of_imports)\n",
        "\n",
        "\n",
        "def get_section_names(pe):\n",
        "  \"\"\" Get a list of the section names of a PE file \"\"\"\n",
        "  list_of_sections = []\n",
        "  for sect in pe.sections:\n",
        "    normalized_name = sect.Name.decode().replace(\"\\x00\", \"\").lower()\n",
        "    list_of_sections.append(normalized_name)\n",
        "  return \"\".join(list_of_sections)"
      ]
    },
    {
      "cell_type": "markdown",
      "metadata": {
        "id": "DiGEQ_Y3J2VZ"
      },
      "source": [
        "**Bước 4 – Lấy 100 N-grams phổ biến nhất**"
      ]
    },
    {
      "cell_type": "code",
      "execution_count": 74,
      "metadata": {
        "id": "usKIZQ1SJ4Ru"
      },
      "outputs": [],
      "source": [
        "Ngrams_count_all = collections.Counter([])\n",
        "for sample in samples_train:\n",
        "  Ngrams_count_all += bin_file_to_Ngrams_count(sample, N_spec)\n",
        "K1 = 100\n",
        "K1_most_common_Ngrams = Ngrams_count_all.most_common(K1)\n",
        "K1_most_common_Ngrams_list = [x[0] for x in K1_most_common_Ngrams]"
      ]
    },
    {
      "cell_type": "markdown",
      "metadata": {
        "id": "WFf1836fJ6Sl"
      },
      "source": [
        "**Bước 5 – Trích xuất thuộc tính cho tập Train**\n"
      ]
    },
    {
      "cell_type": "code",
      "execution_count": 75,
      "metadata": {
        "id": "LXQgheNSJ65B"
      },
      "outputs": [],
      "source": [
        "imports_corpus_train = []\n",
        "num_sect_train = []\n",
        "sect_name_train = []\n",
        "Ngram_feat_list_train = []\n",
        "\n",
        "y_train = []"
      ]
    },
    {
      "cell_type": "code",
      "execution_count": 76,
      "metadata": {
        "colab": {
          "base_uri": "https://localhost:8080/"
        },
        "id": "9GBPsHn9J-Hg",
        "outputId": "39fc97f9-5929-45a6-c033-59e10744a3d6"
      },
      "outputs": [
        {
          "name": "stdout",
          "output_type": "stream",
          "text": [
            "/content/drive/MyDrive/ColabNotebooks/Lab_2/Benign PE Samples 2/cmak.exe:\n",
            "'DOS Header magic not found.'\n",
            "/content/drive/MyDrive/ColabNotebooks/Lab_2/Benign PE Samples 2/dcdiag.exe:\n",
            "'DOS Header magic not found.'\n"
          ]
        }
      ],
      "source": [
        "\n",
        "for i in range(len(samples_train)):\n",
        "  sample = samples_train[i]\n",
        "  try:\n",
        "    # Get all required parameters with predefined functions\n",
        "    Ngram_features = get_Ngrams_features_from_samples(sample, K1_most_common_Ngrams_list)\n",
        "    pe = pefile.PE(sample)\n",
        "    imports = get_imports(pe)\n",
        "    n_sections = len(pe.sections)\n",
        "    sec_names = get_section_names(pe)\n",
        "\n",
        "    # Put above value into lists\n",
        "    imports_corpus_train.append(imports)\n",
        "    num_sect_train.append(n_sections)\n",
        "    sect_name_train.append(sec_names)\n",
        "    Ngram_feat_list_train.append(Ngram_features)\n",
        "\n",
        "    # Target train\n",
        "    y_train.append(target_train[i])\n",
        "  except Exception as e:\n",
        "    print(sample + \":\")\n",
        "    print(e)"
      ]
    },
    {
      "cell_type": "markdown",
      "metadata": {
        "id": "9aZnKWtKJ__p"
      },
      "source": [
        "**Bước 6 - Sử dụng hàm băm tfidf để chuyển imports, section names từ văn bản thành dạng số**\n"
      ]
    },
    {
      "cell_type": "code",
      "execution_count": 77,
      "metadata": {
        "id": "TWHhfhXuKBTe"
      },
      "outputs": [],
      "source": [
        "from sklearn.feature_extraction.text import HashingVectorizer, TfidfTransformer\n",
        "from sklearn.pipeline import Pipeline"
      ]
    },
    {
      "cell_type": "code",
      "execution_count": 78,
      "metadata": {
        "id": "LsKbCj2oKHUL"
      },
      "outputs": [],
      "source": [
        "imports_featurizer = Pipeline(\n",
        "    [\n",
        "        (\"vect\", HashingVectorizer(input = \"content\", ngram_range=(1,2))),\n",
        "        (\"tfidf\", TfidfTransformer(use_idf = True,)),\n",
        "    ]\n",
        ")"
      ]
    },
    {
      "cell_type": "code",
      "execution_count": 79,
      "metadata": {
        "id": "xO27c4k-KJvF"
      },
      "outputs": [],
      "source": [
        "sect_name_featurizer = Pipeline(\n",
        "    [\n",
        "        (\"vect\", HashingVectorizer(input = \"content\", ngram_range= (1,2))),\n",
        "        (\"tfidf\", TfidfTransformer(use_idf = True))\n",
        "    ]\n",
        ")"
      ]
    },
    {
      "cell_type": "code",
      "execution_count": 80,
      "metadata": {
        "id": "C14flQG2KLoW"
      },
      "outputs": [],
      "source": [
        "imports_corpus_train_transformed = imports_featurizer.fit_transform(imports_corpus_train)\n",
        "sect_name_train_transformed = sect_name_featurizer.fit_transform(sect_name_train)\n"
      ]
    },
    {
      "cell_type": "markdown",
      "metadata": {
        "id": "L2Cs0I0KKPEO"
      },
      "source": [
        "**Bước 7 - Kết hợp các vector thuộc tính thành 1 mảng**\n"
      ]
    },
    {
      "cell_type": "code",
      "execution_count": 81,
      "metadata": {
        "id": "hBaUNDpuKPjy"
      },
      "outputs": [],
      "source": [
        "from scipy.sparse import hstack, csr_matrix\n"
      ]
    },
    {
      "cell_type": "code",
      "execution_count": 82,
      "metadata": {
        "id": "bzMqHxkMKRZT"
      },
      "outputs": [],
      "source": [
        "X_train = hstack(\n",
        "    [\n",
        "        Ngram_feat_list_train,\n",
        "        imports_corpus_train_transformed,\n",
        "        sect_name_train_transformed,\n",
        "        csr_matrix(num_sect_train).transpose(),\n",
        "    ]\n",
        ")\n"
      ]
    },
    {
      "cell_type": "markdown",
      "metadata": {
        "id": "r6Yp3wK0KVLf"
      },
      "source": [
        "**Bước 8 - Huấn luyện  Random Forest cho tập**\n",
        "\n"
      ]
    },
    {
      "cell_type": "code",
      "execution_count": 83,
      "metadata": {
        "id": "lDhhJxVnKVtd"
      },
      "outputs": [],
      "source": [
        "from sklearn.ensemble import RandomForestClassifier\n"
      ]
    },
    {
      "cell_type": "code",
      "execution_count": 84,
      "metadata": {
        "id": "BLP7fcFKKYSF"
      },
      "outputs": [],
      "source": [
        "clf = RandomForestClassifier(n_estimators = 100)\n",
        "clf = clf.fit(X_train, y_train)"
      ]
    },
    {
      "cell_type": "markdown",
      "metadata": {
        "id": "wzDz2l8pKZ6L"
      },
      "source": [
        "**Bước 9 - Thu thập các thuộc tính của tập test, giống như tập huấn luyện**"
      ]
    },
    {
      "cell_type": "code",
      "execution_count": 85,
      "metadata": {
        "id": "s8GHnnKyKbop"
      },
      "outputs": [],
      "source": [
        "import_corpus_test = []\n",
        "num_sect_test = []\n",
        "sect_names_test = []\n",
        "Ngram_feat_list_test = []\n",
        "\n",
        "y_test = []"
      ]
    },
    {
      "cell_type": "code",
      "execution_count": null,
      "metadata": {
        "id": "QDpR9xkCKdXg"
      },
      "outputs": [],
      "source": [
        "for i in range(len(samples_test)):\n",
        "  test = samples_test[i]\n",
        "  try:\n",
        "    # Get all required parameters with predefined functions\n",
        "    # The input when getting N-grams features is still \"sample\"\n",
        "    Ngram_features = get_Ngrams_features_from_samples(sample, K1_most_common_Ngrams_list)\n",
        "    pe = pefile.PE(test) # Get test PE file\n",
        "    imports = get_imports(pe)\n",
        "    n_sections = len(pe.sections)\n",
        "    sec_names = get_section_names(pe)\n",
        "\n",
        "    # Put above value into lists\n",
        "    import_corpus_test.append(imports)\n",
        "    num_sect_test.append(n_sections)\n",
        "    sect_names_test.append(sec_names)\n",
        "    Ngram_feat_list_test.append(Ngram_features)\n",
        "\n",
        "    # Target train\n",
        "    y_test.append(target_test[i])\n",
        "  except Exception as e:\n",
        "    print(sample + \":\")\n",
        "    print(e)\n"
      ]
    },
    {
      "cell_type": "code",
      "execution_count": 87,
      "metadata": {
        "colab": {
          "base_uri": "https://localhost:8080/"
        },
        "collapsed": true,
        "id": "_nZf8KgAKfsY",
        "outputId": "a19fc2f3-08fd-4108-a459-ae565f70b507"
      },
      "outputs": [
        {
          "data": {
            "text/plain": [
              "[0,\n",
              " 0,\n",
              " 0,\n",
              " 0,\n",
              " 0,\n",
              " 0,\n",
              " 0,\n",
              " 0,\n",
              " 0,\n",
              " 0,\n",
              " 0,\n",
              " 0,\n",
              " 0,\n",
              " 0,\n",
              " 1,\n",
              " 0,\n",
              " 0,\n",
              " 0,\n",
              " 0,\n",
              " 0,\n",
              " 0,\n",
              " 1,\n",
              " 0,\n",
              " 0,\n",
              " 0,\n",
              " 0,\n",
              " 0,\n",
              " 0,\n",
              " 0]"
            ]
          },
          "execution_count": 87,
          "metadata": {},
          "output_type": "execute_result"
        }
      ],
      "source": [
        "y_test\n"
      ]
    },
    {
      "cell_type": "markdown",
      "metadata": {
        "id": "zCGjysx3Lwdx"
      },
      "source": [
        "**Bước 10 - Chuyển đổi vector từ thuộc tính test, và kiểm tra kết quả của trình phân loại**\n"
      ]
    },
    {
      "cell_type": "code",
      "execution_count": 90,
      "metadata": {
        "id": "9xn3IfcDLzLA"
      },
      "outputs": [],
      "source": [
        "import_corpus_test_transformed = imports_featurizer.transform(import_corpus_test)\n",
        "sect_names_test_transformed = imports_featurizer.transform(sect_names_test)\n",
        "X_test = hstack(\n",
        "    [\n",
        "        Ngram_feat_list_test,\n",
        "        import_corpus_test_transformed,\n",
        "        sect_names_test_transformed,\n",
        "        csr_matrix(num_sect_test).transpose()\n",
        "    ]\n",
        ")"
      ]
    },
    {
      "cell_type": "code",
      "execution_count": 91,
      "metadata": {
        "colab": {
          "base_uri": "https://localhost:8080/"
        },
        "id": "BiqNick6MGhf",
        "outputId": "7ca9a78d-d43f-4a35-8320-9bc60b49b771"
      },
      "outputs": [
        {
          "name": "stdout",
          "output_type": "stream",
          "text": [
            "The score of our classifier is as follow: \n",
            "0.9310344827586207\n"
          ]
        }
      ],
      "source": [
        "print(\"The score of our classifier is as follow: \")\n",
        "print(clf.score(X_test, y_test))\n"
      ]
    }
  ],
  "metadata": {
    "accelerator": "GPU",
    "colab": {
      "gpuType": "T4",
      "provenance": []
    },
    "kernelspec": {
      "display_name": "Python 3",
      "name": "python3"
    },
    "language_info": {
      "name": "python"
    }
  },
  "nbformat": 4,
  "nbformat_minor": 0
}
