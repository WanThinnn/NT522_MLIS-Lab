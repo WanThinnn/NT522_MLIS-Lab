{
  "cells": [
    {
      "cell_type": "markdown",
      "metadata": {
        "id": "nM0tPcaUFbkN"
      },
      "source": [
        "# **NT522.P21.ANTT - Lab 5**\n",
        "\n",
        "# **Phát hiện bất thường mạng sử dụng mô hình GRU**\n",
        "Trong bài thực hành này, ta sẽ tạo và huấn luyện mô hình GRU để phát hiện xâm nhập mạng.\n"
      ]
    },
    {
      "cell_type": "markdown",
      "metadata": {
        "id": "k_zsXwnvv1yc"
      },
      "source": [
        "# **A. Hướng dẫn xây dựng mô hình phân loại 2 lớp**\n",
        "\n",
        "\n",
        "\n"
      ]
    },
    {
      "cell_type": "markdown",
      "metadata": {
        "id": "BwX0MmK5IvvR"
      },
      "source": [
        "## **1. Đọc tập dữ liệu KDD99**"
      ]
    },
    {
      "cell_type": "code",
      "execution_count": null,
      "metadata": {
        "id": "z1E_TeVeJQ5O"
      },
      "outputs": [],
      "source": [
        "import pandas as pd\n",
        "import numpy as np\n",
        "import tensorflow as tf\n",
        "from tensorflow import keras\n",
        "import pandas as pd\n",
        "import seaborn as sns\n",
        "import matplotlib.pyplot as plt\n",
        "from sklearn import metrics\n",
        "\n",
        "from tensorflow.keras.utils import get_file\n",
        "try:\n",
        "    path = get_file('kddcup.data_10_percent.gz', origin='http://kdd.ics.uci.edu/databases/kddcup99/kddcup.data_10_percent.gz')\n",
        "except:\n",
        "    print('Error downloading')\n",
        "    raise\n",
        "\n",
        "print(path)"
      ]
    },
    {
      "cell_type": "code",
      "execution_count": null,
      "metadata": {
        "id": "q7XZf1CtJ4JQ"
      },
      "outputs": [],
      "source": [
        "df = pd.read_csv(path, header=None)\n",
        "print(\"Read {} rows.\".format(len(df)))"
      ]
    },
    {
      "cell_type": "code",
      "execution_count": null,
      "metadata": {
        "id": "iAFXXcVaJ8Ie"
      },
      "outputs": [],
      "source": [
        "# CSV không có header\n",
        "df.columns = ['duration','protocol_type','service','flag','src_bytes','dst_bytes','land','wrong_fragment','urgent','hot',\n",
        "              'num_failed_logins','logged_in','num_compromised','root_shell', 'su_attempted','num_root','num_file_creations','num_shells',\n",
        "              'num_access_files','num_outbound_cmds','is_host_login','is_guest_login','count','srv_count','serror_rate','srv_serror_rate',\n",
        "              'rerror_rate','srv_rerror_rate','same_srv_rate','diff_srv_rate','srv_diff_host_rate','dst_host_count','dst_host_srv_count',\n",
        "              'dst_host_same_srv_rate','dst_host_diff_srv_rate','dst_host_same_src_port_rate','dst_host_srv_diff_host_rate','dst_host_serror_rate',\n",
        "              'dst_host_srv_serror_rate','dst_host_rerror_rate','dst_host_srv_rerror_rate','outcome']\n",
        "df.head()"
      ]
    },
    {
      "cell_type": "markdown",
      "metadata": {
        "id": "q4T-im0lKUvv"
      },
      "source": [
        "## **2. Xử lý dữ liệu**"
      ]
    },
    {
      "cell_type": "code",
      "execution_count": null,
      "metadata": {
        "id": "8OVcSrk4PSWx"
      },
      "outputs": [],
      "source": [
        "df.shape"
      ]
    },
    {
      "cell_type": "code",
      "execution_count": null,
      "metadata": {
        "id": "GF_8-gPGKawV"
      },
      "outputs": [],
      "source": [
        "df.dropna(inplace=True,axis=1)\n",
        "df.shape"
      ]
    },
    {
      "cell_type": "code",
      "execution_count": null,
      "metadata": {
        "id": "LGL7sWXOLD5l"
      },
      "outputs": [],
      "source": [
        "df.dtypes"
      ]
    },
    {
      "cell_type": "code",
      "execution_count": null,
      "metadata": {
        "id": "bbdx6dT3LG5v"
      },
      "outputs": [],
      "source": [
        "df.groupby('outcome')['outcome'].count()"
      ]
    },
    {
      "cell_type": "markdown",
      "metadata": {
        "id": "AJ-X9QvFNBMV"
      },
      "source": [
        "## **3. Encode dữ liệu số và chữ**"
      ]
    },
    {
      "cell_type": "code",
      "execution_count": null,
      "metadata": {
        "id": "DHVSX8JuNee9"
      },
      "outputs": [],
      "source": [
        "def encode_numeric_zscore(df, name, mean=None, sd=None):\n",
        "    if mean is None:\n",
        "        mean = df[name].mean()\n",
        "\n",
        "    if sd is None:\n",
        "        sd = df[name].std()\n",
        "\n",
        "    df[name] = (df[name] - mean) / sd\n",
        "\n",
        "def encode_text_dummy(df, name):\n",
        "    dummies = pd.get_dummies(df[name])\n",
        "    for x in dummies.columns:\n",
        "        dummy_name = f\"{name}-{x}\"\n",
        "        df[dummy_name] = dummies[x]\n",
        "    df.drop(name, axis=1, inplace=True)"
      ]
    },
    {
      "cell_type": "code",
      "execution_count": null,
      "metadata": {
        "id": "XPWe0f1iN_TX"
      },
      "outputs": [],
      "source": [
        "#encoding feature vector\n",
        "text_col =['protocol_type', 'service', 'flag', 'land', 'logged_in', 'is_host_login', 'is_guest_login', ]\n",
        "\n",
        "for i in df.columns:\n",
        "  if i not in text_col:\n",
        "    if i != 'outcome':\n",
        "      encode_numeric_zscore(df, i)\n",
        "\n",
        "for x in text_col:\n",
        "  encode_text_dummy(df, x)"
      ]
    },
    {
      "cell_type": "code",
      "execution_count": null,
      "metadata": {
        "id": "afhYSbcIOC8L"
      },
      "outputs": [],
      "source": [
        "df.dropna(inplace=True,axis=1)\n",
        "df[0:5]"
      ]
    },
    {
      "cell_type": "code",
      "execution_count": null,
      "metadata": {
        "id": "oewXPZqvOFkn"
      },
      "outputs": [],
      "source": [
        "df['protocol_type-tcp'].unique()"
      ]
    },
    {
      "cell_type": "code",
      "execution_count": null,
      "metadata": {
        "id": "_mdW2Gn8oIV0"
      },
      "outputs": [],
      "source": [
        "df.loc[df[\"outcome\"] != \"normal.\", \"outcome\"] = 1\n",
        "df.loc[df[\"outcome\"] == \"normal.\", \"outcome\"] = 0"
      ]
    },
    {
      "cell_type": "code",
      "execution_count": null,
      "metadata": {
        "id": "Q6ZuB4B2mLTq"
      },
      "outputs": [],
      "source": [
        "y = df['outcome']\n",
        "df.drop('outcome',axis=1,inplace=True)"
      ]
    },
    {
      "cell_type": "code",
      "execution_count": null,
      "metadata": {
        "id": "jR62As9xOWgS"
      },
      "outputs": [],
      "source": [
        "from sklearn.model_selection import train_test_split\n",
        "\n",
        "x_train, x_test, y_train, y_test = train_test_split(df, y,  test_size=0.3, random_state=12)\n",
        "\n",
        "print(f\"Normal train count: {x_train.shape, y_train.shape}\")\n",
        "print(f\"Normal test count: {x_test.shape, y_test.shape}\")"
      ]
    },
    {
      "cell_type": "code",
      "execution_count": null,
      "metadata": {
        "id": "bGhQxN9Erddh"
      },
      "outputs": [],
      "source": [
        "y_train = tf.one_hot(y_train.values, 2)\n",
        "y_test = tf.one_hot(y_test.values, 2)"
      ]
    },
    {
      "cell_type": "markdown",
      "metadata": {
        "id": "ijTzh8zaRAaL"
      },
      "source": [
        "## **4. Kiến trúc mô hình GRU**"
      ]
    },
    {
      "cell_type": "code",
      "execution_count": null,
      "metadata": {
        "id": "rw3mtPKXRIO7"
      },
      "outputs": [],
      "source": [
        "model = keras.Sequential()\n",
        "model.add(keras.layers.GRU(units=64, input_shape=(x_train.shape[1],1)))\n",
        "model.add(keras.layers.Dropout(rate=0.8))\n",
        "model.add(keras.layers.Dense(units=y_train.shape[1], activation='sigmoid'))\n",
        "\n",
        "model.compile(loss='binary_crossentropy', optimizer='adam', metrics=['accuracy'])\n",
        "model.summary()"
      ]
    },
    {
      "cell_type": "markdown",
      "metadata": {
        "id": "1lzvaeCHRLIx"
      },
      "source": [
        "## **5. Huấn luyện mô hình**"
      ]
    },
    {
      "cell_type": "code",
      "execution_count": null,
      "metadata": {
        "id": "_Tudhs8hRN2N"
      },
      "outputs": [],
      "source": [
        "history = model.fit(\n",
        "    x_train, y_train,\n",
        "    epochs=2,\n",
        "    batch_size=1024,\n",
        "    validation_split=0.2,\n",
        "    shuffle = False\n",
        ")"
      ]
    },
    {
      "cell_type": "code",
      "execution_count": null,
      "metadata": {
        "id": "XUMYKjgsRrMw"
      },
      "outputs": [],
      "source": [
        "plt.plot(history.history['loss'], label='train')\n",
        "plt.plot(history.history['val_loss'], label='validation')\n",
        "plt.legend()"
      ]
    },
    {
      "cell_type": "markdown",
      "metadata": {
        "id": "LVlUSdVGRugR"
      },
      "source": [
        "## **6. Đánh giá mô hình**"
      ]
    },
    {
      "cell_type": "code",
      "execution_count": null,
      "metadata": {
        "id": "I36BQve6TUbn"
      },
      "outputs": [],
      "source": [
        "score1 = model.evaluate(x_train, y_train, batch_size=1024)"
      ]
    },
    {
      "cell_type": "markdown",
      "metadata": {
        "id": "b5-msV70WqYa"
      },
      "source": [
        "# **B. Bài tập**\n",
        "\n",
        "\n",
        "1.   **Yêu cầu 1 (Tại lớp): Dựa trên hướng dẫn A hãy xây dựng một mô hình phân loại đa lớp (Multiclass Classification) với bộ dữ liệu KDD99.**\n",
        "2.   **Yêu cầu 2 (Về nhà): Sinh viên chạy lại tập dữ liệu [CIC IoT dataset 2023](https://www.unb.ca/cic/datasets/iotdataset-2023.html) trên mô hình bài lab này ở cả Multiclass Classification và Binary Classification.**\n",
        "\n",
        "\n",
        "\n"
      ]
    },
    {
      "cell_type": "code",
      "execution_count": null,
      "metadata": {
        "id": "ZOZjlbDdUIDK"
      },
      "outputs": [],
      "source": [
        "# Import necessary libraries\n",
        "import glob\n",
        "import os\n",
        "import pandas as pd\n",
        "import numpy as np\n",
        "import tensorflow as tf\n",
        "from tensorflow import keras\n",
        "import seaborn as sns\n",
        "import matplotlib.pyplot as plt\n",
        "from sklearn import metrics\n",
        "from sklearn.model_selection import train_test_split\n",
        "from sklearn.preprocessing import LabelEncoder\n",
        "from tensorflow.keras.utils import get_file"
      ]
    },
    {
      "cell_type": "markdown",
      "metadata": {
        "id": "vu6sgV6sUIDK"
      },
      "source": [
        "## **Yêu Cầu 1: Dựa trên hướng dẫn A hãy xây dựng một mô hình phân loại đa lớp (Multiclass Classification) với bộ dữ liệu KDD99**"
      ]
    },
    {
      "cell_type": "markdown",
      "metadata": {
        "id": "UNYX5ptPUIDK"
      },
      "source": [
        "### **1. Đọc tập dữ liệu KDD99**"
      ]
    },
    {
      "cell_type": "code",
      "execution_count": null,
      "metadata": {
        "id": "4PA7iOtoUIDK",
        "outputId": "85a24676-4568-423c-b9ae-abb3421fcdf8"
      },
      "outputs": [
        {
          "name": "stdout",
          "output_type": "stream",
          "text": [
            "/Users/tranthehuuphuc/.keras/datasets/kddcup.data_10_percent.gz\n",
            "Read 494021 rows.\n"
          ]
        }
      ],
      "source": [
        "try:\n",
        "    path = get_file('kddcup.data_10_percent.gz',\n",
        "                    origin='http://kdd.ics.uci.edu/databases/kddcup99/kddcup.data_10_percent.gz')\n",
        "except:\n",
        "    print('Error downloading KDD99 dataset')\n",
        "    raise\n",
        "\n",
        "print(path)\n",
        "\n",
        "df = pd.read_csv(path, header=None)\n",
        "print(\"Read {} rows.\".format(len(df)))"
      ]
    },
    {
      "cell_type": "code",
      "execution_count": null,
      "metadata": {
        "id": "AzeO_9HDUIDL",
        "outputId": "8aded414-3db2-48cf-80fb-d913baee7a9f"
      },
      "outputs": [
        {
          "data": {
            "text/html": [
              "<div>\n",
              "<style scoped>\n",
              "    .dataframe tbody tr th:only-of-type {\n",
              "        vertical-align: middle;\n",
              "    }\n",
              "\n",
              "    .dataframe tbody tr th {\n",
              "        vertical-align: top;\n",
              "    }\n",
              "\n",
              "    .dataframe thead th {\n",
              "        text-align: right;\n",
              "    }\n",
              "</style>\n",
              "<table border=\"1\" class=\"dataframe\">\n",
              "  <thead>\n",
              "    <tr style=\"text-align: right;\">\n",
              "      <th></th>\n",
              "      <th>duration</th>\n",
              "      <th>protocol_type</th>\n",
              "      <th>service</th>\n",
              "      <th>flag</th>\n",
              "      <th>src_bytes</th>\n",
              "      <th>dst_bytes</th>\n",
              "      <th>land</th>\n",
              "      <th>wrong_fragment</th>\n",
              "      <th>urgent</th>\n",
              "      <th>hot</th>\n",
              "      <th>...</th>\n",
              "      <th>dst_host_srv_count</th>\n",
              "      <th>dst_host_same_srv_rate</th>\n",
              "      <th>dst_host_diff_srv_rate</th>\n",
              "      <th>dst_host_same_src_port_rate</th>\n",
              "      <th>dst_host_srv_diff_host_rate</th>\n",
              "      <th>dst_host_serror_rate</th>\n",
              "      <th>dst_host_srv_serror_rate</th>\n",
              "      <th>dst_host_rerror_rate</th>\n",
              "      <th>dst_host_srv_rerror_rate</th>\n",
              "      <th>outcome</th>\n",
              "    </tr>\n",
              "  </thead>\n",
              "  <tbody>\n",
              "    <tr>\n",
              "      <th>0</th>\n",
              "      <td>0</td>\n",
              "      <td>tcp</td>\n",
              "      <td>http</td>\n",
              "      <td>SF</td>\n",
              "      <td>181</td>\n",
              "      <td>5450</td>\n",
              "      <td>0</td>\n",
              "      <td>0</td>\n",
              "      <td>0</td>\n",
              "      <td>0</td>\n",
              "      <td>...</td>\n",
              "      <td>9</td>\n",
              "      <td>1.0</td>\n",
              "      <td>0.0</td>\n",
              "      <td>0.11</td>\n",
              "      <td>0.0</td>\n",
              "      <td>0.0</td>\n",
              "      <td>0.0</td>\n",
              "      <td>0.0</td>\n",
              "      <td>0.0</td>\n",
              "      <td>normal.</td>\n",
              "    </tr>\n",
              "    <tr>\n",
              "      <th>1</th>\n",
              "      <td>0</td>\n",
              "      <td>tcp</td>\n",
              "      <td>http</td>\n",
              "      <td>SF</td>\n",
              "      <td>239</td>\n",
              "      <td>486</td>\n",
              "      <td>0</td>\n",
              "      <td>0</td>\n",
              "      <td>0</td>\n",
              "      <td>0</td>\n",
              "      <td>...</td>\n",
              "      <td>19</td>\n",
              "      <td>1.0</td>\n",
              "      <td>0.0</td>\n",
              "      <td>0.05</td>\n",
              "      <td>0.0</td>\n",
              "      <td>0.0</td>\n",
              "      <td>0.0</td>\n",
              "      <td>0.0</td>\n",
              "      <td>0.0</td>\n",
              "      <td>normal.</td>\n",
              "    </tr>\n",
              "    <tr>\n",
              "      <th>2</th>\n",
              "      <td>0</td>\n",
              "      <td>tcp</td>\n",
              "      <td>http</td>\n",
              "      <td>SF</td>\n",
              "      <td>235</td>\n",
              "      <td>1337</td>\n",
              "      <td>0</td>\n",
              "      <td>0</td>\n",
              "      <td>0</td>\n",
              "      <td>0</td>\n",
              "      <td>...</td>\n",
              "      <td>29</td>\n",
              "      <td>1.0</td>\n",
              "      <td>0.0</td>\n",
              "      <td>0.03</td>\n",
              "      <td>0.0</td>\n",
              "      <td>0.0</td>\n",
              "      <td>0.0</td>\n",
              "      <td>0.0</td>\n",
              "      <td>0.0</td>\n",
              "      <td>normal.</td>\n",
              "    </tr>\n",
              "    <tr>\n",
              "      <th>3</th>\n",
              "      <td>0</td>\n",
              "      <td>tcp</td>\n",
              "      <td>http</td>\n",
              "      <td>SF</td>\n",
              "      <td>219</td>\n",
              "      <td>1337</td>\n",
              "      <td>0</td>\n",
              "      <td>0</td>\n",
              "      <td>0</td>\n",
              "      <td>0</td>\n",
              "      <td>...</td>\n",
              "      <td>39</td>\n",
              "      <td>1.0</td>\n",
              "      <td>0.0</td>\n",
              "      <td>0.03</td>\n",
              "      <td>0.0</td>\n",
              "      <td>0.0</td>\n",
              "      <td>0.0</td>\n",
              "      <td>0.0</td>\n",
              "      <td>0.0</td>\n",
              "      <td>normal.</td>\n",
              "    </tr>\n",
              "    <tr>\n",
              "      <th>4</th>\n",
              "      <td>0</td>\n",
              "      <td>tcp</td>\n",
              "      <td>http</td>\n",
              "      <td>SF</td>\n",
              "      <td>217</td>\n",
              "      <td>2032</td>\n",
              "      <td>0</td>\n",
              "      <td>0</td>\n",
              "      <td>0</td>\n",
              "      <td>0</td>\n",
              "      <td>...</td>\n",
              "      <td>49</td>\n",
              "      <td>1.0</td>\n",
              "      <td>0.0</td>\n",
              "      <td>0.02</td>\n",
              "      <td>0.0</td>\n",
              "      <td>0.0</td>\n",
              "      <td>0.0</td>\n",
              "      <td>0.0</td>\n",
              "      <td>0.0</td>\n",
              "      <td>normal.</td>\n",
              "    </tr>\n",
              "  </tbody>\n",
              "</table>\n",
              "<p>5 rows × 42 columns</p>\n",
              "</div>"
            ],
            "text/plain": [
              "   duration protocol_type service flag  src_bytes  dst_bytes  land  \\\n",
              "0         0           tcp    http   SF        181       5450     0   \n",
              "1         0           tcp    http   SF        239        486     0   \n",
              "2         0           tcp    http   SF        235       1337     0   \n",
              "3         0           tcp    http   SF        219       1337     0   \n",
              "4         0           tcp    http   SF        217       2032     0   \n",
              "\n",
              "   wrong_fragment  urgent  hot  ...  dst_host_srv_count  \\\n",
              "0               0       0    0  ...                   9   \n",
              "1               0       0    0  ...                  19   \n",
              "2               0       0    0  ...                  29   \n",
              "3               0       0    0  ...                  39   \n",
              "4               0       0    0  ...                  49   \n",
              "\n",
              "   dst_host_same_srv_rate  dst_host_diff_srv_rate  \\\n",
              "0                     1.0                     0.0   \n",
              "1                     1.0                     0.0   \n",
              "2                     1.0                     0.0   \n",
              "3                     1.0                     0.0   \n",
              "4                     1.0                     0.0   \n",
              "\n",
              "   dst_host_same_src_port_rate  dst_host_srv_diff_host_rate  \\\n",
              "0                         0.11                          0.0   \n",
              "1                         0.05                          0.0   \n",
              "2                         0.03                          0.0   \n",
              "3                         0.03                          0.0   \n",
              "4                         0.02                          0.0   \n",
              "\n",
              "   dst_host_serror_rate  dst_host_srv_serror_rate  dst_host_rerror_rate  \\\n",
              "0                   0.0                       0.0                   0.0   \n",
              "1                   0.0                       0.0                   0.0   \n",
              "2                   0.0                       0.0                   0.0   \n",
              "3                   0.0                       0.0                   0.0   \n",
              "4                   0.0                       0.0                   0.0   \n",
              "\n",
              "   dst_host_srv_rerror_rate  outcome  \n",
              "0                       0.0  normal.  \n",
              "1                       0.0  normal.  \n",
              "2                       0.0  normal.  \n",
              "3                       0.0  normal.  \n",
              "4                       0.0  normal.  \n",
              "\n",
              "[5 rows x 42 columns]"
            ]
          },
          "execution_count": 10,
          "metadata": {},
          "output_type": "execute_result"
        }
      ],
      "source": [
        "# Đặt tên cột\n",
        "df.columns = ['duration','protocol_type','service','flag','src_bytes','dst_bytes','land','wrong_fragment','urgent','hot',\n",
        "                'num_failed_logins','logged_in','num_compromised','root_shell', 'su_attempted','num_root','num_file_creations','num_shells',\n",
        "                'num_access_files','num_outbound_cmds','is_host_login','is_guest_login','count','srv_count','serror_rate','srv_serror_rate',\n",
        "                'rerror_rate','srv_rerror_rate','same_srv_rate','diff_srv_rate','srv_diff_host_rate','dst_host_count','dst_host_srv_count',\n",
        "                'dst_host_same_srv_rate','dst_host_diff_srv_rate','dst_host_same_src_port_rate','dst_host_srv_diff_host_rate','dst_host_serror_rate',\n",
        "                'dst_host_srv_serror_rate','dst_host_rerror_rate','dst_host_srv_rerror_rate','outcome']\n",
        "\n",
        "df.head()"
      ]
    },
    {
      "cell_type": "markdown",
      "metadata": {
        "id": "kfavvwqaUIDL"
      },
      "source": [
        "### **2. Xử lý dữ liệu**"
      ]
    },
    {
      "cell_type": "code",
      "execution_count": null,
      "metadata": {
        "id": "6TIrPCM0UIDL",
        "outputId": "6499daae-7db6-4550-bd46-9901bc54c694"
      },
      "outputs": [
        {
          "data": {
            "text/plain": [
              "(494021, 42)"
            ]
          },
          "execution_count": 11,
          "metadata": {},
          "output_type": "execute_result"
        }
      ],
      "source": [
        "df.shape"
      ]
    },
    {
      "cell_type": "code",
      "execution_count": null,
      "metadata": {
        "id": "RKm5LK_0UIDM",
        "outputId": "598f3b8f-c84c-4a5b-9391-52d4f7b555a6"
      },
      "outputs": [
        {
          "data": {
            "text/plain": [
              "(494021, 42)"
            ]
          },
          "execution_count": 12,
          "metadata": {},
          "output_type": "execute_result"
        }
      ],
      "source": [
        "df.dropna(inplace=True, axis=1)\n",
        "df.shape"
      ]
    },
    {
      "cell_type": "code",
      "execution_count": null,
      "metadata": {
        "id": "ANnyEcDvUIDM",
        "outputId": "0b2cd0be-db1c-4421-cca6-c454e24ae669"
      },
      "outputs": [
        {
          "data": {
            "text/plain": [
              "duration                         int64\n",
              "protocol_type                   object\n",
              "service                         object\n",
              "flag                            object\n",
              "src_bytes                        int64\n",
              "dst_bytes                        int64\n",
              "land                             int64\n",
              "wrong_fragment                   int64\n",
              "urgent                           int64\n",
              "hot                              int64\n",
              "num_failed_logins                int64\n",
              "logged_in                        int64\n",
              "num_compromised                  int64\n",
              "root_shell                       int64\n",
              "su_attempted                     int64\n",
              "num_root                         int64\n",
              "num_file_creations               int64\n",
              "num_shells                       int64\n",
              "num_access_files                 int64\n",
              "num_outbound_cmds                int64\n",
              "is_host_login                    int64\n",
              "is_guest_login                   int64\n",
              "count                            int64\n",
              "srv_count                        int64\n",
              "serror_rate                    float64\n",
              "srv_serror_rate                float64\n",
              "rerror_rate                    float64\n",
              "srv_rerror_rate                float64\n",
              "same_srv_rate                  float64\n",
              "diff_srv_rate                  float64\n",
              "srv_diff_host_rate             float64\n",
              "dst_host_count                   int64\n",
              "dst_host_srv_count               int64\n",
              "dst_host_same_srv_rate         float64\n",
              "dst_host_diff_srv_rate         float64\n",
              "dst_host_same_src_port_rate    float64\n",
              "dst_host_srv_diff_host_rate    float64\n",
              "dst_host_serror_rate           float64\n",
              "dst_host_srv_serror_rate       float64\n",
              "dst_host_rerror_rate           float64\n",
              "dst_host_srv_rerror_rate       float64\n",
              "outcome                         object\n",
              "dtype: object"
            ]
          },
          "execution_count": 13,
          "metadata": {},
          "output_type": "execute_result"
        }
      ],
      "source": [
        "df.dtypes"
      ]
    },
    {
      "cell_type": "code",
      "execution_count": null,
      "metadata": {
        "id": "MHSue2-zUIDM",
        "outputId": "c5e07a6c-c2bc-4d0c-a3e3-cd73e9bf4dbd"
      },
      "outputs": [
        {
          "data": {
            "text/plain": [
              "outcome\n",
              "back.                 2203\n",
              "buffer_overflow.        30\n",
              "ftp_write.               8\n",
              "guess_passwd.           53\n",
              "imap.                   12\n",
              "ipsweep.              1247\n",
              "land.                   21\n",
              "loadmodule.              9\n",
              "multihop.                7\n",
              "neptune.            107201\n",
              "nmap.                  231\n",
              "normal.              97278\n",
              "perl.                    3\n",
              "phf.                     4\n",
              "pod.                   264\n",
              "portsweep.            1040\n",
              "rootkit.                10\n",
              "satan.                1589\n",
              "smurf.              280790\n",
              "spy.                     2\n",
              "teardrop.              979\n",
              "warezclient.          1020\n",
              "warezmaster.            20\n",
              "Name: outcome, dtype: int64"
            ]
          },
          "execution_count": 15,
          "metadata": {},
          "output_type": "execute_result"
        }
      ],
      "source": [
        "df.groupby('outcome')['outcome'].count()"
      ]
    },
    {
      "cell_type": "code",
      "execution_count": null,
      "metadata": {
        "id": "2MJxznHuUIDM",
        "outputId": "36f75a5b-a295-4586-ec31-d5bfb868aa08"
      },
      "outputs": [
        {
          "name": "stdout",
          "output_type": "stream",
          "text": [
            "attack_category\n",
            "dos       391458\n",
            "normal     97278\n",
            "probe       4107\n",
            "r2l         1126\n",
            "u2r           52\n",
            "Name: count, dtype: int64\n"
          ]
        }
      ],
      "source": [
        "attack_mapping = {\n",
        "    'normal.': 'normal',\n",
        "    'back.': 'dos', 'land.': 'dos', 'neptune.': 'dos', 'pod.': 'dos', 'smurf.': 'dos', 'teardrop.': 'dos',\n",
        "    'ipsweep.': 'probe', 'nmap.': 'probe', 'portsweep.': 'probe', 'satan.': 'probe',\n",
        "    'ftp_write.': 'r2l', 'guess_passwd.': 'r2l', 'imap.': 'r2l', 'multihop.': 'r2l', 'phf.': 'r2l', 'spy.': 'r2l', 'warezclient.': 'r2l', 'warezmaster.': 'r2l',\n",
        "    'buffer_overflow.': 'u2r', 'loadmodule.': 'u2r', 'perl.': 'u2r', 'rootkit.': 'u2r'\n",
        "}\n",
        "\n",
        "df['attack_category'] = df['outcome'].map(attack_mapping)\n",
        "df['attack_category'] = df['attack_category'].fillna('other')\n",
        "\n",
        "print(df['attack_category'].value_counts())"
      ]
    },
    {
      "cell_type": "markdown",
      "metadata": {
        "id": "RE6qdTGzUIDS"
      },
      "source": [
        "### **3. Encode dữ liệu số và chữ**"
      ]
    },
    {
      "cell_type": "code",
      "execution_count": null,
      "metadata": {
        "id": "0qV5mJB-UIDS",
        "outputId": "a2152109-7602-41e8-a139-4d76e6d0f57e"
      },
      "outputs": [
        {
          "name": "stderr",
          "output_type": "stream",
          "text": [
            "/var/folders/m_/c8s5m70j7gxd8zgn3kpn9fsr0000gn/T/ipykernel_7555/990497203.py:12: PerformanceWarning: DataFrame is highly fragmented.  This is usually the result of calling `frame.insert` many times, which has poor performance.  Consider joining all columns at once using pd.concat(axis=1) instead. To get a de-fragmented frame, use `newframe = frame.copy()`\n",
            "  df[dummy_name] = dummies[x]\n",
            "/var/folders/m_/c8s5m70j7gxd8zgn3kpn9fsr0000gn/T/ipykernel_7555/990497203.py:12: PerformanceWarning: DataFrame is highly fragmented.  This is usually the result of calling `frame.insert` many times, which has poor performance.  Consider joining all columns at once using pd.concat(axis=1) instead. To get a de-fragmented frame, use `newframe = frame.copy()`\n",
            "  df[dummy_name] = dummies[x]\n",
            "/var/folders/m_/c8s5m70j7gxd8zgn3kpn9fsr0000gn/T/ipykernel_7555/990497203.py:12: PerformanceWarning: DataFrame is highly fragmented.  This is usually the result of calling `frame.insert` many times, which has poor performance.  Consider joining all columns at once using pd.concat(axis=1) instead. To get a de-fragmented frame, use `newframe = frame.copy()`\n",
            "  df[dummy_name] = dummies[x]\n",
            "/var/folders/m_/c8s5m70j7gxd8zgn3kpn9fsr0000gn/T/ipykernel_7555/990497203.py:12: PerformanceWarning: DataFrame is highly fragmented.  This is usually the result of calling `frame.insert` many times, which has poor performance.  Consider joining all columns at once using pd.concat(axis=1) instead. To get a de-fragmented frame, use `newframe = frame.copy()`\n",
            "  df[dummy_name] = dummies[x]\n",
            "/var/folders/m_/c8s5m70j7gxd8zgn3kpn9fsr0000gn/T/ipykernel_7555/990497203.py:12: PerformanceWarning: DataFrame is highly fragmented.  This is usually the result of calling `frame.insert` many times, which has poor performance.  Consider joining all columns at once using pd.concat(axis=1) instead. To get a de-fragmented frame, use `newframe = frame.copy()`\n",
            "  df[dummy_name] = dummies[x]\n",
            "/var/folders/m_/c8s5m70j7gxd8zgn3kpn9fsr0000gn/T/ipykernel_7555/990497203.py:12: PerformanceWarning: DataFrame is highly fragmented.  This is usually the result of calling `frame.insert` many times, which has poor performance.  Consider joining all columns at once using pd.concat(axis=1) instead. To get a de-fragmented frame, use `newframe = frame.copy()`\n",
            "  df[dummy_name] = dummies[x]\n",
            "/var/folders/m_/c8s5m70j7gxd8zgn3kpn9fsr0000gn/T/ipykernel_7555/990497203.py:12: PerformanceWarning: DataFrame is highly fragmented.  This is usually the result of calling `frame.insert` many times, which has poor performance.  Consider joining all columns at once using pd.concat(axis=1) instead. To get a de-fragmented frame, use `newframe = frame.copy()`\n",
            "  df[dummy_name] = dummies[x]\n",
            "/var/folders/m_/c8s5m70j7gxd8zgn3kpn9fsr0000gn/T/ipykernel_7555/990497203.py:12: PerformanceWarning: DataFrame is highly fragmented.  This is usually the result of calling `frame.insert` many times, which has poor performance.  Consider joining all columns at once using pd.concat(axis=1) instead. To get a de-fragmented frame, use `newframe = frame.copy()`\n",
            "  df[dummy_name] = dummies[x]\n",
            "/var/folders/m_/c8s5m70j7gxd8zgn3kpn9fsr0000gn/T/ipykernel_7555/990497203.py:12: PerformanceWarning: DataFrame is highly fragmented.  This is usually the result of calling `frame.insert` many times, which has poor performance.  Consider joining all columns at once using pd.concat(axis=1) instead. To get a de-fragmented frame, use `newframe = frame.copy()`\n",
            "  df[dummy_name] = dummies[x]\n",
            "/var/folders/m_/c8s5m70j7gxd8zgn3kpn9fsr0000gn/T/ipykernel_7555/990497203.py:12: PerformanceWarning: DataFrame is highly fragmented.  This is usually the result of calling `frame.insert` many times, which has poor performance.  Consider joining all columns at once using pd.concat(axis=1) instead. To get a de-fragmented frame, use `newframe = frame.copy()`\n",
            "  df[dummy_name] = dummies[x]\n",
            "/var/folders/m_/c8s5m70j7gxd8zgn3kpn9fsr0000gn/T/ipykernel_7555/990497203.py:12: PerformanceWarning: DataFrame is highly fragmented.  This is usually the result of calling `frame.insert` many times, which has poor performance.  Consider joining all columns at once using pd.concat(axis=1) instead. To get a de-fragmented frame, use `newframe = frame.copy()`\n",
            "  df[dummy_name] = dummies[x]\n",
            "/var/folders/m_/c8s5m70j7gxd8zgn3kpn9fsr0000gn/T/ipykernel_7555/990497203.py:12: PerformanceWarning: DataFrame is highly fragmented.  This is usually the result of calling `frame.insert` many times, which has poor performance.  Consider joining all columns at once using pd.concat(axis=1) instead. To get a de-fragmented frame, use `newframe = frame.copy()`\n",
            "  df[dummy_name] = dummies[x]\n",
            "/var/folders/m_/c8s5m70j7gxd8zgn3kpn9fsr0000gn/T/ipykernel_7555/990497203.py:12: PerformanceWarning: DataFrame is highly fragmented.  This is usually the result of calling `frame.insert` many times, which has poor performance.  Consider joining all columns at once using pd.concat(axis=1) instead. To get a de-fragmented frame, use `newframe = frame.copy()`\n",
            "  df[dummy_name] = dummies[x]\n",
            "/var/folders/m_/c8s5m70j7gxd8zgn3kpn9fsr0000gn/T/ipykernel_7555/990497203.py:12: PerformanceWarning: DataFrame is highly fragmented.  This is usually the result of calling `frame.insert` many times, which has poor performance.  Consider joining all columns at once using pd.concat(axis=1) instead. To get a de-fragmented frame, use `newframe = frame.copy()`\n",
            "  df[dummy_name] = dummies[x]\n",
            "/var/folders/m_/c8s5m70j7gxd8zgn3kpn9fsr0000gn/T/ipykernel_7555/990497203.py:12: PerformanceWarning: DataFrame is highly fragmented.  This is usually the result of calling `frame.insert` many times, which has poor performance.  Consider joining all columns at once using pd.concat(axis=1) instead. To get a de-fragmented frame, use `newframe = frame.copy()`\n",
            "  df[dummy_name] = dummies[x]\n",
            "/var/folders/m_/c8s5m70j7gxd8zgn3kpn9fsr0000gn/T/ipykernel_7555/990497203.py:12: PerformanceWarning: DataFrame is highly fragmented.  This is usually the result of calling `frame.insert` many times, which has poor performance.  Consider joining all columns at once using pd.concat(axis=1) instead. To get a de-fragmented frame, use `newframe = frame.copy()`\n",
            "  df[dummy_name] = dummies[x]\n",
            "/var/folders/m_/c8s5m70j7gxd8zgn3kpn9fsr0000gn/T/ipykernel_7555/990497203.py:12: PerformanceWarning: DataFrame is highly fragmented.  This is usually the result of calling `frame.insert` many times, which has poor performance.  Consider joining all columns at once using pd.concat(axis=1) instead. To get a de-fragmented frame, use `newframe = frame.copy()`\n",
            "  df[dummy_name] = dummies[x]\n",
            "/var/folders/m_/c8s5m70j7gxd8zgn3kpn9fsr0000gn/T/ipykernel_7555/990497203.py:12: PerformanceWarning: DataFrame is highly fragmented.  This is usually the result of calling `frame.insert` many times, which has poor performance.  Consider joining all columns at once using pd.concat(axis=1) instead. To get a de-fragmented frame, use `newframe = frame.copy()`\n",
            "  df[dummy_name] = dummies[x]\n",
            "/var/folders/m_/c8s5m70j7gxd8zgn3kpn9fsr0000gn/T/ipykernel_7555/990497203.py:12: PerformanceWarning: DataFrame is highly fragmented.  This is usually the result of calling `frame.insert` many times, which has poor performance.  Consider joining all columns at once using pd.concat(axis=1) instead. To get a de-fragmented frame, use `newframe = frame.copy()`\n",
            "  df[dummy_name] = dummies[x]\n",
            "/var/folders/m_/c8s5m70j7gxd8zgn3kpn9fsr0000gn/T/ipykernel_7555/990497203.py:12: PerformanceWarning: DataFrame is highly fragmented.  This is usually the result of calling `frame.insert` many times, which has poor performance.  Consider joining all columns at once using pd.concat(axis=1) instead. To get a de-fragmented frame, use `newframe = frame.copy()`\n",
            "  df[dummy_name] = dummies[x]\n",
            "/var/folders/m_/c8s5m70j7gxd8zgn3kpn9fsr0000gn/T/ipykernel_7555/990497203.py:12: PerformanceWarning: DataFrame is highly fragmented.  This is usually the result of calling `frame.insert` many times, which has poor performance.  Consider joining all columns at once using pd.concat(axis=1) instead. To get a de-fragmented frame, use `newframe = frame.copy()`\n",
            "  df[dummy_name] = dummies[x]\n",
            "/var/folders/m_/c8s5m70j7gxd8zgn3kpn9fsr0000gn/T/ipykernel_7555/990497203.py:12: PerformanceWarning: DataFrame is highly fragmented.  This is usually the result of calling `frame.insert` many times, which has poor performance.  Consider joining all columns at once using pd.concat(axis=1) instead. To get a de-fragmented frame, use `newframe = frame.copy()`\n",
            "  df[dummy_name] = dummies[x]\n",
            "/var/folders/m_/c8s5m70j7gxd8zgn3kpn9fsr0000gn/T/ipykernel_7555/990497203.py:12: PerformanceWarning: DataFrame is highly fragmented.  This is usually the result of calling `frame.insert` many times, which has poor performance.  Consider joining all columns at once using pd.concat(axis=1) instead. To get a de-fragmented frame, use `newframe = frame.copy()`\n",
            "  df[dummy_name] = dummies[x]\n",
            "/var/folders/m_/c8s5m70j7gxd8zgn3kpn9fsr0000gn/T/ipykernel_7555/990497203.py:12: PerformanceWarning: DataFrame is highly fragmented.  This is usually the result of calling `frame.insert` many times, which has poor performance.  Consider joining all columns at once using pd.concat(axis=1) instead. To get a de-fragmented frame, use `newframe = frame.copy()`\n",
            "  df[dummy_name] = dummies[x]\n",
            "/var/folders/m_/c8s5m70j7gxd8zgn3kpn9fsr0000gn/T/ipykernel_7555/990497203.py:12: PerformanceWarning: DataFrame is highly fragmented.  This is usually the result of calling `frame.insert` many times, which has poor performance.  Consider joining all columns at once using pd.concat(axis=1) instead. To get a de-fragmented frame, use `newframe = frame.copy()`\n",
            "  df[dummy_name] = dummies[x]\n",
            "/var/folders/m_/c8s5m70j7gxd8zgn3kpn9fsr0000gn/T/ipykernel_7555/990497203.py:12: PerformanceWarning: DataFrame is highly fragmented.  This is usually the result of calling `frame.insert` many times, which has poor performance.  Consider joining all columns at once using pd.concat(axis=1) instead. To get a de-fragmented frame, use `newframe = frame.copy()`\n",
            "  df[dummy_name] = dummies[x]\n"
          ]
        }
      ],
      "source": [
        "def encode_numeric_zscore(df, name, mean=None, sd=None):\n",
        "    if mean is None:\n",
        "        mean = df[name].mean()\n",
        "    if sd is None:\n",
        "        sd = df[name].std()\n",
        "    df[name] = (df[name] - mean) / sd\n",
        "\n",
        "def encode_text_dummy(df, name):\n",
        "    dummies = pd.get_dummies(df[name])\n",
        "    for x in dummies.columns:\n",
        "        dummy_name = f\"{name}-{x}\"\n",
        "        df[dummy_name] = dummies[x]\n",
        "    df.drop(name, axis=1, inplace=True)\n",
        "\n",
        "# Encoding feature vector\n",
        "text_col = ['protocol_type', 'service', 'flag', 'land', 'logged_in', 'is_host_login', 'is_guest_login']\n",
        "\n",
        "# Normalize numeric features\n",
        "for col in df.columns:\n",
        "    if col not in text_col and col not in ['outcome', 'attack_category']:\n",
        "        encode_numeric_zscore(df, col)\n",
        "\n",
        "# Encode text features\n",
        "for col in text_col:\n",
        "    encode_text_dummy(df, col)\n",
        "\n",
        "# Encode target variable\n",
        "label_encoder = LabelEncoder()\n",
        "y_encoded = label_encoder.fit_transform(df['attack_category'])\n",
        "\n",
        "# Loại bỏ cột không cần thiết\n",
        "df.drop(['outcome', 'attack_category'], axis=1, inplace=True)\n",
        "df.dropna(inplace=True, axis=1)"
      ]
    },
    {
      "cell_type": "code",
      "execution_count": null,
      "metadata": {
        "id": "UwFOGgH8UIDT",
        "outputId": "78d87e80-e023-410d-95c2-1419075db548"
      },
      "outputs": [
        {
          "name": "stdout",
          "output_type": "stream",
          "text": [
            "Train set: (345814, 120), Test set: (148207, 120)\n"
          ]
        }
      ],
      "source": [
        "X_train, X_test, y_train, y_test = train_test_split(\n",
        "    df, y_encoded, test_size=0.3, random_state=42, stratify=y_encoded\n",
        ")\n",
        "\n",
        "print(f\"Train set: {X_train.shape}, Test set: {X_test.shape}\")"
      ]
    },
    {
      "cell_type": "markdown",
      "metadata": {
        "id": "vasjqEZAUIDT"
      },
      "source": [
        "### **4. Kiến trúc mô hình GRU**"
      ]
    },
    {
      "cell_type": "code",
      "execution_count": null,
      "metadata": {
        "id": "H01my29mUIDT",
        "outputId": "ffe2ee78-f000-43f4-a125-d87f916c21df"
      },
      "outputs": [
        {
          "name": "stdout",
          "output_type": "stream",
          "text": [
            "\n",
            "Kiến trúc mô hình:\n"
          ]
        },
        {
          "name": "stderr",
          "output_type": "stream",
          "text": [
            "/Users/tranthehuuphuc/Desktop/.venv/lib/python3.9/site-packages/keras/src/layers/reshaping/reshape.py:39: UserWarning: Do not pass an `input_shape`/`input_dim` argument to a layer. When using Sequential models, prefer using an `Input(shape)` object as the first layer in the model instead.\n",
            "  super().__init__(**kwargs)\n"
          ]
        },
        {
          "data": {
            "text/html": [
              "<pre style=\"white-space:pre;overflow-x:auto;line-height:normal;font-family:Menlo,'DejaVu Sans Mono',consolas,'Courier New',monospace\"><span style=\"font-weight: bold\">Model: \"sequential\"</span>\n",
              "</pre>\n"
            ],
            "text/plain": [
              "\u001b[1mModel: \"sequential\"\u001b[0m\n"
            ]
          },
          "metadata": {},
          "output_type": "display_data"
        },
        {
          "data": {
            "text/html": [
              "<pre style=\"white-space:pre;overflow-x:auto;line-height:normal;font-family:Menlo,'DejaVu Sans Mono',consolas,'Courier New',monospace\">┏━━━━━━━━━━━━━━━━━━━━━━━━━━━━━━━━━┳━━━━━━━━━━━━━━━━━━━━━━━━┳━━━━━━━━━━━━━━━┓\n",
              "┃<span style=\"font-weight: bold\"> Layer (type)                    </span>┃<span style=\"font-weight: bold\"> Output Shape           </span>┃<span style=\"font-weight: bold\">       Param # </span>┃\n",
              "┡━━━━━━━━━━━━━━━━━━━━━━━━━━━━━━━━━╇━━━━━━━━━━━━━━━━━━━━━━━━╇━━━━━━━━━━━━━━━┩\n",
              "│ reshape (<span style=\"color: #0087ff; text-decoration-color: #0087ff\">Reshape</span>)               │ (<span style=\"color: #00d7ff; text-decoration-color: #00d7ff\">None</span>, <span style=\"color: #00af00; text-decoration-color: #00af00\">120</span>, <span style=\"color: #00af00; text-decoration-color: #00af00\">1</span>)         │             <span style=\"color: #00af00; text-decoration-color: #00af00\">0</span> │\n",
              "├─────────────────────────────────┼────────────────────────┼───────────────┤\n",
              "│ gru (<span style=\"color: #0087ff; text-decoration-color: #0087ff\">GRU</span>)                       │ (<span style=\"color: #00d7ff; text-decoration-color: #00d7ff\">None</span>, <span style=\"color: #00af00; text-decoration-color: #00af00\">120</span>, <span style=\"color: #00af00; text-decoration-color: #00af00\">128</span>)       │        <span style=\"color: #00af00; text-decoration-color: #00af00\">50,304</span> │\n",
              "├─────────────────────────────────┼────────────────────────┼───────────────┤\n",
              "│ dropout (<span style=\"color: #0087ff; text-decoration-color: #0087ff\">Dropout</span>)               │ (<span style=\"color: #00d7ff; text-decoration-color: #00d7ff\">None</span>, <span style=\"color: #00af00; text-decoration-color: #00af00\">120</span>, <span style=\"color: #00af00; text-decoration-color: #00af00\">128</span>)       │             <span style=\"color: #00af00; text-decoration-color: #00af00\">0</span> │\n",
              "├─────────────────────────────────┼────────────────────────┼───────────────┤\n",
              "│ gru_1 (<span style=\"color: #0087ff; text-decoration-color: #0087ff\">GRU</span>)                     │ (<span style=\"color: #00d7ff; text-decoration-color: #00d7ff\">None</span>, <span style=\"color: #00af00; text-decoration-color: #00af00\">64</span>)             │        <span style=\"color: #00af00; text-decoration-color: #00af00\">37,248</span> │\n",
              "├─────────────────────────────────┼────────────────────────┼───────────────┤\n",
              "│ dropout_1 (<span style=\"color: #0087ff; text-decoration-color: #0087ff\">Dropout</span>)             │ (<span style=\"color: #00d7ff; text-decoration-color: #00d7ff\">None</span>, <span style=\"color: #00af00; text-decoration-color: #00af00\">64</span>)             │             <span style=\"color: #00af00; text-decoration-color: #00af00\">0</span> │\n",
              "├─────────────────────────────────┼────────────────────────┼───────────────┤\n",
              "│ dense (<span style=\"color: #0087ff; text-decoration-color: #0087ff\">Dense</span>)                   │ (<span style=\"color: #00d7ff; text-decoration-color: #00d7ff\">None</span>, <span style=\"color: #00af00; text-decoration-color: #00af00\">32</span>)             │         <span style=\"color: #00af00; text-decoration-color: #00af00\">2,080</span> │\n",
              "├─────────────────────────────────┼────────────────────────┼───────────────┤\n",
              "│ dropout_2 (<span style=\"color: #0087ff; text-decoration-color: #0087ff\">Dropout</span>)             │ (<span style=\"color: #00d7ff; text-decoration-color: #00d7ff\">None</span>, <span style=\"color: #00af00; text-decoration-color: #00af00\">32</span>)             │             <span style=\"color: #00af00; text-decoration-color: #00af00\">0</span> │\n",
              "├─────────────────────────────────┼────────────────────────┼───────────────┤\n",
              "│ dense_1 (<span style=\"color: #0087ff; text-decoration-color: #0087ff\">Dense</span>)                 │ (<span style=\"color: #00d7ff; text-decoration-color: #00d7ff\">None</span>, <span style=\"color: #00af00; text-decoration-color: #00af00\">5</span>)              │           <span style=\"color: #00af00; text-decoration-color: #00af00\">165</span> │\n",
              "└─────────────────────────────────┴────────────────────────┴───────────────┘\n",
              "</pre>\n"
            ],
            "text/plain": [
              "┏━━━━━━━━━━━━━━━━━━━━━━━━━━━━━━━━━┳━━━━━━━━━━━━━━━━━━━━━━━━┳━━━━━━━━━━━━━━━┓\n",
              "┃\u001b[1m \u001b[0m\u001b[1mLayer (type)                   \u001b[0m\u001b[1m \u001b[0m┃\u001b[1m \u001b[0m\u001b[1mOutput Shape          \u001b[0m\u001b[1m \u001b[0m┃\u001b[1m \u001b[0m\u001b[1m      Param #\u001b[0m\u001b[1m \u001b[0m┃\n",
              "┡━━━━━━━━━━━━━━━━━━━━━━━━━━━━━━━━━╇━━━━━━━━━━━━━━━━━━━━━━━━╇━━━━━━━━━━━━━━━┩\n",
              "│ reshape (\u001b[38;5;33mReshape\u001b[0m)               │ (\u001b[38;5;45mNone\u001b[0m, \u001b[38;5;34m120\u001b[0m, \u001b[38;5;34m1\u001b[0m)         │             \u001b[38;5;34m0\u001b[0m │\n",
              "├─────────────────────────────────┼────────────────────────┼───────────────┤\n",
              "│ gru (\u001b[38;5;33mGRU\u001b[0m)                       │ (\u001b[38;5;45mNone\u001b[0m, \u001b[38;5;34m120\u001b[0m, \u001b[38;5;34m128\u001b[0m)       │        \u001b[38;5;34m50,304\u001b[0m │\n",
              "├─────────────────────────────────┼────────────────────────┼───────────────┤\n",
              "│ dropout (\u001b[38;5;33mDropout\u001b[0m)               │ (\u001b[38;5;45mNone\u001b[0m, \u001b[38;5;34m120\u001b[0m, \u001b[38;5;34m128\u001b[0m)       │             \u001b[38;5;34m0\u001b[0m │\n",
              "├─────────────────────────────────┼────────────────────────┼───────────────┤\n",
              "│ gru_1 (\u001b[38;5;33mGRU\u001b[0m)                     │ (\u001b[38;5;45mNone\u001b[0m, \u001b[38;5;34m64\u001b[0m)             │        \u001b[38;5;34m37,248\u001b[0m │\n",
              "├─────────────────────────────────┼────────────────────────┼───────────────┤\n",
              "│ dropout_1 (\u001b[38;5;33mDropout\u001b[0m)             │ (\u001b[38;5;45mNone\u001b[0m, \u001b[38;5;34m64\u001b[0m)             │             \u001b[38;5;34m0\u001b[0m │\n",
              "├─────────────────────────────────┼────────────────────────┼───────────────┤\n",
              "│ dense (\u001b[38;5;33mDense\u001b[0m)                   │ (\u001b[38;5;45mNone\u001b[0m, \u001b[38;5;34m32\u001b[0m)             │         \u001b[38;5;34m2,080\u001b[0m │\n",
              "├─────────────────────────────────┼────────────────────────┼───────────────┤\n",
              "│ dropout_2 (\u001b[38;5;33mDropout\u001b[0m)             │ (\u001b[38;5;45mNone\u001b[0m, \u001b[38;5;34m32\u001b[0m)             │             \u001b[38;5;34m0\u001b[0m │\n",
              "├─────────────────────────────────┼────────────────────────┼───────────────┤\n",
              "│ dense_1 (\u001b[38;5;33mDense\u001b[0m)                 │ (\u001b[38;5;45mNone\u001b[0m, \u001b[38;5;34m5\u001b[0m)              │           \u001b[38;5;34m165\u001b[0m │\n",
              "└─────────────────────────────────┴────────────────────────┴───────────────┘\n"
            ]
          },
          "metadata": {},
          "output_type": "display_data"
        },
        {
          "data": {
            "text/html": [
              "<pre style=\"white-space:pre;overflow-x:auto;line-height:normal;font-family:Menlo,'DejaVu Sans Mono',consolas,'Courier New',monospace\"><span style=\"font-weight: bold\"> Total params: </span><span style=\"color: #00af00; text-decoration-color: #00af00\">89,797</span> (350.77 KB)\n",
              "</pre>\n"
            ],
            "text/plain": [
              "\u001b[1m Total params: \u001b[0m\u001b[38;5;34m89,797\u001b[0m (350.77 KB)\n"
            ]
          },
          "metadata": {},
          "output_type": "display_data"
        },
        {
          "data": {
            "text/html": [
              "<pre style=\"white-space:pre;overflow-x:auto;line-height:normal;font-family:Menlo,'DejaVu Sans Mono',consolas,'Courier New',monospace\"><span style=\"font-weight: bold\"> Trainable params: </span><span style=\"color: #00af00; text-decoration-color: #00af00\">89,797</span> (350.77 KB)\n",
              "</pre>\n"
            ],
            "text/plain": [
              "\u001b[1m Trainable params: \u001b[0m\u001b[38;5;34m89,797\u001b[0m (350.77 KB)\n"
            ]
          },
          "metadata": {},
          "output_type": "display_data"
        },
        {
          "data": {
            "text/html": [
              "<pre style=\"white-space:pre;overflow-x:auto;line-height:normal;font-family:Menlo,'DejaVu Sans Mono',consolas,'Courier New',monospace\"><span style=\"font-weight: bold\"> Non-trainable params: </span><span style=\"color: #00af00; text-decoration-color: #00af00\">0</span> (0.00 B)\n",
              "</pre>\n"
            ],
            "text/plain": [
              "\u001b[1m Non-trainable params: \u001b[0m\u001b[38;5;34m0\u001b[0m (0.00 B)\n"
            ]
          },
          "metadata": {},
          "output_type": "display_data"
        }
      ],
      "source": [
        "def build_gru_multiclass_model(input_shape, num_classes):\n",
        "    model = keras.Sequential([\n",
        "        keras.layers.Reshape((input_shape, 1), input_shape=(input_shape,)),\n",
        "        keras.layers.GRU(units=128, return_sequences=True),\n",
        "        keras.layers.Dropout(0.3),\n",
        "        keras.layers.GRU(units=64),\n",
        "        keras.layers.Dropout(0.5),\n",
        "        keras.layers.Dense(units=32, activation='relu'),\n",
        "        keras.layers.Dropout(0.3),\n",
        "        keras.layers.Dense(units=num_classes, activation='softmax')\n",
        "    ])\n",
        "\n",
        "    model.compile(\n",
        "        loss='sparse_categorical_crossentropy',\n",
        "        optimizer='adam',\n",
        "        metrics=['accuracy']\n",
        "    )\n",
        "\n",
        "    return model\n",
        "\n",
        "model = build_gru_multiclass_model(X_train.shape[1], len(label_encoder.classes_))\n",
        "print(\"\\nKiến trúc mô hình:\")\n",
        "model.summary()"
      ]
    },
    {
      "cell_type": "markdown",
      "metadata": {
        "id": "i2F9qelZUIDU"
      },
      "source": [
        "### **5. Huấn luyện mô hình**"
      ]
    },
    {
      "cell_type": "code",
      "execution_count": null,
      "metadata": {
        "id": "srw-7VpuUIDU",
        "outputId": "589b5409-12f7-4f99-d758-5730879a0a6b"
      },
      "outputs": [
        {
          "name": "stdout",
          "output_type": "stream",
          "text": [
            "Epoch 1/10\n",
            "\u001b[1m271/271\u001b[0m \u001b[32m━━━━━━━━━━━━━━━━━━━━\u001b[0m\u001b[37m\u001b[0m \u001b[1m264s\u001b[0m 970ms/step - accuracy: 0.7391 - loss: 0.8746 - val_accuracy: 0.7920 - val_loss: 0.3532\n",
            "Epoch 2/10\n",
            "\u001b[1m271/271\u001b[0m \u001b[32m━━━━━━━━━━━━━━━━━━━━\u001b[0m\u001b[37m\u001b[0m \u001b[1m275s\u001b[0m 1s/step - accuracy: 0.7873 - loss: 0.5657 - val_accuracy: 0.7924 - val_loss: 0.5598\n",
            "Epoch 3/10\n",
            "\u001b[1m271/271\u001b[0m \u001b[32m━━━━━━━━━━━━━━━━━━━━\u001b[0m\u001b[37m\u001b[0m \u001b[1m257s\u001b[0m 949ms/step - accuracy: 0.7927 - loss: 0.5747 - val_accuracy: 0.7924 - val_loss: 0.5475\n",
            "Epoch 4/10\n",
            "\u001b[1m271/271\u001b[0m \u001b[32m━━━━━━━━━━━━━━━━━━━━\u001b[0m\u001b[37m\u001b[0m \u001b[1m251s\u001b[0m 924ms/step - accuracy: 0.8260 - loss: 0.5434 - val_accuracy: 0.9753 - val_loss: 0.0923\n",
            "Epoch 5/10\n",
            "\u001b[1m271/271\u001b[0m \u001b[32m━━━━━━━━━━━━━━━━━━━━\u001b[0m\u001b[37m\u001b[0m \u001b[1m255s\u001b[0m 942ms/step - accuracy: 0.9434 - loss: 0.1889 - val_accuracy: 0.8034 - val_loss: 0.4993\n",
            "Epoch 6/10\n",
            "\u001b[1m271/271\u001b[0m \u001b[32m━━━━━━━━━━━━━━━━━━━━\u001b[0m\u001b[37m\u001b[0m \u001b[1m264s\u001b[0m 972ms/step - accuracy: 0.8659 - loss: 0.3830 - val_accuracy: 0.9824 - val_loss: 0.0603\n",
            "Epoch 7/10\n",
            "\u001b[1m271/271\u001b[0m \u001b[32m━━━━━━━━━━━━━━━━━━━━\u001b[0m\u001b[37m\u001b[0m \u001b[1m258s\u001b[0m 952ms/step - accuracy: 0.9824 - loss: 0.0739 - val_accuracy: 0.9875 - val_loss: 0.0500\n",
            "Epoch 8/10\n",
            "\u001b[1m271/271\u001b[0m \u001b[32m━━━━━━━━━━━━━━━━━━━━\u001b[0m\u001b[37m\u001b[0m \u001b[1m275s\u001b[0m 1s/step - accuracy: 0.9857 - loss: 0.0568 - val_accuracy: 0.9866 - val_loss: 0.0433\n",
            "Epoch 9/10\n",
            "\u001b[1m271/271\u001b[0m \u001b[32m━━━━━━━━━━━━━━━━━━━━\u001b[0m\u001b[37m\u001b[0m \u001b[1m274s\u001b[0m 1s/step - accuracy: 0.9866 - loss: 0.0518 - val_accuracy: 0.9902 - val_loss: 0.0359\n",
            "Epoch 10/10\n",
            "\u001b[1m271/271\u001b[0m \u001b[32m━━━━━━━━━━━━━━━━━━━━\u001b[0m\u001b[37m\u001b[0m \u001b[1m273s\u001b[0m 1s/step - accuracy: 0.9884 - loss: 0.0452 - val_accuracy: 0.9939 - val_loss: 0.0288\n"
          ]
        }
      ],
      "source": [
        "history = model.fit(\n",
        "    X_train, y_train,\n",
        "    epochs=10,\n",
        "    batch_size=1024,\n",
        "    validation_split=0.2,\n",
        "    verbose=1\n",
        ")"
      ]
    },
    {
      "cell_type": "code",
      "execution_count": null,
      "metadata": {
        "id": "j0kytx-tUIDU",
        "outputId": "8765b1c9-49b4-4a94-f4d8-f613ad97f07f"
      },
      "outputs": [
        {
          "data": {
            "text/plain": [
              "<matplotlib.legend.Legend at 0x15017e760>"
            ]
          },
          "execution_count": 23,
          "metadata": {},
          "output_type": "execute_result"
        },
        {
          "data": {
            "image/png": "[encoded data removed]",
            "text/plain": [
              "<Figure size 640x480 with 1 Axes>"
            ]
          },
          "metadata": {},
          "output_type": "display_data"
        }
      ],
      "source": [
        "plt.plot(history.history['loss'], label='train')\n",
        "plt.plot(history.history['val_loss'], label='validation')\n",
        "plt.legend()"
      ]
    },
    {
      "cell_type": "markdown",
      "metadata": {
        "id": "7HQYSWG_UIDU"
      },
      "source": [
        "### **6. Đánh giá mô hình**"
      ]
    },
    {
      "cell_type": "code",
      "execution_count": null,
      "metadata": {
        "id": "bTrusfp9UIDV",
        "outputId": "782898f2-f650-4fa7-b6c7-7c0160218155"
      },
      "outputs": [
        {
          "name": "stdout",
          "output_type": "stream",
          "text": [
            "\u001b[1m338/338\u001b[0m \u001b[32m━━━━━━━━━━━━━━━━━━━━\u001b[0m\u001b[37m\u001b[0m \u001b[1m102s\u001b[0m 302ms/step - accuracy: 0.9939 - loss: 0.0290\n",
            "\n",
            "Đánh giá trên tập test:\n",
            "Test Accuracy: 0.9939\n",
            "Test Loss: 0.0297\n",
            "\n",
            "Báo cáo phân loại:\n",
            "              precision    recall  f1-score   support\n",
            "\n",
            "         dos       1.00      1.00      1.00    117438\n",
            "      normal       0.98      0.99      0.99     29183\n",
            "       probe       0.86      0.89      0.88      1232\n",
            "         r2l       0.00      0.00      0.00       338\n",
            "         u2r       0.00      0.00      0.00        16\n",
            "\n",
            "    accuracy                           0.99    148207\n",
            "   macro avg       0.57      0.58      0.57    148207\n",
            "weighted avg       0.99      0.99      0.99    148207\n",
            "\n"
          ]
        },
        {
          "name": "stderr",
          "output_type": "stream",
          "text": [
            "/Users/tranthehuuphuc/Desktop/.venv/lib/python3.9/site-packages/sklearn/metrics/_classification.py:1565: UndefinedMetricWarning: Precision is ill-defined and being set to 0.0 in labels with no predicted samples. Use `zero_division` parameter to control this behavior.\n",
            "  _warn_prf(average, modifier, f\"{metric.capitalize()} is\", len(result))\n",
            "/Users/tranthehuuphuc/Desktop/.venv/lib/python3.9/site-packages/sklearn/metrics/_classification.py:1565: UndefinedMetricWarning: Precision is ill-defined and being set to 0.0 in labels with no predicted samples. Use `zero_division` parameter to control this behavior.\n",
            "  _warn_prf(average, modifier, f\"{metric.capitalize()} is\", len(result))\n",
            "/Users/tranthehuuphuc/Desktop/.venv/lib/python3.9/site-packages/sklearn/metrics/_classification.py:1565: UndefinedMetricWarning: Precision is ill-defined and being set to 0.0 in labels with no predicted samples. Use `zero_division` parameter to control this behavior.\n",
            "  _warn_prf(average, modifier, f\"{metric.capitalize()} is\", len(result))\n"
          ]
        }
      ],
      "source": [
        "score1 = model.evaluate(X_train, y_train, batch_size=1024)\n",
        "\n",
        "print(\"\\nĐánh giá trên tập test:\")\n",
        "test_loss, test_acc = model.evaluate(X_test, y_test, verbose=0)\n",
        "print(f\"Test Accuracy: {test_acc:.4f}\")\n",
        "print(f\"Test Loss: {test_loss:.4f}\")\n",
        "\n",
        "print(\"\\nBáo cáo phân loại:\")\n",
        "y_pred = model.predict(X_test, verbose=0)\n",
        "y_pred_classes = np.argmax(y_pred, axis=1)\n",
        "print(metrics.classification_report(y_test, y_pred_classes,\n",
        "                                    target_names=label_encoder.classes_))"
      ]
    },
    {
      "cell_type": "markdown",
      "metadata": {
        "id": "XfR1xxwuUIDV"
      },
      "source": [
        "## **Yêu Cầu 2: Sinh viên chạy lại tập dữ liệu [CIC IoT dataset 2023](https://www.unb.ca/cic/datasets/iotdataset-2023.html) trên mô hình bài lab này ở cả Multiclass Classification và Binary Classification**"
      ]
    },
    {
      "cell_type": "markdown",
      "metadata": {
        "id": "97b1ulzvUIDV"
      },
      "source": [
        "### **A. Binary Classification cho CIC IoT Dataset 2023**\n"
      ]
    },
    {
      "cell_type": "markdown",
      "metadata": {
        "id": "XVIfqCvJUIDV"
      },
      "source": [
        "#### **1. Đọc và xử lý dữ liệu CIC IoT 2023**\n"
      ]
    },
    {
      "cell_type": "code",
      "source": [
        "# Tạo thư mục\n",
        "!mkdir -p cic-iot-2023\n",
        "\n",
        "# Tải từng file vào thư mục bằng cách chỉ định đường dẫn đích\n",
        "!wget -P cic-iot-2023 http://cicresearch.ca/IOTDataset/CIC_IOT_Dataset2023/Dataset/CSV/MERGED_CSV/Merged01.csv\n",
        "!wget -P cic-iot-2023 http://cicresearch.ca/IOTDataset/CIC_IOT_Dataset2023/Dataset/CSV/MERGED_CSV/Merged02.csv\n",
        "!wget -P cic-iot-2023 http://cicresearch.ca/IOTDataset/CIC_IOT_Dataset2023/Dataset/CSV/MERGED_CSV/Merged03.csv\n",
        "!wget -P cic-iot-2023 http://cicresearch.ca/IOTDataset/CIC_IOT_Dataset2023/Dataset/CSV/MERGED_CSV/Merged04.csv\n",
        "!wget -P cic-iot-2023 http://cicresearch.ca/IOTDataset/CIC_IOT_Dataset2023/Dataset/CSV/MERGED_CSV/Merged05.csv\n",
        "!wget -P cic-iot-2023 http://cicresearch.ca/IOTDataset/CIC_IOT_Dataset2023/Dataset/CSV/MERGED_CSV/Merged06.csv\n",
        "!wget -P cic-iot-2023 http://cicresearch.ca/IOTDataset/CIC_IOT_Dataset2023/Dataset/CSV/MERGED_CSV/Merged07.csv\n",
        "!wget -P cic-iot-2023 http://cicresearch.ca/IOTDataset/CIC_IOT_Dataset2023/Dataset/CSV/MERGED_CSV/Merged08.csv\n",
        "!wget -P cic-iot-2023 http://cicresearch.ca/IOTDataset/CIC_IOT_Dataset2023/Dataset/CSV/MERGED_CSV/Merged09.csv\n",
        "!wget -P cic-iot-2023 http://cicresearch.ca/IOTDataset/CIC_IOT_Dataset2023/Dataset/CSV/MERGED_CSV/Merged10.csv\n"
      ],
      "metadata": {
        "id": "ozOrC_uaUMTw"
      },
      "execution_count": null,
      "outputs": []
    },
    {
      "cell_type": "code",
      "execution_count": null,
      "metadata": {
        "id": "8rgxgk7YUIDV",
        "outputId": "c9111ecf-7a2a-498d-8007-409e4b46d6e1"
      },
      "outputs": [
        {
          "name": "stdout",
          "output_type": "stream",
          "text": [
            "Found 10 CSV files.\n",
            "Successfully processed: ./cic-iot-2023\\Merged01.csv (shape: (712297, 40))\n",
            "Successfully processed: ./cic-iot-2023\\Merged02.csv (shape: (748572, 40))\n",
            "Successfully processed: ./cic-iot-2023\\Merged03.csv (shape: (697272, 40))\n",
            "Successfully processed: ./cic-iot-2023\\Merged04.csv (shape: (676597, 40))\n",
            "Successfully processed: ./cic-iot-2023\\Merged05.csv (shape: (744790, 40))\n",
            "Successfully processed: ./cic-iot-2023\\Merged06.csv (shape: (718217, 40))\n",
            "Successfully processed: ./cic-iot-2023\\Merged07.csv (shape: (702195, 40))\n",
            "Successfully processed: ./cic-iot-2023\\Merged08.csv (shape: (712205, 40))\n",
            "Successfully processed: ./cic-iot-2023\\Merged09.csv (shape: (678866, 40))\n",
            "Successfully processed: ./cic-iot-2023\\Merged10.csv (shape: (916175, 40))\n",
            "\n",
            "Combined DataFrame shape: (7307186, 40)\n",
            "Final DataFrame shape after cleaning: (7307186, 40)\n",
            "\n",
            "Dataset info:\n",
            "   Header_Length  Protocol Type  Time_To_Live          Rate  fin_flag_number  \\\n",
            "0          19.92              6         63.36  25893.962218              0.0   \n",
            "1           0.00             47         64.00   3703.841331              0.0   \n",
            "2           7.92             17         65.91  19673.095685              0.0   \n",
            "3          20.40              6        110.50    261.664826              0.1   \n",
            "4           0.32              1         63.96  28944.199848              0.0   \n",
            "\n",
            "   syn_flag_number  rst_flag_number  psh_flag_number  ack_flag_number  \\\n",
            "0              0.0              0.0             0.99             0.99   \n",
            "1              0.0              0.0             0.00             0.00   \n",
            "2              0.0              0.0             0.00             0.00   \n",
            "3              0.0              0.3             0.20             0.40   \n",
            "4              0.0              0.0             0.00             0.01   \n",
            "\n",
            "   ece_flag_number  ...  Tot sum  Min   Max     AVG         Std  Tot size  \\\n",
            "0              0.0  ...     6421   60   481   64.21   42.100000     64.21   \n",
            "1              0.0  ...    57320   98   578  573.20   48.000000    573.20   \n",
            "2              0.0  ...     6010   60    70   60.10    1.000000     60.10   \n",
            "3              0.0  ...     2223   54  1500  222.30  451.596686    222.30   \n",
            "4              0.0  ...     6006   60    66   60.06    0.600000     60.06   \n",
            "\n",
            "        IAT  Number       Variance              Label  \n",
            "0  0.000039     100    1772.410000  DDOS-PSHACK_FLOOD  \n",
            "1  0.000271     100    2304.000000  MIRAI-GREIP_FLOOD  \n",
            "2  0.000057     100       1.000000      DOS-UDP_FLOOD  \n",
            "3  0.004766      10  203939.566667       DNS_SPOOFING  \n",
            "4  0.000035     100       0.360000    DDOS-ICMP_FLOOD  \n",
            "\n",
            "[5 rows x 40 columns]\n",
            "\n",
            "Label distribution:\n",
            "Label\n",
            "DDOS-ICMP_FLOOD            1119031\n",
            "DDOS-UDP_FLOOD              839701\n",
            "DDOS-TCP_FLOOD              698593\n",
            "DDOS-PSHACK_FLOOD           637017\n",
            "DDOS-SYN_FLOOD              631073\n",
            "DDOS-RSTFINFLOOD            629161\n",
            "DDOS-SYNONYMOUSIP_FLOOD     558813\n",
            "DOS-UDP_FLOOD               515410\n",
            "DOS-TCP_FLOOD               416020\n",
            "DOS-SYN_FLOOD               314522\n",
            "BENIGN                      170490\n",
            "MIRAI-GREETH_FLOOD          154242\n",
            "MIRAI-UDPPLAIN              138662\n",
            "MIRAI-GREIP_FLOOD           116503\n",
            "DDOS-ICMP_FRAGMENTATION      70587\n",
            "VULNERABILITYSCAN            57992\n",
            "MITM-ARPSPOOFING             48131\n",
            "DDOS-ACK_FRAGMENTATION       44540\n",
            "DDOS-UDP_FRAGMENTATION       44420\n",
            "DNS_SPOOFING                 27849\n",
            "RECON-HOSTDISCOVERY          21065\n",
            "RECON-OSSCAN                 15037\n",
            "RECON-PORTSCAN               12673\n",
            "DOS-HTTP_FLOOD               11189\n",
            "DDOS-HTTP_FLOOD               4460\n",
            "DDOS-SLOWLORIS                3669\n",
            "DICTIONARYBRUTEFORCE          2081\n",
            "BROWSERHIJACKING               924\n",
            "SQLINJECTION                   822\n",
            "COMMANDINJECTION               810\n",
            "XSS                            645\n",
            "BACKDOOR_MALWARE               487\n",
            "RECON-PINGSWEEP                347\n",
            "UPLOADING_ATTACK               220\n",
            "Name: count, dtype: int64\n"
          ]
        }
      ],
      "source": [
        "import pandas as pd\n",
        "import numpy as np\n",
        "import tensorflow as tf\n",
        "from tensorflow import keras\n",
        "import seaborn as sns\n",
        "import matplotlib.pyplot as plt\n",
        "from sklearn import metrics\n",
        "from sklearn.model_selection import train_test_split\n",
        "from sklearn.preprocessing import LabelEncoder, StandardScaler\n",
        "import glob\n",
        "import os\n",
        "\n",
        "# Đọc tất cả file CSV từ thư mục cic-iot-2023\n",
        "folder_path = \"./cic-iot-2023/\"\n",
        "\n",
        "if not os.path.exists(folder_path):\n",
        "    print(f\"Folder {folder_path} does not exist.\")\n",
        "    raise FileNotFoundError(f\"Folder {folder_path} does not exist.\")\n",
        "\n",
        "csv_files = glob.glob(os.path.join(folder_path, '*.csv'))\n",
        "print(f\"Found {len(csv_files)} CSV files.\")\n",
        "\n",
        "dfs = []\n",
        "for file in csv_files:\n",
        "    try:\n",
        "        df_temp = pd.read_csv(file, low_memory=False)\n",
        "\n",
        "        if 'Unnamed: 0' in df_temp.columns:\n",
        "            df_temp.drop('Unnamed: 0', axis=1, inplace=True)\n",
        "\n",
        "        df_temp.replace([np.inf, -np.inf], np.nan, inplace=True)\n",
        "        df_temp.dropna(inplace=True)\n",
        "\n",
        "        dfs.append(df_temp)\n",
        "        print(f\"Successfully processed: {file} (shape: {df_temp.shape})\")\n",
        "    except Exception as e:\n",
        "        print(f\"Error processing {file}: {e}\")\n",
        "\n",
        "if dfs:\n",
        "    df_cic = pd.concat(dfs, ignore_index=True)\n",
        "    print(f\"\\nCombined DataFrame shape: {df_cic.shape}\")\n",
        "\n",
        "    df_cic.replace([np.inf, -np.inf], np.nan, inplace=True)\n",
        "    df_cic.dropna(inplace=True)\n",
        "\n",
        "    print(f\"Final DataFrame shape after cleaning: {df_cic.shape}\")\n",
        "    print(\"\\nDataset info:\")\n",
        "    print(df_cic.head())\n",
        "    print(\"\\nLabel distribution:\")\n",
        "    print(df_cic['Label'].value_counts())\n",
        "else:\n",
        "    raise ValueError(\"No valid CSV files found in the specified folder.\")\n"
      ]
    },
    {
      "cell_type": "markdown",
      "metadata": {
        "id": "0wpBYpIZUIDW"
      },
      "source": [
        "\n",
        "#### **2. Chuẩn bị dữ liệu cho Binary Classification**\n"
      ]
    },
    {
      "cell_type": "code",
      "execution_count": null,
      "metadata": {
        "id": "n1MKP896UIDW",
        "outputId": "a11d158d-b8cc-4e82-e8c1-33426467ad84"
      },
      "outputs": [
        {
          "name": "stdout",
          "output_type": "stream",
          "text": [
            "Features shape: (7307186, 39)\n",
            "Binary labels distribution:\n",
            "Label\n",
            "1    7307186\n",
            "Name: count, dtype: int64\n"
          ]
        }
      ],
      "source": [
        "# Tách features và labels\n",
        "X_cic = df_cic.drop('Label', axis=1)\n",
        "y_cic = df_cic['Label']\n",
        "\n",
        "# Chỉ giữ lại các cột số\n",
        "numeric_cols = X_cic.select_dtypes(include=[np.number]).columns\n",
        "X_cic = X_cic[numeric_cols]\n",
        "\n",
        "# Chuẩn hóa dữ liệu\n",
        "scaler = StandardScaler()\n",
        "X_cic_scaled = scaler.fit_transform(X_cic)\n",
        "X_cic_scaled = pd.DataFrame(X_cic_scaled, columns=X_cic.columns)\n",
        "\n",
        "# Tạo binary labels (Normal vs Attack)\n",
        "y_binary = (y_cic != 'Normal').astype(int)\n",
        "\n",
        "print(f\"Features shape: {X_cic_scaled.shape}\")\n",
        "print(f\"Binary labels distribution:\\n{y_binary.value_counts()}\")\n"
      ]
    },
    {
      "cell_type": "markdown",
      "metadata": {
        "id": "QmBb6N12UIDW"
      },
      "source": [
        "\n",
        "#### **3. Chia tập train/test**\n"
      ]
    },
    {
      "cell_type": "code",
      "execution_count": null,
      "metadata": {
        "id": "h7gy1yA3UIDX",
        "outputId": "72d264ac-3832-44bc-c8d8-60d0b4959a75"
      },
      "outputs": [
        {
          "name": "stdout",
          "output_type": "stream",
          "text": [
            "Train set: (5115030, 39), Test set: (2192156, 39)\n"
          ]
        }
      ],
      "source": [
        "X_train_bin, X_test_bin, y_train_bin, y_test_bin = train_test_split(\n",
        "    X_cic_scaled, y_binary, test_size=0.3, random_state=42, stratify=y_binary\n",
        ")\n",
        "\n",
        "print(f\"Train set: {X_train_bin.shape}, Test set: {X_test_bin.shape}\")\n"
      ]
    },
    {
      "cell_type": "markdown",
      "metadata": {
        "id": "hotBOD3cUIDX"
      },
      "source": [
        "\n",
        "#### **4. Xây dựng mô hình GRU cho Binary Classification**\n"
      ]
    },
    {
      "cell_type": "code",
      "execution_count": null,
      "metadata": {
        "id": "64JzA2GcUIDX",
        "outputId": "528363f0-e260-47b3-d98e-a7cd4c8f3903"
      },
      "outputs": [
        {
          "name": "stderr",
          "output_type": "stream",
          "text": [
            "C:\\Users\\WanThinnn\\AppData\\Roaming\\Python\\Python310\\site-packages\\keras\\src\\layers\\reshaping\\reshape.py:39: UserWarning: Do not pass an `input_shape`/`input_dim` argument to a layer. When using Sequential models, prefer using an `Input(shape)` object as the first layer in the model instead.\n",
            "  super().__init__(**kwargs)\n"
          ]
        },
        {
          "name": "stdout",
          "output_type": "stream",
          "text": [
            "Binary Classification Model Architecture:\n"
          ]
        },
        {
          "data": {
            "text/html": [
              "<pre style=\"white-space:pre;overflow-x:auto;line-height:normal;font-family:Menlo,'DejaVu Sans Mono',consolas,'Courier New',monospace\"><span style=\"font-weight: bold\">Model: \"sequential\"</span>\n",
              "</pre>\n"
            ],
            "text/plain": [
              "\u001b[1mModel: \"sequential\"\u001b[0m\n"
            ]
          },
          "metadata": {},
          "output_type": "display_data"
        },
        {
          "data": {
            "text/html": [
              "<pre style=\"white-space:pre;overflow-x:auto;line-height:normal;font-family:Menlo,'DejaVu Sans Mono',consolas,'Courier New',monospace\">┏━━━━━━━━━━━━━━━━━━━━━━━━━━━━━━━━━┳━━━━━━━━━━━━━━━━━━━━━━━━┳━━━━━━━━━━━━━━━┓\n",
              "┃<span style=\"font-weight: bold\"> Layer (type)                    </span>┃<span style=\"font-weight: bold\"> Output Shape           </span>┃<span style=\"font-weight: bold\">       Param # </span>┃\n",
              "┡━━━━━━━━━━━━━━━━━━━━━━━━━━━━━━━━━╇━━━━━━━━━━━━━━━━━━━━━━━━╇━━━━━━━━━━━━━━━┩\n",
              "│ reshape (<span style=\"color: #0087ff; text-decoration-color: #0087ff\">Reshape</span>)               │ (<span style=\"color: #00d7ff; text-decoration-color: #00d7ff\">None</span>, <span style=\"color: #00af00; text-decoration-color: #00af00\">39</span>, <span style=\"color: #00af00; text-decoration-color: #00af00\">1</span>)          │             <span style=\"color: #00af00; text-decoration-color: #00af00\">0</span> │\n",
              "├─────────────────────────────────┼────────────────────────┼───────────────┤\n",
              "│ gru (<span style=\"color: #0087ff; text-decoration-color: #0087ff\">GRU</span>)                       │ (<span style=\"color: #00d7ff; text-decoration-color: #00d7ff\">None</span>, <span style=\"color: #00af00; text-decoration-color: #00af00\">64</span>)             │        <span style=\"color: #00af00; text-decoration-color: #00af00\">12,864</span> │\n",
              "├─────────────────────────────────┼────────────────────────┼───────────────┤\n",
              "│ dropout (<span style=\"color: #0087ff; text-decoration-color: #0087ff\">Dropout</span>)               │ (<span style=\"color: #00d7ff; text-decoration-color: #00d7ff\">None</span>, <span style=\"color: #00af00; text-decoration-color: #00af00\">64</span>)             │             <span style=\"color: #00af00; text-decoration-color: #00af00\">0</span> │\n",
              "├─────────────────────────────────┼────────────────────────┼───────────────┤\n",
              "│ dense (<span style=\"color: #0087ff; text-decoration-color: #0087ff\">Dense</span>)                   │ (<span style=\"color: #00d7ff; text-decoration-color: #00d7ff\">None</span>, <span style=\"color: #00af00; text-decoration-color: #00af00\">32</span>)             │         <span style=\"color: #00af00; text-decoration-color: #00af00\">2,080</span> │\n",
              "├─────────────────────────────────┼────────────────────────┼───────────────┤\n",
              "│ dropout_1 (<span style=\"color: #0087ff; text-decoration-color: #0087ff\">Dropout</span>)             │ (<span style=\"color: #00d7ff; text-decoration-color: #00d7ff\">None</span>, <span style=\"color: #00af00; text-decoration-color: #00af00\">32</span>)             │             <span style=\"color: #00af00; text-decoration-color: #00af00\">0</span> │\n",
              "├─────────────────────────────────┼────────────────────────┼───────────────┤\n",
              "│ dense_1 (<span style=\"color: #0087ff; text-decoration-color: #0087ff\">Dense</span>)                 │ (<span style=\"color: #00d7ff; text-decoration-color: #00d7ff\">None</span>, <span style=\"color: #00af00; text-decoration-color: #00af00\">1</span>)              │            <span style=\"color: #00af00; text-decoration-color: #00af00\">33</span> │\n",
              "└─────────────────────────────────┴────────────────────────┴───────────────┘\n",
              "</pre>\n"
            ],
            "text/plain": [
              "┏━━━━━━━━━━━━━━━━━━━━━━━━━━━━━━━━━┳━━━━━━━━━━━━━━━━━━━━━━━━┳━━━━━━━━━━━━━━━┓\n",
              "┃\u001b[1m \u001b[0m\u001b[1mLayer (type)                   \u001b[0m\u001b[1m \u001b[0m┃\u001b[1m \u001b[0m\u001b[1mOutput Shape          \u001b[0m\u001b[1m \u001b[0m┃\u001b[1m \u001b[0m\u001b[1m      Param #\u001b[0m\u001b[1m \u001b[0m┃\n",
              "┡━━━━━━━━━━━━━━━━━━━━━━━━━━━━━━━━━╇━━━━━━━━━━━━━━━━━━━━━━━━╇━━━━━━━━━━━━━━━┩\n",
              "│ reshape (\u001b[38;5;33mReshape\u001b[0m)               │ (\u001b[38;5;45mNone\u001b[0m, \u001b[38;5;34m39\u001b[0m, \u001b[38;5;34m1\u001b[0m)          │             \u001b[38;5;34m0\u001b[0m │\n",
              "├─────────────────────────────────┼────────────────────────┼───────────────┤\n",
              "│ gru (\u001b[38;5;33mGRU\u001b[0m)                       │ (\u001b[38;5;45mNone\u001b[0m, \u001b[38;5;34m64\u001b[0m)             │        \u001b[38;5;34m12,864\u001b[0m │\n",
              "├─────────────────────────────────┼────────────────────────┼───────────────┤\n",
              "│ dropout (\u001b[38;5;33mDropout\u001b[0m)               │ (\u001b[38;5;45mNone\u001b[0m, \u001b[38;5;34m64\u001b[0m)             │             \u001b[38;5;34m0\u001b[0m │\n",
              "├─────────────────────────────────┼────────────────────────┼───────────────┤\n",
              "│ dense (\u001b[38;5;33mDense\u001b[0m)                   │ (\u001b[38;5;45mNone\u001b[0m, \u001b[38;5;34m32\u001b[0m)             │         \u001b[38;5;34m2,080\u001b[0m │\n",
              "├─────────────────────────────────┼────────────────────────┼───────────────┤\n",
              "│ dropout_1 (\u001b[38;5;33mDropout\u001b[0m)             │ (\u001b[38;5;45mNone\u001b[0m, \u001b[38;5;34m32\u001b[0m)             │             \u001b[38;5;34m0\u001b[0m │\n",
              "├─────────────────────────────────┼────────────────────────┼───────────────┤\n",
              "│ dense_1 (\u001b[38;5;33mDense\u001b[0m)                 │ (\u001b[38;5;45mNone\u001b[0m, \u001b[38;5;34m1\u001b[0m)              │            \u001b[38;5;34m33\u001b[0m │\n",
              "└─────────────────────────────────┴────────────────────────┴───────────────┘\n"
            ]
          },
          "metadata": {},
          "output_type": "display_data"
        },
        {
          "data": {
            "text/html": [
              "<pre style=\"white-space:pre;overflow-x:auto;line-height:normal;font-family:Menlo,'DejaVu Sans Mono',consolas,'Courier New',monospace\"><span style=\"font-weight: bold\"> Total params: </span><span style=\"color: #00af00; text-decoration-color: #00af00\">14,977</span> (58.50 KB)\n",
              "</pre>\n"
            ],
            "text/plain": [
              "\u001b[1m Total params: \u001b[0m\u001b[38;5;34m14,977\u001b[0m (58.50 KB)\n"
            ]
          },
          "metadata": {},
          "output_type": "display_data"
        },
        {
          "data": {
            "text/html": [
              "<pre style=\"white-space:pre;overflow-x:auto;line-height:normal;font-family:Menlo,'DejaVu Sans Mono',consolas,'Courier New',monospace\"><span style=\"font-weight: bold\"> Trainable params: </span><span style=\"color: #00af00; text-decoration-color: #00af00\">14,977</span> (58.50 KB)\n",
              "</pre>\n"
            ],
            "text/plain": [
              "\u001b[1m Trainable params: \u001b[0m\u001b[38;5;34m14,977\u001b[0m (58.50 KB)\n"
            ]
          },
          "metadata": {},
          "output_type": "display_data"
        },
        {
          "data": {
            "text/html": [
              "<pre style=\"white-space:pre;overflow-x:auto;line-height:normal;font-family:Menlo,'DejaVu Sans Mono',consolas,'Courier New',monospace\"><span style=\"font-weight: bold\"> Non-trainable params: </span><span style=\"color: #00af00; text-decoration-color: #00af00\">0</span> (0.00 B)\n",
              "</pre>\n"
            ],
            "text/plain": [
              "\u001b[1m Non-trainable params: \u001b[0m\u001b[38;5;34m0\u001b[0m (0.00 B)\n"
            ]
          },
          "metadata": {},
          "output_type": "display_data"
        }
      ],
      "source": [
        "def build_gru_binary_model(input_shape):\n",
        "    model = keras.Sequential([\n",
        "        keras.layers.Reshape((input_shape, 1), input_shape=(input_shape,)),\n",
        "        keras.layers.GRU(units=64, return_sequences=False),\n",
        "        keras.layers.Dropout(0.5),\n",
        "        keras.layers.Dense(units=32, activation='relu'),\n",
        "        keras.layers.Dropout(0.3),\n",
        "        keras.layers.Dense(units=1, activation='sigmoid')\n",
        "    ])\n",
        "\n",
        "    model.compile(\n",
        "        loss='binary_crossentropy',\n",
        "        optimizer='adam',\n",
        "        metrics=['accuracy']\n",
        "    )\n",
        "\n",
        "    return model\n",
        "\n",
        "model_binary = build_gru_binary_model(X_train_bin.shape[1])\n",
        "print(\"Binary Classification Model Architecture:\")\n",
        "model_binary.summary()\n"
      ]
    },
    {
      "cell_type": "markdown",
      "metadata": {
        "id": "h5M8cwVaUIDY"
      },
      "source": [
        "\n",
        "#### **5. Huấn luyện mô hình Binary**\n"
      ]
    },
    {
      "cell_type": "code",
      "execution_count": null,
      "metadata": {
        "id": "gdhZj83RUIDY",
        "outputId": "b8c957d5-ec08-42e3-ad60-d36138b8af68"
      },
      "outputs": [
        {
          "name": "stdout",
          "output_type": "stream",
          "text": [
            "Training Binary Classification model...\n",
            "Epoch 1/10\n",
            "\u001b[1m3997/3997\u001b[0m \u001b[32m━━━━━━━━━━━━━━━━━━━━\u001b[0m\u001b[37m\u001b[0m \u001b[1m283s\u001b[0m 70ms/step - accuracy: 0.9975 - loss: 0.0240 - val_accuracy: 1.0000 - val_loss: 2.1236e-11\n",
            "Epoch 2/10\n",
            "\u001b[1m3997/3997\u001b[0m \u001b[32m━━━━━━━━━━━━━━━━━━━━\u001b[0m\u001b[37m\u001b[0m \u001b[1m335s\u001b[0m 84ms/step - accuracy: 1.0000 - loss: 4.4926e-07 - val_accuracy: 1.0000 - val_loss: 9.0295e-14\n",
            "Epoch 3/10\n",
            "\u001b[1m3997/3997\u001b[0m \u001b[32m━━━━━━━━━━━━━━━━━━━━\u001b[0m\u001b[37m\u001b[0m \u001b[1m320s\u001b[0m 80ms/step - accuracy: 1.0000 - loss: 1.1702e-07 - val_accuracy: 1.0000 - val_loss: 3.2672e-16\n",
            "Epoch 4/10\n",
            "\u001b[1m3997/3997\u001b[0m \u001b[32m━━━━━━━━━━━━━━━━━━━━\u001b[0m\u001b[37m\u001b[0m \u001b[1m358s\u001b[0m 90ms/step - accuracy: 1.0000 - loss: 1.8853e-08 - val_accuracy: 1.0000 - val_loss: 7.2922e-19\n",
            "Epoch 5/10\n",
            "\u001b[1m3997/3997\u001b[0m \u001b[32m━━━━━━━━━━━━━━━━━━━━\u001b[0m\u001b[37m\u001b[0m \u001b[1m326s\u001b[0m 82ms/step - accuracy: 1.0000 - loss: 6.4223e-09 - val_accuracy: 1.0000 - val_loss: 2.2453e-20\n",
            "Epoch 6/10\n",
            "\u001b[1m3997/3997\u001b[0m \u001b[32m━━━━━━━━━━━━━━━━━━━━\u001b[0m\u001b[37m\u001b[0m \u001b[1m351s\u001b[0m 88ms/step - accuracy: 1.0000 - loss: 2.2833e-09 - val_accuracy: 1.0000 - val_loss: 1.1985e-22\n",
            "Epoch 7/10\n",
            "\u001b[1m3997/3997\u001b[0m \u001b[32m━━━━━━━━━━━━━━━━━━━━\u001b[0m\u001b[37m\u001b[0m \u001b[1m302s\u001b[0m 76ms/step - accuracy: 1.0000 - loss: 7.3225e-10 - val_accuracy: 1.0000 - val_loss: 1.8306e-23\n",
            "Epoch 8/10\n",
            "\u001b[1m3997/3997\u001b[0m \u001b[32m━━━━━━━━━━━━━━━━━━━━\u001b[0m\u001b[37m\u001b[0m \u001b[1m315s\u001b[0m 79ms/step - accuracy: 1.0000 - loss: 2.3006e-10 - val_accuracy: 1.0000 - val_loss: 2.8177e-24\n",
            "Epoch 9/10\n",
            "\u001b[1m3997/3997\u001b[0m \u001b[32m━━━━━━━━━━━━━━━━━━━━\u001b[0m\u001b[37m\u001b[0m \u001b[1m301s\u001b[0m 75ms/step - accuracy: 1.0000 - loss: 7.4211e-11 - val_accuracy: 1.0000 - val_loss: 9.3380e-25\n",
            "Epoch 10/10\n",
            "\u001b[1m3997/3997\u001b[0m \u001b[32m━━━━━━━━━━━━━━━━━━━━\u001b[0m\u001b[37m\u001b[0m \u001b[1m299s\u001b[0m 75ms/step - accuracy: 1.0000 - loss: 1.7488e-10 - val_accuracy: 1.0000 - val_loss: 2.9943e-25\n"
          ]
        }
      ],
      "source": [
        "print(\"Training Binary Classification model...\")\n",
        "history_binary = model_binary.fit(\n",
        "    X_train_bin, y_train_bin,\n",
        "    epochs=10,\n",
        "    batch_size=1024,\n",
        "    validation_split=0.2,\n",
        "    verbose=1\n",
        ")\n"
      ]
    },
    {
      "cell_type": "markdown",
      "metadata": {
        "id": "3_YOiDPxUIDY"
      },
      "source": [
        "\n",
        "#### **6. Vẽ biểu đồ loss**\n"
      ]
    },
    {
      "cell_type": "code",
      "execution_count": null,
      "metadata": {
        "id": "TvkS4JELUIDY",
        "outputId": "a78e39a8-0581-4bd1-e683-968131549d9b"
      },
      "outputs": [
        {
          "data": {
            "image/png": "[encoded data removed]",
            "text/plain": [
              "<Figure size 1000x400 with 2 Axes>"
            ]
          },
          "metadata": {},
          "output_type": "display_data"
        }
      ],
      "source": [
        "plt.figure(figsize=(10, 4))\n",
        "plt.subplot(1, 2, 1)\n",
        "plt.plot(history_binary.history['loss'], label='Train Loss')\n",
        "plt.plot(history_binary.history['val_loss'], label='Validation Loss')\n",
        "plt.title('Binary Classification - Loss')\n",
        "plt.xlabel('Epochs')\n",
        "plt.ylabel('Loss')\n",
        "plt.legend()\n",
        "\n",
        "plt.subplot(1, 2, 2)\n",
        "plt.plot(history_binary.history['accuracy'], label='Train Accuracy')\n",
        "plt.plot(history_binary.history['val_accuracy'], label='Validation Accuracy')\n",
        "plt.title('Binary Classification - Accuracy')\n",
        "plt.xlabel('Epochs')\n",
        "plt.ylabel('Accuracy')\n",
        "plt.legend()\n",
        "plt.tight_layout()\n",
        "plt.show()\n"
      ]
    },
    {
      "cell_type": "markdown",
      "metadata": {
        "id": "aBdqALc7UIDY"
      },
      "source": [
        "\n",
        "#### **7. Đánh giá mô hình Binary**\n"
      ]
    },
    {
      "cell_type": "code",
      "execution_count": null,
      "metadata": {
        "id": "_thwP8l5UIDY",
        "outputId": "c795786c-16e4-4cfa-ee03-68347808df59"
      },
      "outputs": [
        {
          "name": "stdout",
          "output_type": "stream",
          "text": [
            "\n",
            "=== BINARY CLASSIFICATION RESULTS ===\n",
            "Test Accuracy: 1.0000\n",
            "Test Loss: 0.0000\n",
            "Unique predicted classes: [1]\n",
            "Unique actual classes: [1]\n",
            "\n",
            "Classification Report:\n",
            "              precision    recall  f1-score   support\n",
            "\n",
            "           1       1.00      1.00      1.00   2192156\n",
            "\n",
            "    accuracy                           1.00   2192156\n",
            "   macro avg       1.00      1.00      1.00   2192156\n",
            "weighted avg       1.00      1.00      1.00   2192156\n",
            "\n",
            "\n",
            "Note: Model chỉ dự đoán 1 class duy nhất. Có thể cần điều chỉnh threshold hoặc model.\n",
            "\n",
            "Confusion Matrix:\n"
          ]
        },
        {
          "name": "stderr",
          "output_type": "stream",
          "text": [
            "C:\\Users\\WanThinnn\\AppData\\Roaming\\Python\\Python310\\site-packages\\sklearn\\metrics\\_classification.py:407: UserWarning: A single label was found in 'y_true' and 'y_pred'. For the confusion matrix to have the correct shape, use the 'labels' parameter to pass all known labels.\n",
            "  warnings.warn(\n"
          ]
        },
        {
          "name": "stdout",
          "output_type": "stream",
          "text": [
            "[[2192156]]\n",
            "\n",
            "Detailed Statistics:\n",
            "Accuracy: 1.0000\n",
            "Precision: 1.0000\n",
            "Recall: 1.0000\n",
            "F1-score: 1.0000\n",
            "\n",
            "Prediction distribution:\n",
            "Normal (0): 0\n",
            "Attack (1): 2192156\n",
            "Actual distribution:\n",
            "Normal (0): 0\n",
            "Attack (1): 2192156\n",
            "\n",
            "Trying different thresholds:\n",
            "Threshold 0.3: Accuracy = 1.0000, Unique predictions = [1]\n",
            "Threshold 0.4: Accuracy = 1.0000, Unique predictions = [1]\n",
            "Threshold 0.5: Accuracy = 1.0000, Unique predictions = [1]\n",
            "Threshold 0.6: Accuracy = 1.0000, Unique predictions = [1]\n",
            "Threshold 0.7: Accuracy = 1.0000, Unique predictions = [1]\n"
          ]
        }
      ],
      "source": [
        "print(\"\\n=== BINARY CLASSIFICATION RESULTS ===\")\n",
        "test_loss, test_acc = model_binary.evaluate(X_test_bin, y_test_bin, verbose=0)\n",
        "print(f\"Test Accuracy: {test_acc:.4f}\")\n",
        "print(f\"Test Loss: {test_loss:.4f}\")\n",
        "\n",
        "# Dự đoán và tính metrics\n",
        "y_pred_binary = model_binary.predict(X_test_bin, verbose=0)\n",
        "y_pred_binary_classes = (y_pred_binary > 0.5).astype(int).flatten()\n",
        "\n",
        "# Kiểm tra số lượng class duy nhất trong predictions\n",
        "unique_classes = np.unique(y_pred_binary_classes)\n",
        "print(f\"Unique predicted classes: {unique_classes}\")\n",
        "print(f\"Unique actual classes: {np.unique(y_test_bin)}\")\n",
        "\n",
        "print(\"\\nClassification Report:\")\n",
        "try:\n",
        "    # Chỉ sử dụng target_names nếu có đủ 2 class trong predictions\n",
        "    if len(unique_classes) >= 2:\n",
        "        print(metrics.classification_report(y_test_bin, y_pred_binary_classes,\n",
        "                                            target_names=['Normal', 'Attack']))\n",
        "    else:\n",
        "        # Không sử dụng target_names nếu chỉ có 1 class\n",
        "        print(metrics.classification_report(y_test_bin, y_pred_binary_classes))\n",
        "        print(\"\\nNote: Model chỉ dự đoán 1 class duy nhất. Có thể cần điều chỉnh threshold hoặc model.\")\n",
        "except Exception as e:\n",
        "    print(f\"Error in classification report: {e}\")\n",
        "    print(\"Fallback classification report:\")\n",
        "    print(metrics.classification_report(y_test_bin, y_pred_binary_classes))\n",
        "\n",
        "print(\"\\nConfusion Matrix:\")\n",
        "print(metrics.confusion_matrix(y_test_bin, y_pred_binary_classes))\n",
        "\n",
        "# Thêm thống kê chi tiết\n",
        "print(f\"\\nDetailed Statistics:\")\n",
        "print(f\"Accuracy: {metrics.accuracy_score(y_test_bin, y_pred_binary_classes):.4f}\")\n",
        "print(f\"Precision: {metrics.precision_score(y_test_bin, y_pred_binary_classes, average='weighted', zero_division=0):.4f}\")\n",
        "print(f\"Recall: {metrics.recall_score(y_test_bin, y_pred_binary_classes, average='weighted', zero_division=0):.4f}\")\n",
        "print(f\"F1-score: {metrics.f1_score(y_test_bin, y_pred_binary_classes, average='weighted', zero_division=0):.4f}\")\n",
        "\n",
        "# Kiểm tra phân phối dự đoán\n",
        "print(f\"\\nPrediction distribution:\")\n",
        "print(f\"Normal (0): {np.sum(y_pred_binary_classes == 0)}\")\n",
        "print(f\"Attack (1): {np.sum(y_pred_binary_classes == 1)}\")\n",
        "print(f\"Actual distribution:\")\n",
        "print(f\"Normal (0): {np.sum(y_test_bin == 0)}\")\n",
        "print(f\"Attack (1): {np.sum(y_test_bin == 1)}\")\n",
        "\n",
        "# Thử với threshold khác nhau\n",
        "print(\"\\nTrying different thresholds:\")\n",
        "for threshold in [0.3, 0.4, 0.5, 0.6, 0.7]:\n",
        "    y_pred_thresh = (y_pred_binary > threshold).astype(int).flatten()\n",
        "    unique_pred = np.unique(y_pred_thresh)\n",
        "    acc = metrics.accuracy_score(y_test_bin, y_pred_thresh)\n",
        "    print(f\"Threshold {threshold}: Accuracy = {acc:.4f}, Unique predictions = {unique_pred}\")"
      ]
    },
    {
      "cell_type": "markdown",
      "metadata": {
        "id": "-MEEDC69UIDZ"
      },
      "source": [
        "### **B. Multiclass Classification cho CIC IoT Dataset 2023**\n"
      ]
    },
    {
      "cell_type": "markdown",
      "metadata": {
        "id": "2KuNrNAlUIDZ"
      },
      "source": [
        "#### **1. Chuẩn bị dữ liệu cho Multiclass Classification**"
      ]
    },
    {
      "cell_type": "code",
      "execution_count": null,
      "metadata": {
        "id": "njyKDOjZUIDZ"
      },
      "outputs": [],
      "source": [
        "# Sử dụng lại X_cic_scaled từ phần trước\n",
        "X_multi = X_cic_scaled.copy()\n",
        "y_multi = y_cic.copy()\n",
        "\n",
        "# Encode labels cho multiclass\n",
        "label_encoder = LabelEncoder()\n",
        "y_multi_encoded = label_encoder.fit_transform(y_multi)\n",
        "\n",
        "print(f\"Number of classes: {len(label_encoder.classes_)}\")\n",
        "print(f\"Classes: {label_encoder.classes_}\")\n",
        "print(f\"\\nClass distribution:\")\n",
        "for i, class_name in enumerate(label_encoder.classes_):\n",
        "    count = sum(y_multi_encoded == i)\n",
        "    print(f\"{class_name}: {count}\")\n"
      ]
    },
    {
      "cell_type": "markdown",
      "metadata": {
        "id": "CY6wflZBUIDZ"
      },
      "source": [
        "\n",
        "#### **2. Chia tập train/test cho Multiclass**\n"
      ]
    },
    {
      "cell_type": "code",
      "execution_count": null,
      "metadata": {
        "id": "FiI4Oy5LUIDZ"
      },
      "outputs": [],
      "source": [
        "X_train_multi, X_test_multi, y_train_multi, y_test_multi = train_test_split(\n",
        "    X_multi, y_multi_encoded, test_size=0.3, random_state=42, stratify=y_multi_encoded\n",
        ")\n",
        "\n",
        "print(f\"Train set: {X_train_multi.shape}, Test set: {X_test_multi.shape}\")\n"
      ]
    },
    {
      "cell_type": "markdown",
      "metadata": {
        "id": "dyYGENt5UIDZ"
      },
      "source": [
        "\n",
        "#### **3. Xây dựng mô hình GRU cho Multiclass Classification**\n"
      ]
    },
    {
      "cell_type": "code",
      "execution_count": null,
      "metadata": {
        "id": "WglDRv9DUIDa"
      },
      "outputs": [],
      "source": [
        "def build_gru_multiclass_model(input_shape, num_classes):\n",
        "    model = keras.Sequential([\n",
        "        keras.layers.Reshape((input_shape, 1), input_shape=(input_shape,)),\n",
        "        keras.layers.GRU(units=128, return_sequences=True),\n",
        "        keras.layers.Dropout(0.3),\n",
        "        keras.layers.GRU(units=64, return_sequences=False),\n",
        "        keras.layers.Dropout(0.5),\n",
        "        keras.layers.Dense(units=32, activation='relu'),\n",
        "        keras.layers.Dropout(0.3),\n",
        "        keras.layers.Dense(units=num_classes, activation='softmax')\n",
        "    ])\n",
        "\n",
        "    model.compile(\n",
        "        loss='sparse_categorical_crossentropy',\n",
        "        optimizer='adam',\n",
        "        metrics=['accuracy']\n",
        "    )\n",
        "\n",
        "    return model\n",
        "\n",
        "model_multiclass = build_gru_multiclass_model(X_train_multi.shape[1], len(label_encoder.classes_))\n",
        "print(\"\\nMulticlass Classification Model Architecture:\")\n",
        "model_multiclass.summary()"
      ]
    },
    {
      "cell_type": "markdown",
      "metadata": {
        "id": "1BlUbaIPUIDa"
      },
      "source": [
        "\n",
        "#### **4. Huấn luyện mô hình Multiclass**\n"
      ]
    },
    {
      "cell_type": "code",
      "execution_count": null,
      "metadata": {
        "id": "qIYuYnsOUIDa"
      },
      "outputs": [],
      "source": [
        "print(\"Training Multiclass Classification model...\")\n",
        "history_multiclass = model_multiclass.fit(\n",
        "    X_train_multi, y_train_multi,\n",
        "    epochs=15,\n",
        "    batch_size=1024,\n",
        "    validation_split=0.2,\n",
        "    verbose=1\n",
        ")\n"
      ]
    },
    {
      "cell_type": "markdown",
      "metadata": {
        "id": "FwtU9TrwUIDa"
      },
      "source": [
        "\n",
        "#### **5. Vẽ biểu đồ loss cho Multiclass**\n"
      ]
    },
    {
      "cell_type": "code",
      "execution_count": null,
      "metadata": {
        "id": "bnju_mX2UIDa"
      },
      "outputs": [],
      "source": [
        "plt.figure(figsize=(10, 4))\n",
        "plt.subplot(1, 2, 1)\n",
        "plt.plot(history_multiclass.history['loss'], label='Train Loss')\n",
        "plt.plot(history_multiclass.history['val_loss'], label='Validation Loss')\n",
        "plt.title('Multiclass Classification - Loss')\n",
        "plt.xlabel('Epochs')\n",
        "plt.ylabel('Loss')\n",
        "plt.legend()\n",
        "\n",
        "plt.subplot(1, 2, 2)\n",
        "plt.plot(history_multiclass.history['accuracy'], label='Train Accuracy')\n",
        "plt.plot(history_multiclass.history['val_accuracy'], label='Validation Accuracy')\n",
        "plt.title('Multiclass Classification - Accuracy')\n",
        "plt.xlabel('Epochs')\n",
        "plt.ylabel('Accuracy')\n",
        "plt.legend()\n",
        "plt.tight_layout()\n",
        "plt.show()\n"
      ]
    },
    {
      "cell_type": "markdown",
      "metadata": {
        "id": "zskK8UM8UIDa"
      },
      "source": [
        "\n",
        "#### **6. Đánh giá mô hình Multiclass**\n"
      ]
    },
    {
      "cell_type": "code",
      "execution_count": null,
      "metadata": {
        "id": "ErVLSo-0UIDa"
      },
      "outputs": [],
      "source": [
        "print(\"\\n=== MULTICLASS CLASSIFICATION RESULTS ===\")\n",
        "test_loss_multi, test_acc_multi = model_multiclass.evaluate(X_test_multi, y_test_multi, verbose=0)\n",
        "print(f\"Test Accuracy: {test_acc_multi:.4f}\")\n",
        "print(f\"Test Loss: {test_loss_multi:.4f}\")\n",
        "\n",
        "# Dự đoán\n",
        "y_pred_multi = model_multiclass.predict(X_test_multi, verbose=0)\n",
        "y_pred_multi_classes = np.argmax(y_pred_multi, axis=1)\n",
        "\n",
        "print(\"\\nClassification Report:\")\n",
        "print(metrics.classification_report(y_test_multi, y_pred_multi_classes,\n",
        "                                    target_names=label_encoder.classes_))\n",
        "\n",
        "print(\"\\nConfusion Matrix:\")\n",
        "cm = metrics.confusion_matrix(y_test_multi, y_pred_multi_classes)\n",
        "print(cm)\n",
        "\n",
        "# Vẽ confusion matrix\n",
        "plt.figure(figsize=(10, 8))\n",
        "sns.heatmap(cm, annot=True, fmt='d', cmap='Blues',\n",
        "            xticklabels=label_encoder.classes_,\n",
        "            yticklabels=label_encoder.classes_)\n",
        "plt.title('Confusion Matrix - Multiclass Classification')\n",
        "plt.xlabel('Predicted')\n",
        "plt.ylabel('Actual')\n",
        "plt.xticks(rotation=45)\n",
        "plt.yticks(rotation=0)\n",
        "plt.tight_layout()\n",
        "plt.show()\n"
      ]
    },
    {
      "cell_type": "markdown",
      "metadata": {
        "id": "u47M3ArrUIDb"
      },
      "source": [
        "\n",
        "#### **7. So sánh kết quả**\n"
      ]
    },
    {
      "cell_type": "code",
      "execution_count": null,
      "metadata": {
        "id": "Sxv1QkflUIDb"
      },
      "outputs": [],
      "source": [
        "print(\"\\n=== SUMMARY COMPARISON ===\")\n",
        "print(f\"Binary Classification Accuracy: {test_acc:.4f}\")\n",
        "print(f\"Multiclass Classification Accuracy: {test_acc_multi:.4f}\")"
      ]
    }
  ],
  "metadata": {
    "accelerator": "GPU",
    "colab": {
      "provenance": [],
      "toc_visible": true
    },
    "gpuClass": "standard",
    "kernelspec": {
      "display_name": "Python 3",
      "language": "python",
      "name": "python3"
    },
    "language_info": {
      "codemirror_mode": {
        "name": "ipython",
        "version": 3
      },
      "file_extension": ".py",
      "mimetype": "text/x-python",
      "name": "python",
      "nbconvert_exporter": "python",
      "pygments_lexer": "ipython3",
      "version": "3.10.8"
    }
  },
  "nbformat": 4,
  "nbformat_minor": 0
}