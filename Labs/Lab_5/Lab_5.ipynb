{
 "cells": [
  {
   "cell_type": "markdown",
   "metadata": {
    "id": "nM0tPcaUFbkN"
   },
   "source": [
    "# **NT522.P21.ANTT - Lab 5**\n",
    "\n",
    "# **Phát hiện bất thường mạng sử dụng mô hình GRU**\n",
    "Trong bài thực hành này, ta sẽ tạo và huấn luyện mô hình GRU để phát hiện xâm nhập mạng.\n"
   ]
  },
  {
   "cell_type": "markdown",
   "metadata": {
    "id": "k_zsXwnvv1yc"
   },
   "source": [
    "# **A. Hướng dẫn xây dựng mô hình phân loại 2 lớp**\n",
    "\n",
    "\n",
    "\n"
   ]
  },
  {
   "cell_type": "markdown",
   "metadata": {
    "id": "BwX0MmK5IvvR"
   },
   "source": [
    "## **1. Đọc tập dữ liệu KDD99**"
   ]
  },
  {
   "cell_type": "code",
   "execution_count": null,
   "metadata": {
    "colab": {
     "base_uri": "https://localhost:8080/"
    },
    "executionInfo": {
     "elapsed": 12102,
     "status": "ok",
     "timestamp": 1744767331515,
     "user": {
      "displayName": "Quyền Nguyễn Hữu",
      "userId": "01446055357181239268"
     },
     "user_tz": -420
    },
    "id": "z1E_TeVeJQ5O",
    "outputId": "209543b0-f93f-4175-b987-03635e9ed3ba"
   },
   "outputs": [],
   "source": [
    "import pandas as pd\n",
    "import numpy as np\n",
    "import tensorflow as tf\n",
    "from tensorflow import keras\n",
    "import pandas as pd\n",
    "import seaborn as sns\n",
    "import matplotlib.pyplot as plt\n",
    "from sklearn import metrics\n",
    "\n",
    "from tensorflow.keras.utils import get_file\n",
    "try:\n",
    "    path = get_file('kddcup.data_10_percent.gz', origin='http://kdd.ics.uci.edu/databases/kddcup99/kddcup.data_10_percent.gz')\n",
    "except:\n",
    "    print('Error downloading')\n",
    "    raise\n",
    "\n",
    "print(path)"
   ]
  },
  {
   "cell_type": "code",
   "execution_count": null,
   "metadata": {
    "colab": {
     "base_uri": "https://localhost:8080/"
    },
    "executionInfo": {
     "elapsed": 1637,
     "status": "ok",
     "timestamp": 1744767557098,
     "user": {
      "displayName": "Quyền Nguyễn Hữu",
      "userId": "01446055357181239268"
     },
     "user_tz": -420
    },
    "id": "q7XZf1CtJ4JQ",
    "outputId": "b808ec5b-72de-40b4-f375-a002a840804e"
   },
   "outputs": [],
   "source": [
    "df = pd.read_csv(path, header=None)\n",
    "print(\"Read {} rows.\".format(len(df)))"
   ]
  },
  {
   "cell_type": "code",
   "execution_count": null,
   "metadata": {
    "colab": {
     "base_uri": "https://localhost:8080/",
     "height": 256
    },
    "executionInfo": {
     "elapsed": 37,
     "status": "ok",
     "timestamp": 1744767557136,
     "user": {
      "displayName": "Quyền Nguyễn Hữu",
      "userId": "01446055357181239268"
     },
     "user_tz": -420
    },
    "id": "iAFXXcVaJ8Ie",
    "outputId": "44540476-8b64-489e-a5a8-e2f6d54747f9"
   },
   "outputs": [],
   "source": [
    "# CSV không có header\n",
    "df.columns = ['duration','protocol_type','service','flag','src_bytes','dst_bytes','land','wrong_fragment','urgent','hot',\n",
    "              'num_failed_logins','logged_in','num_compromised','root_shell', 'su_attempted','num_root','num_file_creations','num_shells',\n",
    "              'num_access_files','num_outbound_cmds','is_host_login','is_guest_login','count','srv_count','serror_rate','srv_serror_rate',\n",
    "              'rerror_rate','srv_rerror_rate','same_srv_rate','diff_srv_rate','srv_diff_host_rate','dst_host_count','dst_host_srv_count',\n",
    "              'dst_host_same_srv_rate','dst_host_diff_srv_rate','dst_host_same_src_port_rate','dst_host_srv_diff_host_rate','dst_host_serror_rate',\n",
    "              'dst_host_srv_serror_rate','dst_host_rerror_rate','dst_host_srv_rerror_rate','outcome']\n",
    "df.head()"
   ]
  },
  {
   "cell_type": "markdown",
   "metadata": {
    "id": "q4T-im0lKUvv"
   },
   "source": [
    "## **2. Xử lý dữ liệu**"
   ]
  },
  {
   "cell_type": "code",
   "execution_count": null,
   "metadata": {
    "colab": {
     "base_uri": "https://localhost:8080/"
    },
    "executionInfo": {
     "elapsed": 10,
     "status": "ok",
     "timestamp": 1744767557137,
     "user": {
      "displayName": "Quyền Nguyễn Hữu",
      "userId": "01446055357181239268"
     },
     "user_tz": -420
    },
    "id": "8OVcSrk4PSWx",
    "outputId": "c6983a91-070f-4023-b84f-7c654b2942e4"
   },
   "outputs": [],
   "source": [
    "df.shape"
   ]
  },
  {
   "cell_type": "code",
   "execution_count": null,
   "metadata": {
    "colab": {
     "base_uri": "https://localhost:8080/"
    },
    "executionInfo": {
     "elapsed": 202,
     "status": "ok",
     "timestamp": 1744767557337,
     "user": {
      "displayName": "Quyền Nguyễn Hữu",
      "userId": "01446055357181239268"
     },
     "user_tz": -420
    },
    "id": "GF_8-gPGKawV",
    "outputId": "392b8e77-e724-49d5-aea1-c11cf9bd4139"
   },
   "outputs": [],
   "source": [
    "df.dropna(inplace=True,axis=1)\n",
    "df.shape"
   ]
  },
  {
   "cell_type": "code",
   "execution_count": null,
   "metadata": {
    "colab": {
     "base_uri": "https://localhost:8080/",
     "height": 1000
    },
    "executionInfo": {
     "elapsed": 55,
     "status": "ok",
     "timestamp": 1744767557397,
     "user": {
      "displayName": "Quyền Nguyễn Hữu",
      "userId": "01446055357181239268"
     },
     "user_tz": -420
    },
    "id": "LGL7sWXOLD5l",
    "outputId": "b011b0bd-6760-4e36-ae6d-5a5504f74c97"
   },
   "outputs": [],
   "source": [
    "df.dtypes"
   ]
  },
  {
   "cell_type": "code",
   "execution_count": null,
   "metadata": {
    "colab": {
     "base_uri": "https://localhost:8080/",
     "height": 837
    },
    "executionInfo": {
     "elapsed": 90,
     "status": "ok",
     "timestamp": 1744767558442,
     "user": {
      "displayName": "Quyền Nguyễn Hữu",
      "userId": "01446055357181239268"
     },
     "user_tz": -420
    },
    "id": "bbdx6dT3LG5v",
    "outputId": "ca5b83e3-4f23-4580-9388-3f423a39bd62"
   },
   "outputs": [],
   "source": [
    "df.groupby('outcome')['outcome'].count()"
   ]
  },
  {
   "cell_type": "markdown",
   "metadata": {
    "id": "AJ-X9QvFNBMV"
   },
   "source": [
    "## **3. Encode dữ liệu số và chữ**"
   ]
  },
  {
   "cell_type": "code",
   "execution_count": null,
   "metadata": {
    "id": "DHVSX8JuNee9"
   },
   "outputs": [],
   "source": [
    "def encode_numeric_zscore(df, name, mean=None, sd=None):\n",
    "    if mean is None:\n",
    "        mean = df[name].mean()\n",
    "\n",
    "    if sd is None:\n",
    "        sd = df[name].std()\n",
    "\n",
    "    df[name] = (df[name] - mean) / sd\n",
    "\n",
    "def encode_text_dummy(df, name):\n",
    "    dummies = pd.get_dummies(df[name])\n",
    "    for x in dummies.columns:\n",
    "        dummy_name = f\"{name}-{x}\"\n",
    "        df[dummy_name] = dummies[x]\n",
    "    df.drop(name, axis=1, inplace=True)"
   ]
  },
  {
   "cell_type": "code",
   "execution_count": null,
   "metadata": {
    "id": "XPWe0f1iN_TX"
   },
   "outputs": [],
   "source": [
    "#encoding feature vector\n",
    "text_col =['protocol_type', 'service', 'flag', 'land', 'logged_in', 'is_host_login', 'is_guest_login', ]\n",
    "\n",
    "for i in df.columns:\n",
    "  if i not in text_col:\n",
    "    if i != 'outcome':\n",
    "      encode_numeric_zscore(df, i)\n",
    "\n",
    "for x in text_col:\n",
    "  encode_text_dummy(df, x)"
   ]
  },
  {
   "cell_type": "code",
   "execution_count": null,
   "metadata": {
    "colab": {
     "base_uri": "https://localhost:8080/",
     "height": 273
    },
    "executionInfo": {
     "elapsed": 247,
     "status": "ok",
     "timestamp": 1744767576604,
     "user": {
      "displayName": "Quyền Nguyễn Hữu",
      "userId": "01446055357181239268"
     },
     "user_tz": -420
    },
    "id": "afhYSbcIOC8L",
    "outputId": "63ddca02-9fe8-41f1-bacf-f5847c8f45d1"
   },
   "outputs": [],
   "source": [
    "df.dropna(inplace=True,axis=1)\n",
    "df[0:5]"
   ]
  },
  {
   "cell_type": "code",
   "execution_count": null,
   "metadata": {
    "colab": {
     "base_uri": "https://localhost:8080/"
    },
    "executionInfo": {
     "elapsed": 158,
     "status": "ok",
     "timestamp": 1744767582161,
     "user": {
      "displayName": "Quyền Nguyễn Hữu",
      "userId": "01446055357181239268"
     },
     "user_tz": -420
    },
    "id": "oewXPZqvOFkn",
    "outputId": "33da42aa-da4a-4bbf-ed6a-748ca68a9bae"
   },
   "outputs": [],
   "source": [
    "df['protocol_type-tcp'].unique()"
   ]
  },
  {
   "cell_type": "code",
   "execution_count": null,
   "metadata": {
    "id": "_mdW2Gn8oIV0"
   },
   "outputs": [],
   "source": [
    "df.loc[df[\"outcome\"] != \"normal.\", \"outcome\"] = 1\n",
    "df.loc[df[\"outcome\"] == \"normal.\", \"outcome\"] = 0"
   ]
  },
  {
   "cell_type": "code",
   "execution_count": null,
   "metadata": {
    "id": "Q6ZuB4B2mLTq"
   },
   "outputs": [],
   "source": [
    "y = df['outcome']\n",
    "df.drop('outcome',axis=1,inplace=True)"
   ]
  },
  {
   "cell_type": "code",
   "execution_count": null,
   "metadata": {
    "colab": {
     "base_uri": "https://localhost:8080/"
    },
    "executionInfo": {
     "elapsed": 508,
     "status": "ok",
     "timestamp": 1744767589516,
     "user": {
      "displayName": "Quyền Nguyễn Hữu",
      "userId": "01446055357181239268"
     },
     "user_tz": -420
    },
    "id": "jR62As9xOWgS",
    "outputId": "ce181e2b-88c4-47a5-9851-597161bd35f1"
   },
   "outputs": [],
   "source": [
    "from sklearn.model_selection import train_test_split\n",
    "\n",
    "x_train, x_test, y_train, y_test = train_test_split(df, y,  test_size=0.3, random_state=12)\n",
    "\n",
    "print(f\"Normal train count: {x_train.shape, y_train.shape}\")\n",
    "print(f\"Normal test count: {x_test.shape, y_test.shape}\")"
   ]
  },
  {
   "cell_type": "code",
   "execution_count": null,
   "metadata": {
    "id": "bGhQxN9Erddh"
   },
   "outputs": [],
   "source": [
    "y_train = tf.one_hot(y_train.values, 2)\n",
    "y_test = tf.one_hot(y_test.values, 2)"
   ]
  },
  {
   "cell_type": "markdown",
   "metadata": {
    "id": "ijTzh8zaRAaL"
   },
   "source": [
    "## **4. Kiến trúc mô hình GRU**"
   ]
  },
  {
   "cell_type": "code",
   "execution_count": null,
   "metadata": {
    "colab": {
     "base_uri": "https://localhost:8080/",
     "height": 238
    },
    "executionInfo": {
     "elapsed": 110,
     "status": "ok",
     "timestamp": 1744767704077,
     "user": {
      "displayName": "Quyền Nguyễn Hữu",
      "userId": "01446055357181239268"
     },
     "user_tz": -420
    },
    "id": "rw3mtPKXRIO7",
    "outputId": "15c0f88a-321e-4e62-a1cb-ec887845d504"
   },
   "outputs": [],
   "source": [
    "model = keras.Sequential()\n",
    "model.add(keras.layers.GRU(units=64, input_shape=(x_train.shape[1],1)))\n",
    "model.add(keras.layers.Dropout(rate=0.8))\n",
    "model.add(keras.layers.Dense(units=y_train.shape[1], activation='sigmoid'))\n",
    "\n",
    "model.compile(loss='binary_crossentropy', optimizer='adam', metrics=['accuracy'])\n",
    "model.summary()"
   ]
  },
  {
   "cell_type": "markdown",
   "metadata": {
    "id": "1lzvaeCHRLIx"
   },
   "source": [
    "## **5. Huấn luyện mô hình**"
   ]
  },
  {
   "cell_type": "code",
   "execution_count": null,
   "metadata": {
    "colab": {
     "base_uri": "https://localhost:8080/"
    },
    "executionInfo": {
     "elapsed": 15796,
     "status": "ok",
     "timestamp": 1744767728251,
     "user": {
      "displayName": "Quyền Nguyễn Hữu",
      "userId": "01446055357181239268"
     },
     "user_tz": -420
    },
    "id": "_Tudhs8hRN2N",
    "outputId": "c269d7ad-ba9f-440f-f562-41f4dd8ae0b0"
   },
   "outputs": [],
   "source": [
    "history = model.fit(\n",
    "    x_train, y_train,\n",
    "    epochs=2,\n",
    "    batch_size=1024,\n",
    "    validation_split=0.2,\n",
    "    shuffle = False\n",
    ")"
   ]
  },
  {
   "cell_type": "code",
   "execution_count": null,
   "metadata": {
    "colab": {
     "base_uri": "https://localhost:8080/",
     "height": 430
    },
    "executionInfo": {
     "elapsed": 477,
     "status": "ok",
     "timestamp": 1744767728727,
     "user": {
      "displayName": "Quyền Nguyễn Hữu",
      "userId": "01446055357181239268"
     },
     "user_tz": -420
    },
    "id": "XUMYKjgsRrMw",
    "outputId": "72dff033-eee9-4b85-b3fc-2aa57a1711df"
   },
   "outputs": [],
   "source": [
    "plt.plot(history.history['loss'], label='train')\n",
    "plt.plot(history.history['val_loss'], label='validation')\n",
    "plt.legend()"
   ]
  },
  {
   "cell_type": "markdown",
   "metadata": {
    "id": "LVlUSdVGRugR"
   },
   "source": [
    "## **6. Đánh giá mô hình**"
   ]
  },
  {
   "cell_type": "code",
   "execution_count": null,
   "metadata": {
    "colab": {
     "base_uri": "https://localhost:8080/"
    },
    "executionInfo": {
     "elapsed": 5508,
     "status": "ok",
     "timestamp": 1744767752440,
     "user": {
      "displayName": "Quyền Nguyễn Hữu",
      "userId": "01446055357181239268"
     },
     "user_tz": -420
    },
    "id": "I36BQve6TUbn",
    "outputId": "f2231545-e593-4553-aa25-aae9ad547e3b"
   },
   "outputs": [],
   "source": [
    "score1 = model.evaluate(x_train, y_train, batch_size=1024)"
   ]
  },
  {
   "cell_type": "markdown",
   "metadata": {
    "id": "b5-msV70WqYa"
   },
   "source": [
    "# **B. Bài tập**\n",
    "\n",
    "\n",
    "1.   **Yêu cầu 1 (Tại lớp): Dựa trên hướng dẫn A hãy xây dựng một mô hình phân loại đa lớp (Multiclass Classification) với bộ dữ liệu KDD99.**\n",
    "2.   **Yêu cầu 2 (Về nhà): Sinh viên chạy lại tập dữ liệu [CIC IoT dataset 2023](https://www.unb.ca/cic/datasets/iotdataset-2023.html) trên mô hình bài lab này ở cả Multiclass Classification và Binary Classification.**\n",
    "\n",
    "\n",
    "\n"
   ]
  },
  {
   "cell_type": "code",
   "execution_count": 1,
   "metadata": {},
   "outputs": [
    {
     "name": "stderr",
     "output_type": "stream",
     "text": [
      "/Users/tranthehuuphuc/Downloads/.venv/lib/python3.9/site-packages/urllib3/__init__.py:35: NotOpenSSLWarning: urllib3 v2 only supports OpenSSL 1.1.1+, currently the 'ssl' module is compiled with 'LibreSSL 2.8.3'. See: https://github.com/urllib3/urllib3/issues/3020\n",
      "  warnings.warn(\n"
     ]
    }
   ],
   "source": [
    "# Import necessary libraries\n",
    "import glob\n",
    "import os\n",
    "import pandas as pd\n",
    "import numpy as np\n",
    "import tensorflow as tf\n",
    "from tensorflow import keras\n",
    "import seaborn as sns\n",
    "import matplotlib.pyplot as plt\n",
    "from sklearn import metrics\n",
    "from sklearn.model_selection import train_test_split\n",
    "from sklearn.preprocessing import LabelEncoder\n",
    "from tensorflow.keras.utils import get_file"
   ]
  },
  {
   "cell_type": "markdown",
   "metadata": {},
   "source": [
    "## **Yêu Cầu 1: Dựa trên hướng dẫn A hãy xây dựng một mô hình phân loại đa lớp (Multiclass Classification) với bộ dữ liệu KDD99**"
   ]
  },
  {
   "cell_type": "markdown",
   "metadata": {},
   "source": [
    "### **1. Đọc tập dữ liệu KDD99**"
   ]
  },
  {
   "cell_type": "code",
   "execution_count": 9,
   "metadata": {},
   "outputs": [
    {
     "name": "stdout",
     "output_type": "stream",
     "text": [
      "/Users/tranthehuuphuc/.keras/datasets/kddcup.data_10_percent.gz\n",
      "Read 494021 rows.\n"
     ]
    }
   ],
   "source": [
    "try:\n",
    "    path = get_file('kddcup.data_10_percent.gz', \n",
    "                    origin='http://kdd.ics.uci.edu/databases/kddcup99/kddcup.data_10_percent.gz')\n",
    "except:\n",
    "    print('Error downloading KDD99 dataset')\n",
    "    raise\n",
    "\n",
    "print(path)\n",
    "\n",
    "df = pd.read_csv(path, header=None)\n",
    "print(\"Read {} rows.\".format(len(df)))"
   ]
  },
  {
   "cell_type": "code",
   "execution_count": 10,
   "metadata": {},
   "outputs": [
    {
     "data": {
      "text/html": [
       "<div>\n",
       "<style scoped>\n",
       "    .dataframe tbody tr th:only-of-type {\n",
       "        vertical-align: middle;\n",
       "    }\n",
       "\n",
       "    .dataframe tbody tr th {\n",
       "        vertical-align: top;\n",
       "    }\n",
       "\n",
       "    .dataframe thead th {\n",
       "        text-align: right;\n",
       "    }\n",
       "</style>\n",
       "<table border=\"1\" class=\"dataframe\">\n",
       "  <thead>\n",
       "    <tr style=\"text-align: right;\">\n",
       "      <th></th>\n",
       "      <th>duration</th>\n",
       "      <th>protocol_type</th>\n",
       "      <th>service</th>\n",
       "      <th>flag</th>\n",
       "      <th>src_bytes</th>\n",
       "      <th>dst_bytes</th>\n",
       "      <th>land</th>\n",
       "      <th>wrong_fragment</th>\n",
       "      <th>urgent</th>\n",
       "      <th>hot</th>\n",
       "      <th>...</th>\n",
       "      <th>dst_host_srv_count</th>\n",
       "      <th>dst_host_same_srv_rate</th>\n",
       "      <th>dst_host_diff_srv_rate</th>\n",
       "      <th>dst_host_same_src_port_rate</th>\n",
       "      <th>dst_host_srv_diff_host_rate</th>\n",
       "      <th>dst_host_serror_rate</th>\n",
       "      <th>dst_host_srv_serror_rate</th>\n",
       "      <th>dst_host_rerror_rate</th>\n",
       "      <th>dst_host_srv_rerror_rate</th>\n",
       "      <th>outcome</th>\n",
       "    </tr>\n",
       "  </thead>\n",
       "  <tbody>\n",
       "    <tr>\n",
       "      <th>0</th>\n",
       "      <td>0</td>\n",
       "      <td>tcp</td>\n",
       "      <td>http</td>\n",
       "      <td>SF</td>\n",
       "      <td>181</td>\n",
       "      <td>5450</td>\n",
       "      <td>0</td>\n",
       "      <td>0</td>\n",
       "      <td>0</td>\n",
       "      <td>0</td>\n",
       "      <td>...</td>\n",
       "      <td>9</td>\n",
       "      <td>1.0</td>\n",
       "      <td>0.0</td>\n",
       "      <td>0.11</td>\n",
       "      <td>0.0</td>\n",
       "      <td>0.0</td>\n",
       "      <td>0.0</td>\n",
       "      <td>0.0</td>\n",
       "      <td>0.0</td>\n",
       "      <td>normal.</td>\n",
       "    </tr>\n",
       "    <tr>\n",
       "      <th>1</th>\n",
       "      <td>0</td>\n",
       "      <td>tcp</td>\n",
       "      <td>http</td>\n",
       "      <td>SF</td>\n",
       "      <td>239</td>\n",
       "      <td>486</td>\n",
       "      <td>0</td>\n",
       "      <td>0</td>\n",
       "      <td>0</td>\n",
       "      <td>0</td>\n",
       "      <td>...</td>\n",
       "      <td>19</td>\n",
       "      <td>1.0</td>\n",
       "      <td>0.0</td>\n",
       "      <td>0.05</td>\n",
       "      <td>0.0</td>\n",
       "      <td>0.0</td>\n",
       "      <td>0.0</td>\n",
       "      <td>0.0</td>\n",
       "      <td>0.0</td>\n",
       "      <td>normal.</td>\n",
       "    </tr>\n",
       "    <tr>\n",
       "      <th>2</th>\n",
       "      <td>0</td>\n",
       "      <td>tcp</td>\n",
       "      <td>http</td>\n",
       "      <td>SF</td>\n",
       "      <td>235</td>\n",
       "      <td>1337</td>\n",
       "      <td>0</td>\n",
       "      <td>0</td>\n",
       "      <td>0</td>\n",
       "      <td>0</td>\n",
       "      <td>...</td>\n",
       "      <td>29</td>\n",
       "      <td>1.0</td>\n",
       "      <td>0.0</td>\n",
       "      <td>0.03</td>\n",
       "      <td>0.0</td>\n",
       "      <td>0.0</td>\n",
       "      <td>0.0</td>\n",
       "      <td>0.0</td>\n",
       "      <td>0.0</td>\n",
       "      <td>normal.</td>\n",
       "    </tr>\n",
       "    <tr>\n",
       "      <th>3</th>\n",
       "      <td>0</td>\n",
       "      <td>tcp</td>\n",
       "      <td>http</td>\n",
       "      <td>SF</td>\n",
       "      <td>219</td>\n",
       "      <td>1337</td>\n",
       "      <td>0</td>\n",
       "      <td>0</td>\n",
       "      <td>0</td>\n",
       "      <td>0</td>\n",
       "      <td>...</td>\n",
       "      <td>39</td>\n",
       "      <td>1.0</td>\n",
       "      <td>0.0</td>\n",
       "      <td>0.03</td>\n",
       "      <td>0.0</td>\n",
       "      <td>0.0</td>\n",
       "      <td>0.0</td>\n",
       "      <td>0.0</td>\n",
       "      <td>0.0</td>\n",
       "      <td>normal.</td>\n",
       "    </tr>\n",
       "    <tr>\n",
       "      <th>4</th>\n",
       "      <td>0</td>\n",
       "      <td>tcp</td>\n",
       "      <td>http</td>\n",
       "      <td>SF</td>\n",
       "      <td>217</td>\n",
       "      <td>2032</td>\n",
       "      <td>0</td>\n",
       "      <td>0</td>\n",
       "      <td>0</td>\n",
       "      <td>0</td>\n",
       "      <td>...</td>\n",
       "      <td>49</td>\n",
       "      <td>1.0</td>\n",
       "      <td>0.0</td>\n",
       "      <td>0.02</td>\n",
       "      <td>0.0</td>\n",
       "      <td>0.0</td>\n",
       "      <td>0.0</td>\n",
       "      <td>0.0</td>\n",
       "      <td>0.0</td>\n",
       "      <td>normal.</td>\n",
       "    </tr>\n",
       "  </tbody>\n",
       "</table>\n",
       "<p>5 rows × 42 columns</p>\n",
       "</div>"
      ],
      "text/plain": [
       "   duration protocol_type service flag  src_bytes  dst_bytes  land  \\\n",
       "0         0           tcp    http   SF        181       5450     0   \n",
       "1         0           tcp    http   SF        239        486     0   \n",
       "2         0           tcp    http   SF        235       1337     0   \n",
       "3         0           tcp    http   SF        219       1337     0   \n",
       "4         0           tcp    http   SF        217       2032     0   \n",
       "\n",
       "   wrong_fragment  urgent  hot  ...  dst_host_srv_count  \\\n",
       "0               0       0    0  ...                   9   \n",
       "1               0       0    0  ...                  19   \n",
       "2               0       0    0  ...                  29   \n",
       "3               0       0    0  ...                  39   \n",
       "4               0       0    0  ...                  49   \n",
       "\n",
       "   dst_host_same_srv_rate  dst_host_diff_srv_rate  \\\n",
       "0                     1.0                     0.0   \n",
       "1                     1.0                     0.0   \n",
       "2                     1.0                     0.0   \n",
       "3                     1.0                     0.0   \n",
       "4                     1.0                     0.0   \n",
       "\n",
       "   dst_host_same_src_port_rate  dst_host_srv_diff_host_rate  \\\n",
       "0                         0.11                          0.0   \n",
       "1                         0.05                          0.0   \n",
       "2                         0.03                          0.0   \n",
       "3                         0.03                          0.0   \n",
       "4                         0.02                          0.0   \n",
       "\n",
       "   dst_host_serror_rate  dst_host_srv_serror_rate  dst_host_rerror_rate  \\\n",
       "0                   0.0                       0.0                   0.0   \n",
       "1                   0.0                       0.0                   0.0   \n",
       "2                   0.0                       0.0                   0.0   \n",
       "3                   0.0                       0.0                   0.0   \n",
       "4                   0.0                       0.0                   0.0   \n",
       "\n",
       "   dst_host_srv_rerror_rate  outcome  \n",
       "0                       0.0  normal.  \n",
       "1                       0.0  normal.  \n",
       "2                       0.0  normal.  \n",
       "3                       0.0  normal.  \n",
       "4                       0.0  normal.  \n",
       "\n",
       "[5 rows x 42 columns]"
      ]
     },
     "execution_count": 10,
     "metadata": {},
     "output_type": "execute_result"
    }
   ],
   "source": [
    "# Đặt tên cột\n",
    "df.columns = ['duration','protocol_type','service','flag','src_bytes','dst_bytes','land','wrong_fragment','urgent','hot',\n",
    "                'num_failed_logins','logged_in','num_compromised','root_shell', 'su_attempted','num_root','num_file_creations','num_shells',\n",
    "                'num_access_files','num_outbound_cmds','is_host_login','is_guest_login','count','srv_count','serror_rate','srv_serror_rate',\n",
    "                'rerror_rate','srv_rerror_rate','same_srv_rate','diff_srv_rate','srv_diff_host_rate','dst_host_count','dst_host_srv_count',\n",
    "                'dst_host_same_srv_rate','dst_host_diff_srv_rate','dst_host_same_src_port_rate','dst_host_srv_diff_host_rate','dst_host_serror_rate',\n",
    "                'dst_host_srv_serror_rate','dst_host_rerror_rate','dst_host_srv_rerror_rate','outcome']\n",
    "\n",
    "df.head()"
   ]
  },
  {
   "cell_type": "markdown",
   "metadata": {},
   "source": [
    "### **2. Xử lý dữ liệu**"
   ]
  },
  {
   "cell_type": "code",
   "execution_count": 11,
   "metadata": {},
   "outputs": [
    {
     "data": {
      "text/plain": [
       "(494021, 42)"
      ]
     },
     "execution_count": 11,
     "metadata": {},
     "output_type": "execute_result"
    }
   ],
   "source": [
    "df.shape"
   ]
  },
  {
   "cell_type": "code",
   "execution_count": 12,
   "metadata": {},
   "outputs": [
    {
     "data": {
      "text/plain": [
       "(494021, 42)"
      ]
     },
     "execution_count": 12,
     "metadata": {},
     "output_type": "execute_result"
    }
   ],
   "source": [
    "df.dropna(inplace=True, axis=1)\n",
    "df.shape"
   ]
  },
  {
   "cell_type": "code",
   "execution_count": 13,
   "metadata": {},
   "outputs": [
    {
     "data": {
      "text/plain": [
       "duration                         int64\n",
       "protocol_type                   object\n",
       "service                         object\n",
       "flag                            object\n",
       "src_bytes                        int64\n",
       "dst_bytes                        int64\n",
       "land                             int64\n",
       "wrong_fragment                   int64\n",
       "urgent                           int64\n",
       "hot                              int64\n",
       "num_failed_logins                int64\n",
       "logged_in                        int64\n",
       "num_compromised                  int64\n",
       "root_shell                       int64\n",
       "su_attempted                     int64\n",
       "num_root                         int64\n",
       "num_file_creations               int64\n",
       "num_shells                       int64\n",
       "num_access_files                 int64\n",
       "num_outbound_cmds                int64\n",
       "is_host_login                    int64\n",
       "is_guest_login                   int64\n",
       "count                            int64\n",
       "srv_count                        int64\n",
       "serror_rate                    float64\n",
       "srv_serror_rate                float64\n",
       "rerror_rate                    float64\n",
       "srv_rerror_rate                float64\n",
       "same_srv_rate                  float64\n",
       "diff_srv_rate                  float64\n",
       "srv_diff_host_rate             float64\n",
       "dst_host_count                   int64\n",
       "dst_host_srv_count               int64\n",
       "dst_host_same_srv_rate         float64\n",
       "dst_host_diff_srv_rate         float64\n",
       "dst_host_same_src_port_rate    float64\n",
       "dst_host_srv_diff_host_rate    float64\n",
       "dst_host_serror_rate           float64\n",
       "dst_host_srv_serror_rate       float64\n",
       "dst_host_rerror_rate           float64\n",
       "dst_host_srv_rerror_rate       float64\n",
       "outcome                         object\n",
       "dtype: object"
      ]
     },
     "execution_count": 13,
     "metadata": {},
     "output_type": "execute_result"
    }
   ],
   "source": [
    "df.dtypes"
   ]
  },
  {
   "cell_type": "code",
   "execution_count": 15,
   "metadata": {},
   "outputs": [
    {
     "data": {
      "text/plain": [
       "outcome\n",
       "back.                 2203\n",
       "buffer_overflow.        30\n",
       "ftp_write.               8\n",
       "guess_passwd.           53\n",
       "imap.                   12\n",
       "ipsweep.              1247\n",
       "land.                   21\n",
       "loadmodule.              9\n",
       "multihop.                7\n",
       "neptune.            107201\n",
       "nmap.                  231\n",
       "normal.              97278\n",
       "perl.                    3\n",
       "phf.                     4\n",
       "pod.                   264\n",
       "portsweep.            1040\n",
       "rootkit.                10\n",
       "satan.                1589\n",
       "smurf.              280790\n",
       "spy.                     2\n",
       "teardrop.              979\n",
       "warezclient.          1020\n",
       "warezmaster.            20\n",
       "Name: outcome, dtype: int64"
      ]
     },
     "execution_count": 15,
     "metadata": {},
     "output_type": "execute_result"
    }
   ],
   "source": [
    "df.groupby('outcome')['outcome'].count()"
   ]
  },
  {
   "cell_type": "code",
   "execution_count": 16,
   "metadata": {},
   "outputs": [
    {
     "name": "stdout",
     "output_type": "stream",
     "text": [
      "attack_category\n",
      "dos       391458\n",
      "normal     97278\n",
      "probe       4107\n",
      "r2l         1126\n",
      "u2r           52\n",
      "Name: count, dtype: int64\n"
     ]
    }
   ],
   "source": [
    "attack_mapping = {\n",
    "    'normal.': 'normal',\n",
    "    'back.': 'dos', 'land.': 'dos', 'neptune.': 'dos', 'pod.': 'dos', 'smurf.': 'dos', 'teardrop.': 'dos',\n",
    "    'ipsweep.': 'probe', 'nmap.': 'probe', 'portsweep.': 'probe', 'satan.': 'probe',\n",
    "    'ftp_write.': 'r2l', 'guess_passwd.': 'r2l', 'imap.': 'r2l', 'multihop.': 'r2l', 'phf.': 'r2l', 'spy.': 'r2l', 'warezclient.': 'r2l', 'warezmaster.': 'r2l',\n",
    "    'buffer_overflow.': 'u2r', 'loadmodule.': 'u2r', 'perl.': 'u2r', 'rootkit.': 'u2r'\n",
    "}\n",
    "\n",
    "df['attack_category'] = df['outcome'].map(attack_mapping)\n",
    "df['attack_category'] = df['attack_category'].fillna('other')\n",
    "\n",
    "print(df['attack_category'].value_counts())"
   ]
  },
  {
   "cell_type": "markdown",
   "metadata": {},
   "source": [
    "### **3. Encode dữ liệu số và chữ**"
   ]
  },
  {
   "cell_type": "code",
   "execution_count": 17,
   "metadata": {},
   "outputs": [
    {
     "name": "stderr",
     "output_type": "stream",
     "text": [
      "/var/folders/m_/c8s5m70j7gxd8zgn3kpn9fsr0000gn/T/ipykernel_7555/990497203.py:12: PerformanceWarning: DataFrame is highly fragmented.  This is usually the result of calling `frame.insert` many times, which has poor performance.  Consider joining all columns at once using pd.concat(axis=1) instead. To get a de-fragmented frame, use `newframe = frame.copy()`\n",
      "  df[dummy_name] = dummies[x]\n",
      "/var/folders/m_/c8s5m70j7gxd8zgn3kpn9fsr0000gn/T/ipykernel_7555/990497203.py:12: PerformanceWarning: DataFrame is highly fragmented.  This is usually the result of calling `frame.insert` many times, which has poor performance.  Consider joining all columns at once using pd.concat(axis=1) instead. To get a de-fragmented frame, use `newframe = frame.copy()`\n",
      "  df[dummy_name] = dummies[x]\n",
      "/var/folders/m_/c8s5m70j7gxd8zgn3kpn9fsr0000gn/T/ipykernel_7555/990497203.py:12: PerformanceWarning: DataFrame is highly fragmented.  This is usually the result of calling `frame.insert` many times, which has poor performance.  Consider joining all columns at once using pd.concat(axis=1) instead. To get a de-fragmented frame, use `newframe = frame.copy()`\n",
      "  df[dummy_name] = dummies[x]\n",
      "/var/folders/m_/c8s5m70j7gxd8zgn3kpn9fsr0000gn/T/ipykernel_7555/990497203.py:12: PerformanceWarning: DataFrame is highly fragmented.  This is usually the result of calling `frame.insert` many times, which has poor performance.  Consider joining all columns at once using pd.concat(axis=1) instead. To get a de-fragmented frame, use `newframe = frame.copy()`\n",
      "  df[dummy_name] = dummies[x]\n",
      "/var/folders/m_/c8s5m70j7gxd8zgn3kpn9fsr0000gn/T/ipykernel_7555/990497203.py:12: PerformanceWarning: DataFrame is highly fragmented.  This is usually the result of calling `frame.insert` many times, which has poor performance.  Consider joining all columns at once using pd.concat(axis=1) instead. To get a de-fragmented frame, use `newframe = frame.copy()`\n",
      "  df[dummy_name] = dummies[x]\n",
      "/var/folders/m_/c8s5m70j7gxd8zgn3kpn9fsr0000gn/T/ipykernel_7555/990497203.py:12: PerformanceWarning: DataFrame is highly fragmented.  This is usually the result of calling `frame.insert` many times, which has poor performance.  Consider joining all columns at once using pd.concat(axis=1) instead. To get a de-fragmented frame, use `newframe = frame.copy()`\n",
      "  df[dummy_name] = dummies[x]\n",
      "/var/folders/m_/c8s5m70j7gxd8zgn3kpn9fsr0000gn/T/ipykernel_7555/990497203.py:12: PerformanceWarning: DataFrame is highly fragmented.  This is usually the result of calling `frame.insert` many times, which has poor performance.  Consider joining all columns at once using pd.concat(axis=1) instead. To get a de-fragmented frame, use `newframe = frame.copy()`\n",
      "  df[dummy_name] = dummies[x]\n",
      "/var/folders/m_/c8s5m70j7gxd8zgn3kpn9fsr0000gn/T/ipykernel_7555/990497203.py:12: PerformanceWarning: DataFrame is highly fragmented.  This is usually the result of calling `frame.insert` many times, which has poor performance.  Consider joining all columns at once using pd.concat(axis=1) instead. To get a de-fragmented frame, use `newframe = frame.copy()`\n",
      "  df[dummy_name] = dummies[x]\n",
      "/var/folders/m_/c8s5m70j7gxd8zgn3kpn9fsr0000gn/T/ipykernel_7555/990497203.py:12: PerformanceWarning: DataFrame is highly fragmented.  This is usually the result of calling `frame.insert` many times, which has poor performance.  Consider joining all columns at once using pd.concat(axis=1) instead. To get a de-fragmented frame, use `newframe = frame.copy()`\n",
      "  df[dummy_name] = dummies[x]\n",
      "/var/folders/m_/c8s5m70j7gxd8zgn3kpn9fsr0000gn/T/ipykernel_7555/990497203.py:12: PerformanceWarning: DataFrame is highly fragmented.  This is usually the result of calling `frame.insert` many times, which has poor performance.  Consider joining all columns at once using pd.concat(axis=1) instead. To get a de-fragmented frame, use `newframe = frame.copy()`\n",
      "  df[dummy_name] = dummies[x]\n",
      "/var/folders/m_/c8s5m70j7gxd8zgn3kpn9fsr0000gn/T/ipykernel_7555/990497203.py:12: PerformanceWarning: DataFrame is highly fragmented.  This is usually the result of calling `frame.insert` many times, which has poor performance.  Consider joining all columns at once using pd.concat(axis=1) instead. To get a de-fragmented frame, use `newframe = frame.copy()`\n",
      "  df[dummy_name] = dummies[x]\n",
      "/var/folders/m_/c8s5m70j7gxd8zgn3kpn9fsr0000gn/T/ipykernel_7555/990497203.py:12: PerformanceWarning: DataFrame is highly fragmented.  This is usually the result of calling `frame.insert` many times, which has poor performance.  Consider joining all columns at once using pd.concat(axis=1) instead. To get a de-fragmented frame, use `newframe = frame.copy()`\n",
      "  df[dummy_name] = dummies[x]\n",
      "/var/folders/m_/c8s5m70j7gxd8zgn3kpn9fsr0000gn/T/ipykernel_7555/990497203.py:12: PerformanceWarning: DataFrame is highly fragmented.  This is usually the result of calling `frame.insert` many times, which has poor performance.  Consider joining all columns at once using pd.concat(axis=1) instead. To get a de-fragmented frame, use `newframe = frame.copy()`\n",
      "  df[dummy_name] = dummies[x]\n",
      "/var/folders/m_/c8s5m70j7gxd8zgn3kpn9fsr0000gn/T/ipykernel_7555/990497203.py:12: PerformanceWarning: DataFrame is highly fragmented.  This is usually the result of calling `frame.insert` many times, which has poor performance.  Consider joining all columns at once using pd.concat(axis=1) instead. To get a de-fragmented frame, use `newframe = frame.copy()`\n",
      "  df[dummy_name] = dummies[x]\n",
      "/var/folders/m_/c8s5m70j7gxd8zgn3kpn9fsr0000gn/T/ipykernel_7555/990497203.py:12: PerformanceWarning: DataFrame is highly fragmented.  This is usually the result of calling `frame.insert` many times, which has poor performance.  Consider joining all columns at once using pd.concat(axis=1) instead. To get a de-fragmented frame, use `newframe = frame.copy()`\n",
      "  df[dummy_name] = dummies[x]\n",
      "/var/folders/m_/c8s5m70j7gxd8zgn3kpn9fsr0000gn/T/ipykernel_7555/990497203.py:12: PerformanceWarning: DataFrame is highly fragmented.  This is usually the result of calling `frame.insert` many times, which has poor performance.  Consider joining all columns at once using pd.concat(axis=1) instead. To get a de-fragmented frame, use `newframe = frame.copy()`\n",
      "  df[dummy_name] = dummies[x]\n",
      "/var/folders/m_/c8s5m70j7gxd8zgn3kpn9fsr0000gn/T/ipykernel_7555/990497203.py:12: PerformanceWarning: DataFrame is highly fragmented.  This is usually the result of calling `frame.insert` many times, which has poor performance.  Consider joining all columns at once using pd.concat(axis=1) instead. To get a de-fragmented frame, use `newframe = frame.copy()`\n",
      "  df[dummy_name] = dummies[x]\n",
      "/var/folders/m_/c8s5m70j7gxd8zgn3kpn9fsr0000gn/T/ipykernel_7555/990497203.py:12: PerformanceWarning: DataFrame is highly fragmented.  This is usually the result of calling `frame.insert` many times, which has poor performance.  Consider joining all columns at once using pd.concat(axis=1) instead. To get a de-fragmented frame, use `newframe = frame.copy()`\n",
      "  df[dummy_name] = dummies[x]\n",
      "/var/folders/m_/c8s5m70j7gxd8zgn3kpn9fsr0000gn/T/ipykernel_7555/990497203.py:12: PerformanceWarning: DataFrame is highly fragmented.  This is usually the result of calling `frame.insert` many times, which has poor performance.  Consider joining all columns at once using pd.concat(axis=1) instead. To get a de-fragmented frame, use `newframe = frame.copy()`\n",
      "  df[dummy_name] = dummies[x]\n",
      "/var/folders/m_/c8s5m70j7gxd8zgn3kpn9fsr0000gn/T/ipykernel_7555/990497203.py:12: PerformanceWarning: DataFrame is highly fragmented.  This is usually the result of calling `frame.insert` many times, which has poor performance.  Consider joining all columns at once using pd.concat(axis=1) instead. To get a de-fragmented frame, use `newframe = frame.copy()`\n",
      "  df[dummy_name] = dummies[x]\n",
      "/var/folders/m_/c8s5m70j7gxd8zgn3kpn9fsr0000gn/T/ipykernel_7555/990497203.py:12: PerformanceWarning: DataFrame is highly fragmented.  This is usually the result of calling `frame.insert` many times, which has poor performance.  Consider joining all columns at once using pd.concat(axis=1) instead. To get a de-fragmented frame, use `newframe = frame.copy()`\n",
      "  df[dummy_name] = dummies[x]\n",
      "/var/folders/m_/c8s5m70j7gxd8zgn3kpn9fsr0000gn/T/ipykernel_7555/990497203.py:12: PerformanceWarning: DataFrame is highly fragmented.  This is usually the result of calling `frame.insert` many times, which has poor performance.  Consider joining all columns at once using pd.concat(axis=1) instead. To get a de-fragmented frame, use `newframe = frame.copy()`\n",
      "  df[dummy_name] = dummies[x]\n",
      "/var/folders/m_/c8s5m70j7gxd8zgn3kpn9fsr0000gn/T/ipykernel_7555/990497203.py:12: PerformanceWarning: DataFrame is highly fragmented.  This is usually the result of calling `frame.insert` many times, which has poor performance.  Consider joining all columns at once using pd.concat(axis=1) instead. To get a de-fragmented frame, use `newframe = frame.copy()`\n",
      "  df[dummy_name] = dummies[x]\n",
      "/var/folders/m_/c8s5m70j7gxd8zgn3kpn9fsr0000gn/T/ipykernel_7555/990497203.py:12: PerformanceWarning: DataFrame is highly fragmented.  This is usually the result of calling `frame.insert` many times, which has poor performance.  Consider joining all columns at once using pd.concat(axis=1) instead. To get a de-fragmented frame, use `newframe = frame.copy()`\n",
      "  df[dummy_name] = dummies[x]\n",
      "/var/folders/m_/c8s5m70j7gxd8zgn3kpn9fsr0000gn/T/ipykernel_7555/990497203.py:12: PerformanceWarning: DataFrame is highly fragmented.  This is usually the result of calling `frame.insert` many times, which has poor performance.  Consider joining all columns at once using pd.concat(axis=1) instead. To get a de-fragmented frame, use `newframe = frame.copy()`\n",
      "  df[dummy_name] = dummies[x]\n",
      "/var/folders/m_/c8s5m70j7gxd8zgn3kpn9fsr0000gn/T/ipykernel_7555/990497203.py:12: PerformanceWarning: DataFrame is highly fragmented.  This is usually the result of calling `frame.insert` many times, which has poor performance.  Consider joining all columns at once using pd.concat(axis=1) instead. To get a de-fragmented frame, use `newframe = frame.copy()`\n",
      "  df[dummy_name] = dummies[x]\n"
     ]
    }
   ],
   "source": [
    "def encode_numeric_zscore(df, name, mean=None, sd=None):\n",
    "    if mean is None:\n",
    "        mean = df[name].mean()\n",
    "    if sd is None:\n",
    "        sd = df[name].std()\n",
    "    df[name] = (df[name] - mean) / sd\n",
    "\n",
    "def encode_text_dummy(df, name):\n",
    "    dummies = pd.get_dummies(df[name])\n",
    "    for x in dummies.columns:\n",
    "        dummy_name = f\"{name}-{x}\"\n",
    "        df[dummy_name] = dummies[x]\n",
    "    df.drop(name, axis=1, inplace=True)\n",
    "\n",
    "# Encoding feature vector\n",
    "text_col = ['protocol_type', 'service', 'flag', 'land', 'logged_in', 'is_host_login', 'is_guest_login']\n",
    "\n",
    "# Normalize numeric features\n",
    "for col in df.columns:\n",
    "    if col not in text_col and col not in ['outcome', 'attack_category']:\n",
    "        encode_numeric_zscore(df, col)\n",
    "\n",
    "# Encode text features\n",
    "for col in text_col:\n",
    "    encode_text_dummy(df, col)\n",
    "\n",
    "# Encode target variable\n",
    "label_encoder = LabelEncoder()\n",
    "y_encoded = label_encoder.fit_transform(df['attack_category'])\n",
    "\n",
    "# Loại bỏ cột không cần thiết\n",
    "df.drop(['outcome', 'attack_category'], axis=1, inplace=True)\n",
    "df.dropna(inplace=True, axis=1)"
   ]
  },
  {
   "cell_type": "code",
   "execution_count": 18,
   "metadata": {},
   "outputs": [
    {
     "name": "stdout",
     "output_type": "stream",
     "text": [
      "Train set: (345814, 120), Test set: (148207, 120)\n"
     ]
    }
   ],
   "source": [
    "X_train, X_test, y_train, y_test = train_test_split(\n",
    "    df, y_encoded, test_size=0.3, random_state=42, stratify=y_encoded\n",
    ")\n",
    "\n",
    "print(f\"Train set: {X_train.shape}, Test set: {X_test.shape}\")"
   ]
  },
  {
   "cell_type": "markdown",
   "metadata": {},
   "source": [
    "### **4. Kiến trúc mô hình GRU**"
   ]
  },
  {
   "cell_type": "code",
   "execution_count": 20,
   "metadata": {},
   "outputs": [
    {
     "name": "stdout",
     "output_type": "stream",
     "text": [
      "\n",
      "Kiến trúc mô hình:\n"
     ]
    },
    {
     "name": "stderr",
     "output_type": "stream",
     "text": [
      "/Users/tranthehuuphuc/Desktop/.venv/lib/python3.9/site-packages/keras/src/layers/reshaping/reshape.py:39: UserWarning: Do not pass an `input_shape`/`input_dim` argument to a layer. When using Sequential models, prefer using an `Input(shape)` object as the first layer in the model instead.\n",
      "  super().__init__(**kwargs)\n"
     ]
    },
    {
     "data": {
      "text/html": [
       "<pre style=\"white-space:pre;overflow-x:auto;line-height:normal;font-family:Menlo,'DejaVu Sans Mono',consolas,'Courier New',monospace\"><span style=\"font-weight: bold\">Model: \"sequential\"</span>\n",
       "</pre>\n"
      ],
      "text/plain": [
       "\u001b[1mModel: \"sequential\"\u001b[0m\n"
      ]
     },
     "metadata": {},
     "output_type": "display_data"
    },
    {
     "data": {
      "text/html": [
       "<pre style=\"white-space:pre;overflow-x:auto;line-height:normal;font-family:Menlo,'DejaVu Sans Mono',consolas,'Courier New',monospace\">┏━━━━━━━━━━━━━━━━━━━━━━━━━━━━━━━━━┳━━━━━━━━━━━━━━━━━━━━━━━━┳━━━━━━━━━━━━━━━┓\n",
       "┃<span style=\"font-weight: bold\"> Layer (type)                    </span>┃<span style=\"font-weight: bold\"> Output Shape           </span>┃<span style=\"font-weight: bold\">       Param # </span>┃\n",
       "┡━━━━━━━━━━━━━━━━━━━━━━━━━━━━━━━━━╇━━━━━━━━━━━━━━━━━━━━━━━━╇━━━━━━━━━━━━━━━┩\n",
       "│ reshape (<span style=\"color: #0087ff; text-decoration-color: #0087ff\">Reshape</span>)               │ (<span style=\"color: #00d7ff; text-decoration-color: #00d7ff\">None</span>, <span style=\"color: #00af00; text-decoration-color: #00af00\">120</span>, <span style=\"color: #00af00; text-decoration-color: #00af00\">1</span>)         │             <span style=\"color: #00af00; text-decoration-color: #00af00\">0</span> │\n",
       "├─────────────────────────────────┼────────────────────────┼───────────────┤\n",
       "│ gru (<span style=\"color: #0087ff; text-decoration-color: #0087ff\">GRU</span>)                       │ (<span style=\"color: #00d7ff; text-decoration-color: #00d7ff\">None</span>, <span style=\"color: #00af00; text-decoration-color: #00af00\">120</span>, <span style=\"color: #00af00; text-decoration-color: #00af00\">128</span>)       │        <span style=\"color: #00af00; text-decoration-color: #00af00\">50,304</span> │\n",
       "├─────────────────────────────────┼────────────────────────┼───────────────┤\n",
       "│ dropout (<span style=\"color: #0087ff; text-decoration-color: #0087ff\">Dropout</span>)               │ (<span style=\"color: #00d7ff; text-decoration-color: #00d7ff\">None</span>, <span style=\"color: #00af00; text-decoration-color: #00af00\">120</span>, <span style=\"color: #00af00; text-decoration-color: #00af00\">128</span>)       │             <span style=\"color: #00af00; text-decoration-color: #00af00\">0</span> │\n",
       "├─────────────────────────────────┼────────────────────────┼───────────────┤\n",
       "│ gru_1 (<span style=\"color: #0087ff; text-decoration-color: #0087ff\">GRU</span>)                     │ (<span style=\"color: #00d7ff; text-decoration-color: #00d7ff\">None</span>, <span style=\"color: #00af00; text-decoration-color: #00af00\">64</span>)             │        <span style=\"color: #00af00; text-decoration-color: #00af00\">37,248</span> │\n",
       "├─────────────────────────────────┼────────────────────────┼───────────────┤\n",
       "│ dropout_1 (<span style=\"color: #0087ff; text-decoration-color: #0087ff\">Dropout</span>)             │ (<span style=\"color: #00d7ff; text-decoration-color: #00d7ff\">None</span>, <span style=\"color: #00af00; text-decoration-color: #00af00\">64</span>)             │             <span style=\"color: #00af00; text-decoration-color: #00af00\">0</span> │\n",
       "├─────────────────────────────────┼────────────────────────┼───────────────┤\n",
       "│ dense (<span style=\"color: #0087ff; text-decoration-color: #0087ff\">Dense</span>)                   │ (<span style=\"color: #00d7ff; text-decoration-color: #00d7ff\">None</span>, <span style=\"color: #00af00; text-decoration-color: #00af00\">32</span>)             │         <span style=\"color: #00af00; text-decoration-color: #00af00\">2,080</span> │\n",
       "├─────────────────────────────────┼────────────────────────┼───────────────┤\n",
       "│ dropout_2 (<span style=\"color: #0087ff; text-decoration-color: #0087ff\">Dropout</span>)             │ (<span style=\"color: #00d7ff; text-decoration-color: #00d7ff\">None</span>, <span style=\"color: #00af00; text-decoration-color: #00af00\">32</span>)             │             <span style=\"color: #00af00; text-decoration-color: #00af00\">0</span> │\n",
       "├─────────────────────────────────┼────────────────────────┼───────────────┤\n",
       "│ dense_1 (<span style=\"color: #0087ff; text-decoration-color: #0087ff\">Dense</span>)                 │ (<span style=\"color: #00d7ff; text-decoration-color: #00d7ff\">None</span>, <span style=\"color: #00af00; text-decoration-color: #00af00\">5</span>)              │           <span style=\"color: #00af00; text-decoration-color: #00af00\">165</span> │\n",
       "└─────────────────────────────────┴────────────────────────┴───────────────┘\n",
       "</pre>\n"
      ],
      "text/plain": [
       "┏━━━━━━━━━━━━━━━━━━━━━━━━━━━━━━━━━┳━━━━━━━━━━━━━━━━━━━━━━━━┳━━━━━━━━━━━━━━━┓\n",
       "┃\u001b[1m \u001b[0m\u001b[1mLayer (type)                   \u001b[0m\u001b[1m \u001b[0m┃\u001b[1m \u001b[0m\u001b[1mOutput Shape          \u001b[0m\u001b[1m \u001b[0m┃\u001b[1m \u001b[0m\u001b[1m      Param #\u001b[0m\u001b[1m \u001b[0m┃\n",
       "┡━━━━━━━━━━━━━━━━━━━━━━━━━━━━━━━━━╇━━━━━━━━━━━━━━━━━━━━━━━━╇━━━━━━━━━━━━━━━┩\n",
       "│ reshape (\u001b[38;5;33mReshape\u001b[0m)               │ (\u001b[38;5;45mNone\u001b[0m, \u001b[38;5;34m120\u001b[0m, \u001b[38;5;34m1\u001b[0m)         │             \u001b[38;5;34m0\u001b[0m │\n",
       "├─────────────────────────────────┼────────────────────────┼───────────────┤\n",
       "│ gru (\u001b[38;5;33mGRU\u001b[0m)                       │ (\u001b[38;5;45mNone\u001b[0m, \u001b[38;5;34m120\u001b[0m, \u001b[38;5;34m128\u001b[0m)       │        \u001b[38;5;34m50,304\u001b[0m │\n",
       "├─────────────────────────────────┼────────────────────────┼───────────────┤\n",
       "│ dropout (\u001b[38;5;33mDropout\u001b[0m)               │ (\u001b[38;5;45mNone\u001b[0m, \u001b[38;5;34m120\u001b[0m, \u001b[38;5;34m128\u001b[0m)       │             \u001b[38;5;34m0\u001b[0m │\n",
       "├─────────────────────────────────┼────────────────────────┼───────────────┤\n",
       "│ gru_1 (\u001b[38;5;33mGRU\u001b[0m)                     │ (\u001b[38;5;45mNone\u001b[0m, \u001b[38;5;34m64\u001b[0m)             │        \u001b[38;5;34m37,248\u001b[0m │\n",
       "├─────────────────────────────────┼────────────────────────┼───────────────┤\n",
       "│ dropout_1 (\u001b[38;5;33mDropout\u001b[0m)             │ (\u001b[38;5;45mNone\u001b[0m, \u001b[38;5;34m64\u001b[0m)             │             \u001b[38;5;34m0\u001b[0m │\n",
       "├─────────────────────────────────┼────────────────────────┼───────────────┤\n",
       "│ dense (\u001b[38;5;33mDense\u001b[0m)                   │ (\u001b[38;5;45mNone\u001b[0m, \u001b[38;5;34m32\u001b[0m)             │         \u001b[38;5;34m2,080\u001b[0m │\n",
       "├─────────────────────────────────┼────────────────────────┼───────────────┤\n",
       "│ dropout_2 (\u001b[38;5;33mDropout\u001b[0m)             │ (\u001b[38;5;45mNone\u001b[0m, \u001b[38;5;34m32\u001b[0m)             │             \u001b[38;5;34m0\u001b[0m │\n",
       "├─────────────────────────────────┼────────────────────────┼───────────────┤\n",
       "│ dense_1 (\u001b[38;5;33mDense\u001b[0m)                 │ (\u001b[38;5;45mNone\u001b[0m, \u001b[38;5;34m5\u001b[0m)              │           \u001b[38;5;34m165\u001b[0m │\n",
       "└─────────────────────────────────┴────────────────────────┴───────────────┘\n"
      ]
     },
     "metadata": {},
     "output_type": "display_data"
    },
    {
     "data": {
      "text/html": [
       "<pre style=\"white-space:pre;overflow-x:auto;line-height:normal;font-family:Menlo,'DejaVu Sans Mono',consolas,'Courier New',monospace\"><span style=\"font-weight: bold\"> Total params: </span><span style=\"color: #00af00; text-decoration-color: #00af00\">89,797</span> (350.77 KB)\n",
       "</pre>\n"
      ],
      "text/plain": [
       "\u001b[1m Total params: \u001b[0m\u001b[38;5;34m89,797\u001b[0m (350.77 KB)\n"
      ]
     },
     "metadata": {},
     "output_type": "display_data"
    },
    {
     "data": {
      "text/html": [
       "<pre style=\"white-space:pre;overflow-x:auto;line-height:normal;font-family:Menlo,'DejaVu Sans Mono',consolas,'Courier New',monospace\"><span style=\"font-weight: bold\"> Trainable params: </span><span style=\"color: #00af00; text-decoration-color: #00af00\">89,797</span> (350.77 KB)\n",
       "</pre>\n"
      ],
      "text/plain": [
       "\u001b[1m Trainable params: \u001b[0m\u001b[38;5;34m89,797\u001b[0m (350.77 KB)\n"
      ]
     },
     "metadata": {},
     "output_type": "display_data"
    },
    {
     "data": {
      "text/html": [
       "<pre style=\"white-space:pre;overflow-x:auto;line-height:normal;font-family:Menlo,'DejaVu Sans Mono',consolas,'Courier New',monospace\"><span style=\"font-weight: bold\"> Non-trainable params: </span><span style=\"color: #00af00; text-decoration-color: #00af00\">0</span> (0.00 B)\n",
       "</pre>\n"
      ],
      "text/plain": [
       "\u001b[1m Non-trainable params: \u001b[0m\u001b[38;5;34m0\u001b[0m (0.00 B)\n"
      ]
     },
     "metadata": {},
     "output_type": "display_data"
    }
   ],
   "source": [
    "def build_gru_multiclass_model(input_shape, num_classes):\n",
    "    model = keras.Sequential([\n",
    "        keras.layers.Reshape((input_shape, 1), input_shape=(input_shape,)),\n",
    "        keras.layers.GRU(units=128, return_sequences=True),\n",
    "        keras.layers.Dropout(0.3),\n",
    "        keras.layers.GRU(units=64),\n",
    "        keras.layers.Dropout(0.5),\n",
    "        keras.layers.Dense(units=32, activation='relu'),\n",
    "        keras.layers.Dropout(0.3),\n",
    "        keras.layers.Dense(units=num_classes, activation='softmax')\n",
    "    ])\n",
    "    \n",
    "    model.compile(\n",
    "        loss='sparse_categorical_crossentropy',\n",
    "        optimizer='adam',\n",
    "        metrics=['accuracy']\n",
    "    )\n",
    "    \n",
    "    return model\n",
    "\n",
    "model = build_gru_multiclass_model(X_train.shape[1], len(label_encoder.classes_))\n",
    "print(\"\\nKiến trúc mô hình:\")\n",
    "model.summary()"
   ]
  },
  {
   "cell_type": "markdown",
   "metadata": {},
   "source": [
    "### **5. Huấn luyện mô hình**"
   ]
  },
  {
   "cell_type": "code",
   "execution_count": 21,
   "metadata": {},
   "outputs": [
    {
     "name": "stdout",
     "output_type": "stream",
     "text": [
      "Epoch 1/10\n",
      "\u001b[1m271/271\u001b[0m \u001b[32m━━━━━━━━━━━━━━━━━━━━\u001b[0m\u001b[37m\u001b[0m \u001b[1m264s\u001b[0m 970ms/step - accuracy: 0.7391 - loss: 0.8746 - val_accuracy: 0.7920 - val_loss: 0.3532\n",
      "Epoch 2/10\n",
      "\u001b[1m271/271\u001b[0m \u001b[32m━━━━━━━━━━━━━━━━━━━━\u001b[0m\u001b[37m\u001b[0m \u001b[1m275s\u001b[0m 1s/step - accuracy: 0.7873 - loss: 0.5657 - val_accuracy: 0.7924 - val_loss: 0.5598\n",
      "Epoch 3/10\n",
      "\u001b[1m271/271\u001b[0m \u001b[32m━━━━━━━━━━━━━━━━━━━━\u001b[0m\u001b[37m\u001b[0m \u001b[1m257s\u001b[0m 949ms/step - accuracy: 0.7927 - loss: 0.5747 - val_accuracy: 0.7924 - val_loss: 0.5475\n",
      "Epoch 4/10\n",
      "\u001b[1m271/271\u001b[0m \u001b[32m━━━━━━━━━━━━━━━━━━━━\u001b[0m\u001b[37m\u001b[0m \u001b[1m251s\u001b[0m 924ms/step - accuracy: 0.8260 - loss: 0.5434 - val_accuracy: 0.9753 - val_loss: 0.0923\n",
      "Epoch 5/10\n",
      "\u001b[1m271/271\u001b[0m \u001b[32m━━━━━━━━━━━━━━━━━━━━\u001b[0m\u001b[37m\u001b[0m \u001b[1m255s\u001b[0m 942ms/step - accuracy: 0.9434 - loss: 0.1889 - val_accuracy: 0.8034 - val_loss: 0.4993\n",
      "Epoch 6/10\n",
      "\u001b[1m271/271\u001b[0m \u001b[32m━━━━━━━━━━━━━━━━━━━━\u001b[0m\u001b[37m\u001b[0m \u001b[1m264s\u001b[0m 972ms/step - accuracy: 0.8659 - loss: 0.3830 - val_accuracy: 0.9824 - val_loss: 0.0603\n",
      "Epoch 7/10\n",
      "\u001b[1m271/271\u001b[0m \u001b[32m━━━━━━━━━━━━━━━━━━━━\u001b[0m\u001b[37m\u001b[0m \u001b[1m258s\u001b[0m 952ms/step - accuracy: 0.9824 - loss: 0.0739 - val_accuracy: 0.9875 - val_loss: 0.0500\n",
      "Epoch 8/10\n",
      "\u001b[1m271/271\u001b[0m \u001b[32m━━━━━━━━━━━━━━━━━━━━\u001b[0m\u001b[37m\u001b[0m \u001b[1m275s\u001b[0m 1s/step - accuracy: 0.9857 - loss: 0.0568 - val_accuracy: 0.9866 - val_loss: 0.0433\n",
      "Epoch 9/10\n",
      "\u001b[1m271/271\u001b[0m \u001b[32m━━━━━━━━━━━━━━━━━━━━\u001b[0m\u001b[37m\u001b[0m \u001b[1m274s\u001b[0m 1s/step - accuracy: 0.9866 - loss: 0.0518 - val_accuracy: 0.9902 - val_loss: 0.0359\n",
      "Epoch 10/10\n",
      "\u001b[1m271/271\u001b[0m \u001b[32m━━━━━━━━━━━━━━━━━━━━\u001b[0m\u001b[37m\u001b[0m \u001b[1m273s\u001b[0m 1s/step - accuracy: 0.9884 - loss: 0.0452 - val_accuracy: 0.9939 - val_loss: 0.0288\n"
     ]
    }
   ],
   "source": [
    "history = model.fit(\n",
    "    X_train, y_train,\n",
    "    epochs=10,\n",
    "    batch_size=1024,\n",
    "    validation_split=0.2,\n",
    "    verbose=1\n",
    ")"
   ]
  },
  {
   "cell_type": "code",
   "execution_count": 23,
   "metadata": {},
   "outputs": [
    {
     "data": {
      "text/plain": [
       "<matplotlib.legend.Legend at 0x15017e760>"
      ]
     },
     "execution_count": 23,
     "metadata": {},
     "output_type": "execute_result"
    },
    {
     "data": {
      "image/png": "[encoded data removed]",
      "text/plain": [
       "<Figure size 640x480 with 1 Axes>"
      ]
     },
     "metadata": {},
     "output_type": "display_data"
    }
   ],
   "source": [
    "plt.plot(history.history['loss'], label='train')\n",
    "plt.plot(history.history['val_loss'], label='validation')\n",
    "plt.legend()"
   ]
  },
  {
   "cell_type": "markdown",
   "metadata": {},
   "source": [
    "### **6. Đánh giá mô hình**"
   ]
  },
  {
   "cell_type": "code",
   "execution_count": 25,
   "metadata": {},
   "outputs": [
    {
     "name": "stdout",
     "output_type": "stream",
     "text": [
      "\u001b[1m338/338\u001b[0m \u001b[32m━━━━━━━━━━━━━━━━━━━━\u001b[0m\u001b[37m\u001b[0m \u001b[1m102s\u001b[0m 302ms/step - accuracy: 0.9939 - loss: 0.0290\n",
      "\n",
      "Đánh giá trên tập test:\n",
      "Test Accuracy: 0.9939\n",
      "Test Loss: 0.0297\n",
      "\n",
      "Báo cáo phân loại:\n",
      "              precision    recall  f1-score   support\n",
      "\n",
      "         dos       1.00      1.00      1.00    117438\n",
      "      normal       0.98      0.99      0.99     29183\n",
      "       probe       0.86      0.89      0.88      1232\n",
      "         r2l       0.00      0.00      0.00       338\n",
      "         u2r       0.00      0.00      0.00        16\n",
      "\n",
      "    accuracy                           0.99    148207\n",
      "   macro avg       0.57      0.58      0.57    148207\n",
      "weighted avg       0.99      0.99      0.99    148207\n",
      "\n"
     ]
    },
    {
     "name": "stderr",
     "output_type": "stream",
     "text": [
      "/Users/tranthehuuphuc/Desktop/.venv/lib/python3.9/site-packages/sklearn/metrics/_classification.py:1565: UndefinedMetricWarning: Precision is ill-defined and being set to 0.0 in labels with no predicted samples. Use `zero_division` parameter to control this behavior.\n",
      "  _warn_prf(average, modifier, f\"{metric.capitalize()} is\", len(result))\n",
      "/Users/tranthehuuphuc/Desktop/.venv/lib/python3.9/site-packages/sklearn/metrics/_classification.py:1565: UndefinedMetricWarning: Precision is ill-defined and being set to 0.0 in labels with no predicted samples. Use `zero_division` parameter to control this behavior.\n",
      "  _warn_prf(average, modifier, f\"{metric.capitalize()} is\", len(result))\n",
      "/Users/tranthehuuphuc/Desktop/.venv/lib/python3.9/site-packages/sklearn/metrics/_classification.py:1565: UndefinedMetricWarning: Precision is ill-defined and being set to 0.0 in labels with no predicted samples. Use `zero_division` parameter to control this behavior.\n",
      "  _warn_prf(average, modifier, f\"{metric.capitalize()} is\", len(result))\n"
     ]
    }
   ],
   "source": [
    "score1 = model.evaluate(X_train, y_train, batch_size=1024)\n",
    "\n",
    "print(\"\\nĐánh giá trên tập test:\")\n",
    "test_loss, test_acc = model.evaluate(X_test, y_test, verbose=0)\n",
    "print(f\"Test Accuracy: {test_acc:.4f}\")\n",
    "print(f\"Test Loss: {test_loss:.4f}\")\n",
    "\n",
    "print(\"\\nBáo cáo phân loại:\")\n",
    "y_pred = model.predict(X_test, verbose=0)\n",
    "y_pred_classes = np.argmax(y_pred, axis=1)\n",
    "print(metrics.classification_report(y_test, y_pred_classes, \n",
    "                                    target_names=label_encoder.classes_))"
   ]
  },
  {
   "cell_type": "markdown",
   "metadata": {},
   "source": [
    "## **Yêu Cầu 2: Sinh viên chạy lại tập dữ liệu [CIC IoT dataset 2023](https://www.unb.ca/cic/datasets/iotdataset-2023.html) trên mô hình bài lab này ở cả Multiclass Classification và Binary Classification**"
   ]
  },
  {
   "cell_type": "code",
   "execution_count": 3,
   "metadata": {},
   "outputs": [
    {
     "name": "stdout",
     "output_type": "stream",
     "text": [
      "Found 63 CSV files.\n",
      "Successfully processed: ./cic-iot-2023/Merged27.csv (shape: (720714, 40))\n",
      "Successfully processed: ./cic-iot-2023/Merged33.csv (shape: (793923, 40))\n",
      "Successfully processed: ./cic-iot-2023/Merged32.csv (shape: (704052, 40))\n",
      "Successfully processed: ./cic-iot-2023/Merged26.csv (shape: (878917, 40))\n",
      "Successfully processed: ./cic-iot-2023/Merged18.csv (shape: (714040, 40))\n",
      "Successfully processed: ./cic-iot-2023/Merged30.csv (shape: (695659, 40))\n",
      "Successfully processed: ./cic-iot-2023/Merged24.csv (shape: (743186, 40))\n",
      "Successfully processed: ./cic-iot-2023/Merged25.csv (shape: (700444, 40))\n",
      "Successfully processed: ./cic-iot-2023/Merged31.csv (shape: (682576, 40))\n",
      "Successfully processed: ./cic-iot-2023/Merged19.csv (shape: (701962, 40))\n",
      "Successfully processed: ./cic-iot-2023/Merged35.csv (shape: (920528, 40))\n",
      "Successfully processed: ./cic-iot-2023/Merged21.csv (shape: (692552, 40))\n",
      "Successfully processed: ./cic-iot-2023/Merged09.csv (shape: (678866, 40))\n",
      "Successfully processed: ./cic-iot-2023/Merged08.csv (shape: (712205, 40))\n",
      "Successfully processed: ./cic-iot-2023/Merged20.csv (shape: (719906, 40))\n",
      "Successfully processed: ./cic-iot-2023/Merged34.csv (shape: (899073, 40))\n",
      "Successfully processed: ./cic-iot-2023/Merged22.csv (shape: (739365, 40))\n",
      "Successfully processed: ./cic-iot-2023/Merged36.csv (shape: (743291, 40))\n",
      "Successfully processed: ./cic-iot-2023/Merged37.csv (shape: (688848, 40))\n",
      "Successfully processed: ./cic-iot-2023/Merged23.csv (shape: (688454, 40))\n",
      "Successfully processed: ./cic-iot-2023/Merged44.csv (shape: (725917, 40))\n",
      "Successfully processed: ./cic-iot-2023/Merged50.csv (shape: (601076, 40))\n",
      "Successfully processed: ./cic-iot-2023/Merged51.csv (shape: (214389, 40))\n",
      "Successfully processed: ./cic-iot-2023/Merged45.csv (shape: (673531, 40))\n",
      "Successfully processed: ./cic-iot-2023/Merged53.csv (shape: (907065, 40))\n",
      "Successfully processed: ./cic-iot-2023/Merged47.csv (shape: (657618, 40))\n",
      "Successfully processed: ./cic-iot-2023/Merged46.csv (shape: (678316, 40))\n",
      "Successfully processed: ./cic-iot-2023/Merged52.csv (shape: (65722, 40))\n",
      "Successfully processed: ./cic-iot-2023/Merged56.csv (shape: (743819, 40))\n",
      "Successfully processed: ./cic-iot-2023/Merged42.csv (shape: (871707, 40))\n",
      "Successfully processed: ./cic-iot-2023/Merged43.csv (shape: (692196, 40))\n",
      "Successfully processed: ./cic-iot-2023/Merged57.csv (shape: (865280, 40))\n",
      "Successfully processed: ./cic-iot-2023/Merged41.csv (shape: (712830, 40))\n",
      "Successfully processed: ./cic-iot-2023/Merged55.csv (shape: (754767, 40))\n",
      "Successfully processed: ./cic-iot-2023/Merged54.csv (shape: (727419, 40))\n",
      "Successfully processed: ./cic-iot-2023/Merged40.csv (shape: (696677, 40))\n",
      "Successfully processed: ./cic-iot-2023/Merged59.csv (shape: (687171, 40))\n",
      "Successfully processed: ./cic-iot-2023/Merged58.csv (shape: (709614, 40))\n",
      "Successfully processed: ./cic-iot-2023/Merged63.csv (shape: (428151, 40))\n",
      "Successfully processed: ./cic-iot-2023/Merged62.csv (shape: (701496, 40))\n",
      "Successfully processed: ./cic-iot-2023/Merged60.csv (shape: (691558, 40))\n",
      "Successfully processed: ./cic-iot-2023/Merged48.csv (shape: (657609, 40))\n",
      "Successfully processed: ./cic-iot-2023/Merged49.csv (shape: (642724, 40))\n",
      "Successfully processed: ./cic-iot-2023/Merged61.csv (shape: (711566, 40))\n",
      "Successfully processed: ./cic-iot-2023/Merged06.csv (shape: (718217, 40))\n",
      "Successfully processed: ./cic-iot-2023/Merged12.csv (shape: (896922, 40))\n",
      "Successfully processed: ./cic-iot-2023/Merged13.csv (shape: (709919, 40))\n",
      "Successfully processed: ./cic-iot-2023/Merged07.csv (shape: (702195, 40))\n",
      "Successfully processed: ./cic-iot-2023/Merged39.csv (shape: (677103, 40))\n",
      "Successfully processed: ./cic-iot-2023/Merged11.csv (shape: (909744, 40))\n",
      "Successfully processed: ./cic-iot-2023/Merged05.csv (shape: (744790, 40))\n",
      "Successfully processed: ./cic-iot-2023/Merged04.csv (shape: (676597, 40))\n",
      "Successfully processed: ./cic-iot-2023/Merged10.csv (shape: (916175, 40))\n",
      "Successfully processed: ./cic-iot-2023/Merged38.csv (shape: (729568, 40))\n",
      "Successfully processed: ./cic-iot-2023/Merged14.csv (shape: (902900, 40))\n",
      "Successfully processed: ./cic-iot-2023/Merged28.csv (shape: (706366, 40))\n",
      "Successfully processed: ./cic-iot-2023/Merged29.csv (shape: (717491, 40))\n",
      "Successfully processed: ./cic-iot-2023/Merged01.csv (shape: (712297, 40))\n",
      "Successfully processed: ./cic-iot-2023/Merged15.csv (shape: (718467, 40))\n",
      "Successfully processed: ./cic-iot-2023/Merged03.csv (shape: (697272, 40))\n",
      "Successfully processed: ./cic-iot-2023/Merged17.csv (shape: (731519, 40))\n",
      "Successfully processed: ./cic-iot-2023/Merged16.csv (shape: (765350, 40))\n",
      "Successfully processed: ./cic-iot-2023/Merged02.csv (shape: (748572, 40))\n",
      "\n",
      "Combined DataFrame shape: (45018243, 40)\n"
     ]
    },
    {
     "ename": "",
     "evalue": "",
     "output_type": "error",
     "traceback": [
      "\u001b[1;31mThe Kernel crashed while executing code in the current cell or a previous cell. \n",
      "\u001b[1;31mPlease review the code in the cell(s) to identify a possible cause of the failure. \n",
      "\u001b[1;31mClick <a href='https://aka.ms/vscodeJupyterKernelCrash'>here</a> for more info. \n",
      "\u001b[1;31mView Jupyter <a href='command:jupyter.viewOutput'>log</a> for further details."
     ]
    }
   ],
   "source": [
    "folder_path = \"./cic-iot-2023/\"\n",
    "\n",
    "# Check if folder exists\n",
    "if not os.path.exists(folder_path):\n",
    "    print(f\"Folder {folder_path} does not exist.\")\n",
    "    raise FileNotFoundError(f\"Folder {folder_path} does not exist.\")\n",
    "\n",
    "# Get list of all .csv files\n",
    "csv_files = glob.glob(os.path.join(folder_path, '*.csv'))\n",
    "print(f\"Found {len(csv_files)} CSV files.\")\n",
    "\n",
    "# Initialize an empty list to store DataFrames\n",
    "dfs = []\n",
    "\n",
    "# Read each CSV file with optimizations\n",
    "for file in csv_files:\n",
    "    try:\n",
    "        # Read CSV with specific dtypes to reduce memory usage\n",
    "        df_temp = pd.read_csv(file, low_memory=False)\n",
    "        \n",
    "        # Drop 'Unnamed: 0' if it exists\n",
    "        if 'Unnamed: 0' in df_temp.columns:\n",
    "            df_temp.drop('Unnamed: 0', axis=1, inplace=True)\n",
    "        \n",
    "        # Replace inf/-inf with NaN and drop NaN rows\n",
    "        df_temp.replace([np.inf, -np.inf], np.nan, inplace=True)\n",
    "        df_temp.dropna(inplace=True)\n",
    "        \n",
    "        dfs.append(df_temp)\n",
    "        print(f\"Successfully processed: {file} (shape: {df_temp.shape})\")\n",
    "    except Exception as e:\n",
    "        print(f\"Error processing {file}: {e}\")\n",
    "\n",
    "# Combine all DataFrames\n",
    "if dfs:\n",
    "    df = pd.concat(dfs, ignore_index=True)\n",
    "    print(f\"\\nCombined DataFrame shape: {df.shape}\")\n",
    "    \n",
    "    # Final data cleaning on combined DataFrame\n",
    "    if 'Unnamed: 0' in df.columns:  # Double-check for 'Unnamed: 0'\n",
    "        df.drop('Unnamed: 0', axis=1, inplace=True)\n",
    "    \n",
    "    # Replace inf/-inf with NaN and drop NaN rows\n",
    "    df.replace([np.inf, -np.inf], np.nan, inplace=True)\n",
    "    df.dropna(inplace=True)\n",
    "    \n",
    "    print(f\"Final DataFrame shape after cleaning: {df.shape}\")\n",
    "\n",
    "    print(df.head())\n",
    "else:\n",
    "    print(\"No valid CSV files found in the specified folder.\")\n",
    "    df = pd.DataFrame()\n",
    "\n",
    "# Display final shape\n",
    "print(f\"\\nFinal DataFrame shape: {df.shape}\")"
   ]
  },
  {
   "cell_type": "code",
   "execution_count": null,
   "metadata": {},
   "outputs": [],
   "source": [
    "X = df.drop('Label', axis=1, inplace=True)\n",
    "y = df['Label']"
   ]
  },
  {
   "cell_type": "code",
   "execution_count": null,
   "metadata": {},
   "outputs": [],
   "source": [
    "numeric_cols = X.select_dtypes(include=[np.number]).columns\n",
    "X = X[numeric_cols]\n",
    "\n",
    "for col in X.columns:\n",
    "    if X[col].std() != 0:\n",
    "        X[col] = (X[col] - X[col].mean()) / X[col].std()"
   ]
  },
  {
   "cell_type": "code",
   "execution_count": null,
   "metadata": {},
   "outputs": [],
   "source": [
    "y_binary = (y!='Normal').astype(int)\n",
    "\n",
    "X_train, X_test, y_train, y_test = train_test_split(X, y_binary, test_size=0.3, random_state=42)\n",
    "\n",
    "model = keras.Sequential()\n",
    "model.add(keras.layers.GRU(units=64, input_shape=(x_train.shape[1],1)))\n",
    "model.add(keras.layers.Dropout(rate=0.8))\n",
    "model.add(keras.layers.Dense(units=y_train.shape[1], activation='sigmoid'))\n",
    "\n",
    "print(\"Model architecture:\")\n",
    "model.compile(loss='binary_crossentropy', optimizer='adam', metrics=['accuracy'])\n",
    "model.summary()\n",
    "\n",
    "\n",
    "print(\"Training model on CIC IoT dataset...\")\n",
    "history = model.fit(\n",
    "    X_train, y_train,\n",
    "    epochs=2,\n",
    "    batch_size=1024,\n",
    "    validation_split=0.2,\n",
    "    shuffle=False\n",
    ")\n",
    "\n",
    "print(\"Plotting training history...\")\n",
    "plt.plot(history.history['loss'], label='train')\n",
    "plt.plot(history.history['val_loss'], label='validation')\n",
    "plt.legend()\n",
    "\n",
    "print(\"Evaluating model...\")\n",
    "score1 = model.evaluate(x_train, y_train, batch_size=1024)"
   ]
  },
  {
   "cell_type": "code",
   "execution_count": null,
   "metadata": {},
   "outputs": [],
   "source": [
    "label_encoder = LabelEncoder()\n",
    "y_encoded = label_encoder.fit_transform(y)\n",
    "\n",
    "X_train, X_test, y_train, y_test = train_test_split(\n",
    "    df, y_encoded, test_size=0.3, random_state=42, stratify=y_encoded\n",
    ")\n",
    "\n",
    "model = keras.Sequential([\n",
    "    keras.layers.Reshape((X_train.shape[1], 1), input_shape=(X_train.shape[1],)),\n",
    "    keras.layers.GRU(units=128, return_sequences=True),\n",
    "    keras.layers.Dropout(0.3),\n",
    "    keras.layers.GRU(units=64),\n",
    "    keras.layers.Dropout(0.5),\n",
    "    keras.layers.Dense(units=32, activation='relu'),\n",
    "    keras.layers.Dropout(0.3),\n",
    "    keras.layers.Dense(units=label_encoder.classes_, activation='softmax')\n",
    "])\n",
    "\n",
    "model.compile(\n",
    "    loss='sparse_categorical_crossentropy',\n",
    "    optimizer='adam',\n",
    "    metrics=['accuracy']\n",
    ")\n",
    "\n",
    "print(\"Model architecture:\")\n",
    "model.summary()\n",
    "\n",
    "print(\"Training model on CIC IoT dataset...\")\n",
    "history = model.fit(\n",
    "    X_train, y_train,\n",
    "    epochs=10,\n",
    "    batch_size=1024,\n",
    "    validation_split=0.2,\n",
    "    verbose=1\n",
    ")\n",
    "\n",
    "print(\"Plotting training history...\")\n",
    "plt.plot(history.history['loss'], label='train')\n",
    "plt.plot(history.history['val_loss'], label='validation')\n",
    "plt.legend()\n",
    "\n",
    "print(\"Evaluating model...\")\n",
    "score1 = model.evaluate(x_train, y_train, batch_size=1024)"
   ]
  }
 ],
 "metadata": {
  "accelerator": "GPU",
  "colab": {
   "provenance": [],
   "toc_visible": true
  },
  "gpuClass": "standard",
  "kernelspec": {
   "display_name": ".venv",
   "language": "python",
   "name": "python3"
  },
  "language_info": {
   "codemirror_mode": {
    "name": "ipython",
    "version": 3
   },
   "file_extension": ".py",
   "mimetype": "text/x-python",
   "name": "python",
   "nbconvert_exporter": "python",
   "pygments_lexer": "ipython3",
   "version": "3.9.6"
  }
 },
 "nbformat": 4,
 "nbformat_minor": 0
}
